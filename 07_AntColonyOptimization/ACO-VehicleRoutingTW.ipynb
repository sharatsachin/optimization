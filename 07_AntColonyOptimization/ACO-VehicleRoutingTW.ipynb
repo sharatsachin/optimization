{
 "metadata": {
  "language_info": {
   "codemirror_mode": {
    "name": "ipython",
    "version": 3
   },
   "file_extension": ".py",
   "mimetype": "text/x-python",
   "name": "python",
   "nbconvert_exporter": "python",
   "pygments_lexer": "ipython3",
   "version": "3.9.1-final"
  },
  "orig_nbformat": 2,
  "kernelspec": {
   "name": "python391jvsc74a57bd0972951680f70378456cfab88c359e072bd45c934348f4a76cceadaff542d740e",
   "display_name": "Python 3.9.1 64-bit"
  },
  "metadata": {
   "interpreter": {
    "hash": "972951680f70378456cfab88c359e072bd45c934348f4a76cceadaff542d740e"
   }
  }
 },
 "nbformat": 4,
 "nbformat_minor": 2,
 "cells": [
  {
   "source": [
    "# ACO - Vehicle Routing Problem with Capacity and Time Windows"
   ],
   "cell_type": "markdown",
   "metadata": {}
  },
  {
   "cell_type": "code",
   "execution_count": 1,
   "metadata": {},
   "outputs": [],
   "source": [
    "from math import dist\n",
    "from tqdm import tqdm\n",
    "import copy\n",
    "import matplotlib.pyplot as plt\n",
    "import numpy as np\n",
    "import pandas as pd\n",
    "import random\n",
    "import seaborn as sns"
   ]
  },
  {
   "source": [
    "## Prepare data and graph, visualization of data points"
   ],
   "cell_type": "markdown",
   "metadata": {}
  },
  {
   "cell_type": "code",
   "execution_count": 2,
   "metadata": {},
   "outputs": [],
   "source": [
    "class Graph:\n",
    "    def __init__(self, x, y, n_depots) -> None:\n",
    "        self.n = n = len(x)\n",
    "        self.x = np.array(x, dtype=float)\n",
    "        self.y = np.array(y, dtype=float)\n",
    "        self.edges = np.zeros(shape=(n,n), dtype=float)\n",
    "\n",
    "        for i in range(self.n):\n",
    "            for j in range(self.n):\n",
    "                self.edges[i,j] = dist([x[i], y[i]], [x[j], y[j]])\n",
    "\n",
    "        xf = 10000\n",
    "        # high distance from one point to itself\n",
    "        for i in range(self.n):\n",
    "            self.edges[i,i] = xf\n",
    "            \n",
    "        # high distance from one depot to another depot\n",
    "        for i in range(n_depots):\n",
    "            for j in range(n_depots):\n",
    "                self.edges[i,j] = xf"
   ]
  },
  {
   "cell_type": "code",
   "execution_count": 3,
   "metadata": {},
   "outputs": [],
   "source": [
    "def get_location_data():\n",
    "    with open('rcdata/r103.txt', 'r', encoding = 'utf-8') as f:\n",
    "        [f.readline() for i in range(4)]\n",
    "        n_locations = 100\n",
    "        max_vehicles, max_capacity = [int(x) for x in f.readline().split()]\n",
    "        data = []\n",
    "        [f.readline() for i in range(4)]\n",
    "        for i in range(n_locations + 1):\n",
    "            data.append([float(x) for x in f.readline().split()[1:]])\n",
    "\n",
    "    # uncomment to see plot\n",
    "    # data = np.array(data)\n",
    "    # dataT = data.T\n",
    "    # a = pd.DataFrame({'x':dataT[0], 'y':dataT[1] , 'd':dataT[2]})\n",
    "    # sns.scatterplot(data=a, x='x', y='y', size='d', palette=\"deep\")\n",
    "    return data, n_locations, max_vehicles, max_capacity"
   ]
  },
  {
   "cell_type": "code",
   "execution_count": 4,
   "metadata": {},
   "outputs": [],
   "source": [
    "def insert_duplicate_depots(depots_to_add):\n",
    "    data, n_locations, max_vehicles, max_capacity = get_location_data()\n",
    "    data = np.append(np.repeat([data[0]], depots_to_add, axis=0), data, axis=0)\n",
    "    return data, n_locations, max_vehicles, max_capacity"
   ]
  },
  {
   "cell_type": "code",
   "execution_count": 5,
   "metadata": {},
   "outputs": [],
   "source": [
    "def create_graph(n_vehicles):\n",
    "    n_depots = n_vehicles + 1 # IMPORTANT\n",
    "    data, n_locations, max_vehicles, max_capacity = insert_duplicate_depots(n_depots - 1)\n",
    "    dataT = data.T\n",
    "    graph = Graph(dataT[0], dataT[1], n_depots)\n",
    "    return data, graph, n_locations, n_depots, max_vehicles, max_capacity "
   ]
  },
  {
   "cell_type": "code",
   "execution_count": 6,
   "metadata": {},
   "outputs": [],
   "source": [
    "n_vehicles = 10\n",
    "data, graph, n_locations, n_depots, max_vehicles, max_capacity = create_graph(n_vehicles)"
   ]
  },
  {
   "cell_type": "code",
   "execution_count": 7,
   "metadata": {},
   "outputs": [
    {
     "output_type": "stream",
     "name": "stdout",
     "text": [
      "(111, 6) (111, 111) 100 11 25 200\n"
     ]
    },
    {
     "output_type": "execute_result",
     "data": {
      "text/plain": [
       "array([[ 35.,  35.,   0.,   0., 230.,   0.],\n",
       "       [ 35.,  35.,   0.,   0., 230.,   0.],\n",
       "       [ 35.,  35.,   0.,   0., 230.,   0.],\n",
       "       [ 35.,  35.,   0.,   0., 230.,   0.],\n",
       "       [ 35.,  35.,   0.,   0., 230.,   0.],\n",
       "       [ 35.,  35.,   0.,   0., 230.,   0.],\n",
       "       [ 35.,  35.,   0.,   0., 230.,   0.],\n",
       "       [ 35.,  35.,   0.,   0., 230.,   0.],\n",
       "       [ 35.,  35.,   0.,   0., 230.,   0.],\n",
       "       [ 35.,  35.,   0.,   0., 230.,   0.],\n",
       "       [ 35.,  35.,   0.,   0., 230.,   0.],\n",
       "       [ 41.,  49.,  10.,   0., 204.,  10.],\n",
       "       [ 35.,  17.,   7.,   0., 202.,  10.],\n",
       "       [ 55.,  45.,  13.,   0., 197.,  10.],\n",
       "       [ 55.,  20.,  19., 149., 159.,  10.],\n",
       "       [ 15.,  30.,  26.,   0., 199.,  10.],\n",
       "       [ 25.,  30.,   3.,  99., 109.,  10.],\n",
       "       [ 20.,  50.,   5.,   0., 198.,  10.],\n",
       "       [ 10.,  43.,   9.,  95., 105.,  10.],\n",
       "       [ 55.,  60.,  16.,  97., 107.,  10.]])"
      ]
     },
     "metadata": {},
     "execution_count": 7
    }
   ],
   "source": [
    "print(data.shape, graph.edges.shape, n_locations, n_depots, max_vehicles, max_capacity)\n",
    "data[:20]"
   ]
  },
  {
   "cell_type": "code",
   "execution_count": 8,
   "metadata": {},
   "outputs": [
    {
     "output_type": "execute_result",
     "data": {
      "text/plain": [
       "array([[1.00000000e+04, 1.00000000e+04, 1.00000000e+04, ...,\n",
       "        2.12602916e+01, 1.74928557e+01, 2.40416306e+01],\n",
       "       [1.00000000e+04, 1.00000000e+04, 1.00000000e+04, ...,\n",
       "        2.12602916e+01, 1.74928557e+01, 2.40416306e+01],\n",
       "       [1.00000000e+04, 1.00000000e+04, 1.00000000e+04, ...,\n",
       "        2.12602916e+01, 1.74928557e+01, 2.40416306e+01],\n",
       "       ...,\n",
       "       [2.12602916e+01, 2.12602916e+01, 2.12602916e+01, ...,\n",
       "        1.00000000e+04, 5.09901951e+00, 3.16227766e+00],\n",
       "       [1.74928557e+01, 1.74928557e+01, 1.74928557e+01, ...,\n",
       "        5.09901951e+00, 1.00000000e+04, 8.24621125e+00],\n",
       "       [2.40416306e+01, 2.40416306e+01, 2.40416306e+01, ...,\n",
       "        3.16227766e+00, 8.24621125e+00, 1.00000000e+04]])"
      ]
     },
     "metadata": {},
     "execution_count": 8
    }
   ],
   "source": [
    "assert(data.shape[0] == n_locations + n_depots and data.shape[1] == 6)\n",
    "assert(graph.edges.shape[0] == n_locations + n_depots and graph.edges.shape[1] == graph.edges.shape[0])\n",
    "\n",
    "graph.edges"
   ]
  },
  {
   "cell_type": "code",
   "execution_count": null,
   "metadata": {},
   "outputs": [],
   "source": []
  },
  {
   "cell_type": "code",
   "execution_count": null,
   "metadata": {},
   "outputs": [],
   "source": []
  },
  {
   "cell_type": "code",
   "execution_count": null,
   "metadata": {},
   "outputs": [],
   "source": []
  },
  {
   "cell_type": "code",
   "execution_count": null,
   "metadata": {},
   "outputs": [],
   "source": []
  },
  {
   "cell_type": "code",
   "execution_count": null,
   "metadata": {},
   "outputs": [],
   "source": []
  },
  {
   "cell_type": "code",
   "execution_count": null,
   "metadata": {},
   "outputs": [],
   "source": []
  },
  {
   "source": [
    "## Objective function"
   ],
   "cell_type": "markdown",
   "metadata": {}
  },
  {
   "cell_type": "code",
   "execution_count": 9,
   "metadata": {},
   "outputs": [],
   "source": [
    "def maco_objective(tour, n_locations, n_depots, data, graph, max_capacity):\n",
    "    \n",
    "    curr_time, curr_dist, curr_load = 0, 0, 0\n",
    "\n",
    "    for i in range(len(tour)-1):\n",
    "\n",
    "        ni, nj = tour[i], tour[i+1]\n",
    "        tij = dist([data[ni,0], data[ni,1]], [data[nj,0], data[nj,1]])\n",
    "        curr_dist += tij\n",
    "\n",
    "        # not necessary, just checking correctness\n",
    "        if nj < n_depots:   # destination location is a depot\n",
    "            curr_time, curr_load = 0, 0\n",
    "\n",
    "        else:               # destination location is a client location\n",
    "            curr_load += data[nj,2]\n",
    "            curr_time = max(curr_time + tij, data[nj,3])\n",
    "            assert(data[nj,3] <= curr_time <= data[nj,4])\n",
    "            assert(curr_load <= max_capacity)\n",
    "            curr_time += data[nj,5]\n",
    "        \n",
    "    assert(tour[0] < n_depots and tour[-1] < n_depots)\n",
    "    \n",
    "    return curr_dist"
   ]
  },
  {
   "source": [
    "## Ant Definition"
   ],
   "cell_type": "markdown",
   "metadata": {}
  },
  {
   "cell_type": "code",
   "execution_count": 10,
   "metadata": {},
   "outputs": [],
   "source": [
    "class Ant:\n",
    "    def __init__(self, tour, n_locations, n_depots, data, graph, max_capacity) -> None:\n",
    "        self.tour = tour\n",
    "        self.cost = maco_objective(tour, n_locations, n_depots, data, graph, max_capacity)\n",
    "        self.veh = sum([x < n_depots for x in tour]) - 1 # CHECK LATER\n",
    "        # clients visited\n",
    "        self.visi = len(set(tour)) - (self.veh + 1) # CHECK LATER\n",
    "\n",
    "    def __repr__(self) -> str:\n",
    "        return f'Ant(tour={self.tour}, o={self.cost}, veh={self.veh}, visi={self.visi})'\n",
    "\n",
    "    def __lt__(self, other):\n",
    "        return self.cost < other.cost"
   ]
  },
  {
   "source": [
    "## Calculating feasible solution"
   ],
   "cell_type": "markdown",
   "metadata": {}
  },
  {
   "cell_type": "code",
   "execution_count": 11,
   "metadata": {},
   "outputs": [
    {
     "output_type": "stream",
     "name": "stdout",
     "text": [
      "Ant(tour=[0, 83, 88, 1, 57, 58, 56, 42, 110, 2, 119, 36, 124, 125, 127, 89, 123, 126, 3, 70, 51, 103, 102, 104, 105, 32, 4, 43, 67, 128, 5, 82, 48, 90, 113, 114, 35, 91, 115, 121, 130, 6, 99, 31, 80, 107, 33, 7, 106, 98, 59, 54, 8, 61, 118, 37, 112, 78, 77, 49, 93, 9, 129, 46, 116, 47, 10, 122, 117, 87, 73, 44, 11, 100, 12, 84, 85, 55, 13, 63, 111, 39, 81, 50, 62, 120, 14, 34, 15, 60, 40, 101, 16, 72, 45, 71, 86, 17, 92, 41, 79, 76, 18, 109, 64, 65, 19, 38, 20, 52, 21, 75, 74, 68, 22, 108, 96, 23, 69, 53, 97, 24, 66, 94, 25, 95, 26], o=1966.5661118342036, veh=26, visi=100)\n"
     ]
    }
   ],
   "source": [
    "def feasible_initial_solution(n_locations, n_depots, graph, data, max_capacity):\n",
    "    tour = [0]\n",
    "    vis = np.zeros(n_locations + n_depots)\n",
    "    vis[0] = 1\n",
    "    load, curr_time = 0, 0\n",
    "    next_depot = 1\n",
    "\n",
    "    while np.sum(vis[-n_locations:]) < n_locations: # while all client locations are yet to be visited\n",
    "        last = tour[-1]\n",
    "        mins = np.argsort(graph.edges[last])\n",
    "        # print(graph.edges[last])\n",
    "        # print(mins)\n",
    "        # print(tour)\n",
    "        for x in mins:\n",
    "            # considering only unvisited client locations\n",
    "            if (x >= n_depots and not vis[x] and curr_time + graph.edges[last,x] <= data[x,4]\n",
    "                and load + data[x, 2] <= max_capacity):\n",
    "                curr_time = max(curr_time + graph.edges[last][x], data[x, 3])\n",
    "                curr_time += data[x,5]\n",
    "                load += data[x, 2]\n",
    "                tour.append(x)\n",
    "                vis[x] = 1\n",
    "                break\n",
    "        else:\n",
    "            # if no valid unvisited client locations, return to depot and start new cycle\n",
    "            curr_time = 0\n",
    "            load = 0\n",
    "            tour.append(next_depot)\n",
    "            vis[next_depot] = 1\n",
    "            next_depot += 1 \n",
    "    if tour[-1] >= n_depots:\n",
    "        tour.append(next_depot)\n",
    "    sol = Ant(tour, n_locations, n_depots, data, graph, max_capacity)\n",
    "    return sol\n",
    "\n",
    "n_vehicles = 30\n",
    "data, graph, n_locations, n_depots, max_vehicles, max_capacity = create_graph(n_vehicles)\n",
    "psi_fis = feasible_initial_solution(n_locations, n_depots, graph, data, max_capacity)\n",
    "print(psi_fis)"
   ]
  },
  {
   "source": [
    "## ACO Vehicle function"
   ],
   "cell_type": "markdown",
   "metadata": {}
  },
  {
   "cell_type": "code",
   "execution_count": 12,
   "metadata": {},
   "outputs": [
    {
     "output_type": "stream",
     "name": "stdout",
     "text": [
      "Ant(tour=[0, 63, 68, 1, 37, 38, 36, 50, 31, 83, 82, 84, 85, 12, 2, 99, 16, 104, 105, 107, 69, 103, 106, 3, 23, 47, 108, 4, 62, 28, 70, 93, 94, 15, 71, 26, 101, 110, 5, 79, 11, 60, 87, 13, 6, 22, 90, 7, 86, 78, 39, 34, 8, 41, 98, 17, 92, 58, 57, 29, 73, 9, 109, 95, 24, 53, 67, 10], o=632.5893948187688, veh=10, visi=57)\n"
     ]
    }
   ],
   "source": [
    "def infeasible_solution(n_locations, n_depots, n_vehicles, graph, data, max_capacity):\n",
    "    tour = [0]\n",
    "    vis = np.zeros(n_locations + n_depots)\n",
    "    vis[0] = 1\n",
    "    load, curr_time = 0, 0\n",
    "    next_depot = 1\n",
    "\n",
    "    while np.sum(vis[-n_locations:]) < n_locations: # while all client locations are yet to be visited\n",
    "        last = tour[-1]\n",
    "        mins = np.argsort(graph.edges[last])\n",
    "        \n",
    "        for x in mins:\n",
    "            # considering only unvisited client locations\n",
    "            if (x >= n_depots and not vis[x] and curr_time + graph.edges[last,x] <= data[x,4]\n",
    "                and load + data[x, 2] <= max_capacity):\n",
    "                curr_time = max(curr_time + graph.edges[last][x], data[x, 3])\n",
    "                curr_time += data[x,5]\n",
    "                load += data[x, 2]\n",
    "                tour.append(x)\n",
    "                vis[x] = 1\n",
    "                break\n",
    "        else:\n",
    "            # if no valid unvisited client locations, return to depot and start new cycle\n",
    "            curr_time = 0\n",
    "            load = 0\n",
    "            tour.append(next_depot)\n",
    "            vis[next_depot] = 1\n",
    "            next_depot += 1 \n",
    "            if next_depot == n_depots:\n",
    "                break\n",
    "    if tour[-1] >= n_depots:\n",
    "        tour.append(next_depot)\n",
    "    sol = Ant(tour, n_locations, n_depots, data, graph, max_capacity)\n",
    "    return sol\n",
    "\n",
    "n_vehicles = 10\n",
    "data, graph, n_locations, n_depots, max_vehicles, max_capacity = create_graph(n_vehicles)\n",
    "psi_is = infeasible_solution(n_locations, n_depots, n_vehicles, graph, data, max_capacity)\n",
    "print(psi_is)"
   ]
  },
  {
   "cell_type": "code",
   "execution_count": 13,
   "metadata": {},
   "outputs": [],
   "source": [
    "def valid_tour(tour, n_locations, n_depots, data, graph, max_capacity):\n",
    "    \n",
    "    curr_time, curr_dist, curr_load = 0, 0, 0\n",
    "\n",
    "    for i in range(len(tour)-1):\n",
    "\n",
    "        ni, nj = tour[i], tour[i+1]\n",
    "        tij = dist([data[ni,0], data[ni,1]], [data[nj,0], data[nj,1]])\n",
    "        curr_dist += tij\n",
    "\n",
    "        # not necessary, just checking correctness\n",
    "        if nj < n_depots:   # destination location is a depot\n",
    "            curr_time, curr_load = 0, 0\n",
    "\n",
    "        else:               # destination location is a client location\n",
    "            curr_load += data[nj,2]\n",
    "            curr_time = max(curr_time + tij, data[nj,3])\n",
    "            if not (data[nj,3] <= curr_time <= data[nj,4]):\n",
    "                return False\n",
    "            if not(curr_load <= max_capacity):\n",
    "                return False\n",
    "            curr_time += data[nj,5]\n",
    "        \n",
    "    if not (tour[0] < n_depots and tour[-1] < n_depots):\n",
    "        return False    \n",
    "        \n",
    "    return True"
   ]
  },
  {
   "cell_type": "code",
   "execution_count": 14,
   "metadata": {},
   "outputs": [],
   "source": [
    "def new_active_ant(local, incom, n_locations, n_depots, n_vehicles, data, graph, tau, tau0, beta, max_capacity, rho):\n",
    "\n",
    "    # print(data.shape, graph.edges.shape)\n",
    "    inc = incom.copy()\n",
    "\n",
    "    tour = [np.random.choice(n_depots)]\n",
    "    curr_time, curr_load = 0, 0\n",
    "\n",
    "    vis = np.zeros(n_locations + n_depots)\n",
    "    vis[tour[0]] = 1\n",
    "    eta = np.full(n_locations + n_depots, 0.00001)\n",
    "\n",
    "    # first insertion of nodes by ACO\n",
    "    feasible_node = True\n",
    "    while feasible_node:\n",
    "\n",
    "        feasible_node = False\n",
    "        last = tour[-1]\n",
    "        for x in range(n_locations + n_depots):\n",
    "            if (not vis[x] and curr_time + graph.edges[last,x] <= data[x,4]\n",
    "                    and curr_load + data[x, 2] <= max_capacity):\n",
    "                feasible_node = True\n",
    "                deliv_time = max(curr_time + graph.edges[last,x], data[x, 3])\n",
    "                delta_time = deliv_time - curr_time\n",
    "                distance = delta_time * (data[x,4] - curr_time)\n",
    "                # print(distance)\n",
    "                distance = max(1, distance - inc[x])\n",
    "                eta[x] = 1 / distance\n",
    "            else:\n",
    "                eta[x] = 0\n",
    "\n",
    "        if not feasible_node:\n",
    "            break\n",
    "\n",
    "        probs = (tau[last]) * (eta ** beta)\n",
    "        probs = probs / np.sum(probs)\n",
    "        \n",
    "        next = np.random.choice(n_locations + n_depots, p=probs)\n",
    "        tour.append(next)\n",
    "        vis[next] = 1\n",
    "\n",
    "        curr_time = max(curr_time + graph.edges[last][x], data[x, 3])\n",
    "        curr_time += data[x,5]\n",
    "\n",
    "        curr_load += data[x, 2]\n",
    "        # print('A', tour)\n",
    "\n",
    "        tau[last][next] = (1 - rho) * tau[last][next] + rho * tau0\n",
    "    \n",
    "    # print('B', tour)\n",
    "\n",
    "    # there still may remain some non inserted nodes\n",
    "    for x in range(n_locations + n_depots):\n",
    "        if not vis[x]:\n",
    "            for g in range(1, len(tour) + 1):\n",
    "                tc = tour.copy()\n",
    "                tc.insert(g, x)\n",
    "                if valid_tour(tc, n_locations, n_depots, data, graph, max_capacity):\n",
    "                    tour = tc\n",
    "                    vis[x] = 1\n",
    "                    break\n",
    "    \n",
    "    sol = Ant(tour, n_locations, n_depots, data, graph, max_capacity)\n",
    "    return sol"
   ]
  },
  {
   "cell_type": "code",
   "execution_count": 15,
   "metadata": {},
   "outputs": [],
   "source": [
    "# n_vehicles = 10\n",
    "# data, graph, n_locations, n_depots, max_vehicles, max_capacity = create_graph(n_vehicles)\n",
    "# incom = np.zeros(n_locations + n_depots)\n",
    "# tau0 = 10/np.sum(graph.edges)\n",
    "# tau = np.full(graph.edges.shape, tau0)\n",
    "# beta = 1\n",
    "# rho = 0.25\n",
    "# local = False\n",
    "# new_active_ant(local, incom, n_locations, n_depots, n_vehicles, data, graph, tau, tau0, beta, max_capacity, rho)"
   ]
  },
  {
   "cell_type": "code",
   "execution_count": 16,
   "metadata": {},
   "outputs": [],
   "source": [
    "# def aco_vehicle(n_vehicles, n_ants, psi_gb, beta, rho):\n",
    "def aco_vehicle(n_vehicles, n_ants, beta, rho):\n",
    "    global psi_gb\n",
    "\n",
    "    n_depots = n_vehicles + 1\n",
    "    data, graph, n_locations, n_depots, max_vehicles, max_capacity = create_graph(n_vehicles)\n",
    "    tau0 = 10/np.sum(graph.edges)\n",
    "    tau = np.full(graph.edges.shape, tau0)\n",
    "\n",
    "    # initial solution, may be infeasible\n",
    "    psi_vei = infeasible_solution(n_locations, n_depots, n_vehicles, graph, data, max_capacity)\n",
    "    # print(psi_vei)\n",
    "\n",
    "    incom = np.zeros(n_locations + n_depots)\n",
    "    for i in tqdm(range(10)):\n",
    "        ants = [None for i in range(n_ants)]\n",
    "\n",
    "        for i in range(n_ants):\n",
    "            local = False\n",
    "            ants[i] = new_active_ant(local, incom, n_locations, n_depots, \n",
    "                                    n_vehicles, data, graph, tau, tau0, \n",
    "                                    beta, max_capacity, rho)\n",
    "            for x in ants[i].tour:\n",
    "                incom[x] += 1\n",
    " \n",
    "        for i in range(n_ants):\n",
    "            if ants[i].visi > psi_vei.visi:\n",
    "                psi_vei = copy.deepcopy(ants[i])\n",
    "                incom = np.zeros(n_locations + n_depots)\n",
    "                if ants[i].visi == n_locations:\n",
    "                    psi_gb = copy.deepcopy(ants[i])\n",
    "            \n",
    "        # updating tau values\n",
    "        tau = (1-rho) * tau\n",
    "        for j in range(len(psi_vei.tour) - 1):\n",
    "            cur, nxt = psi_vei.tour[j:j+2]\n",
    "            tau[cur][nxt] += 1/psi_vei.cost\n",
    "            tau[nxt][cur] += 1/psi_vei.cost\n",
    "        for j in range(len(psi_gb.tour) - 1):\n",
    "            cur, nxt = psi_gb.tour[j:j+2]\n",
    "            if cur < tau.shape[0] and nxt < tau.shape[0]:\n",
    "                tau[cur][nxt] += 1/psi_gb.cost\n",
    "                tau[nxt][cur] += 1/psi_gb.cost\n",
    "\n",
    "    return psi_vei"
   ]
  },
  {
   "cell_type": "code",
   "execution_count": 17,
   "metadata": {},
   "outputs": [],
   "source": [
    "# n_vehicles = 17\n",
    "# beta = 1\n",
    "# rho = 0.25\n",
    "# n_ants = 20\n",
    "\n",
    "# aco_vehicle(n_vehicles, n_ants, psi_fis, beta, rho)"
   ]
  },
  {
   "source": [
    "## ACO Time function"
   ],
   "cell_type": "markdown",
   "metadata": {}
  },
  {
   "cell_type": "code",
   "execution_count": 18,
   "metadata": {},
   "outputs": [],
   "source": [
    "# def aco_time(n_vehicles, n_ants, psi_gb, beta, rho):\n",
    "def aco_time(n_vehicles, n_ants, beta, rho):\n",
    "    global psi_gb\n",
    "\n",
    "    # psi_gb.cost = 10000\n",
    "    n_depots = n_vehicles + 1\n",
    "    data, graph, n_locations, n_depots, max_vehicles, max_capacity = create_graph(n_vehicles)\n",
    "    tau0 = 10/np.sum(graph.edges)\n",
    "    tau = np.full(graph.edges.shape, tau0)\n",
    "\n",
    "    incom = np.zeros(n_locations + n_depots)\n",
    "    for i in tqdm(range(10)):\n",
    "        ants = [None for i in range(n_ants)]\n",
    "\n",
    "        for i in range(n_ants):\n",
    "            local = False\n",
    "            ants[i] = new_active_ant(local, incom, n_locations, n_depots, \n",
    "                                    n_vehicles, data, graph, tau, tau0, \n",
    "                                    beta, max_capacity, rho)\n",
    " \n",
    "        for i in range(n_ants):\n",
    "            # print(len(ants[i].tour), ants[i].cost)\n",
    "            if len(ants[i].tour) == n_locations + n_depots and ants[i].cost < psi_gb.cost:\n",
    "                psi_gb = ants[i]\n",
    "            \n",
    "        # updating tau values\n",
    "        tau = (1-rho) * tau\n",
    "        # print(psi_gb)\n",
    "        for j in range(len(psi_gb.tour) - 1):\n",
    "            cur, nxt = psi_gb.tour[j:j+2]\n",
    "            if cur < tau.shape[0] and nxt < tau.shape[0]:\n",
    "                tau[cur][nxt] += 1/psi_gb.cost\n",
    "                tau[nxt][cur] += 1/psi_gb.cost\n",
    "\n",
    "    return psi_gb"
   ]
  },
  {
   "cell_type": "code",
   "execution_count": 19,
   "metadata": {},
   "outputs": [],
   "source": [
    "# n_vehicles = 19\n",
    "# beta = 1\n",
    "# rho = 0.25\n",
    "# n_ants = 20\n",
    "\n",
    "# aco_time(n_vehicles, n_ants, psi_fis, beta, rho)"
   ]
  },
  {
   "source": [
    "## Higher level multiple ACO function"
   ],
   "cell_type": "markdown",
   "metadata": {}
  },
  {
   "cell_type": "code",
   "execution_count": 20,
   "metadata": {},
   "outputs": [],
   "source": [
    "def maco_vrptw(n_ants, beta, rho):\n",
    "    \n",
    "    veh = psi_gb.veh\n",
    "    for i in range(30):\n",
    "\n",
    "        for i in range(10):\n",
    "            psi1 = aco_vehicle(veh - 1, n_ants, beta, rho)\n",
    "            print(psi1)\n",
    "            if psi1.veh <= veh and psi1.visi == 100:\n",
    "                veh = psi1.veh\n",
    "                break\n",
    "            psi2 = aco_time(veh, n_ants, beta, rho)\n",
    "            print(psi2)\n",
    "        \n",
    "    return psi_gb"
   ]
  },
  {
   "cell_type": "code",
   "execution_count": 21,
   "metadata": {},
   "outputs": [
    {
     "output_type": "stream",
     "name": "stderr",
     "text": [
      "100%|██████████| 10/10 [00:41<00:00,  4.16s/it]\n",
      "  0%|          | 0/10 [00:00<?, ?it/s]Ant(tour=[23, 30, 28, 37, 27, 29, 26, 25, 32, 39, 31, 41, 38, 114, 43, 24, 51, 44, 33, 35, 57, 45, 53, 22, 46, 49, 34, 42, 62, 21, 56, 73, 36, 59, 54, 50, 20, 67, 68, 40, 47, 71, 72, 19, 79, 64, 48, 100, 60, 76, 75, 18, 106, 58, 55, 74, 107, 77, 83, 17, 61, 78, 80, 97, 82, 16, 70, 69, 63, 86, 85, 84, 98, 15, 88, 65, 81, 95, 14, 108, 94, 66, 93, 102, 13, 115, 87, 96, 91, 105, 12, 119, 89, 99, 110, 11, 90, 103, 116, 111, 10, 117, 120, 92, 123, 122, 121, 118, 9, 101, 104, 125, 8, 113, 109, 7, 112, 6, 124, 5, 4, 3, 2, 0, 52, 1], o=2821.5484974673004, veh=25, visi=100)\n",
      "100%|██████████| 10/10 [00:42<00:00,  4.27s/it]\n",
      "  0%|          | 0/10 [00:00<?, ?it/s]Ant(tour=[11, 29, 27, 36, 26, 28, 25, 24, 31, 38, 30, 40, 37, 113, 42, 23, 50, 43, 32, 34, 56, 44, 52, 22, 45, 48, 33, 41, 61, 21, 76, 51, 35, 55, 53, 49, 20, 81, 67, 39, 46, 74, 58, 18, 78, 63, 47, 59, 75, 94, 17, 105, 57, 54, 73, 72, 71, 70, 16, 60, 77, 79, 97, 96, 82, 15, 69, 68, 62, 85, 106, 84, 83, 14, 87, 64, 99, 80, 98, 104, 13, 107, 93, 65, 92, 101, 12, 114, 86, 95, 90, 117, 10, 118, 88, 115, 110, 109, 119, 9, 89, 102, 122, 121, 120, 8, 116, 91, 124, 7, 100, 103, 6, 112, 108, 5, 111, 4, 123, 3, 2, 1, 0, 66, 19], o=2746.3107674861803, veh=24, visi=100)\n",
      "100%|██████████| 10/10 [00:41<00:00,  4.19s/it]\n",
      "  0%|          | 0/10 [00:00<?, ?it/s]Ant(tour=[18, 28, 26, 35, 25, 27, 24, 23, 30, 37, 29, 39, 36, 117, 41, 22, 49, 42, 31, 33, 55, 43, 51, 21, 44, 47, 32, 40, 60, 19, 75, 50, 34, 54, 52, 48, 17, 65, 66, 38, 45, 73, 57, 16, 77, 62, 46, 58, 74, 93, 15, 104, 56, 53, 72, 71, 70, 69, 14, 59, 76, 78, 80, 81, 13, 68, 67, 61, 84, 83, 82, 96, 12, 86, 63, 95, 79, 98, 97, 116, 11, 105, 92, 64, 91, 100, 10, 106, 85, 113, 94, 89, 103, 9, 118, 87, 114, 109, 108, 8, 88, 101, 121, 120, 119, 7, 115, 90, 123, 6, 99, 102, 5, 111, 107, 4, 110, 3, 122, 2, 1, 0, 112, 20], o=2711.423196782477, veh=23, visi=100)\n",
      "100%|██████████| 10/10 [00:45<00:00,  4.53s/it]\n",
      "  0%|          | 0/10 [00:00<?, ?it/s]Ant(tour=[18, 27, 25, 34, 24, 26, 23, 22, 29, 36, 28, 38, 35, 111, 40, 20, 48, 41, 30, 32, 54, 42, 50, 19, 43, 46, 31, 39, 59, 17, 64, 65, 37, 44, 51, 47, 16, 76, 61, 45, 56, 57, 53, 15, 72, 49, 52, 71, 70, 69, 68, 14, 73, 55, 62, 75, 77, 74, 13, 58, 79, 78, 81, 80, 12, 67, 66, 60, 83, 82, 92, 11, 104, 91, 63, 85, 10, 105, 84, 93, 88, 94, 9, 112, 86, 90, 97, 95, 8, 87, 103, 100, 96, 102, 7, 107, 89, 116, 99, 6, 113, 98, 101, 108, 115, 5, 114, 117, 110, 106, 120, 119, 118, 122, 4, 109, 3, 121, 2, 1, 0, 33, 21], o=2892.540398657088, veh=22, visi=100)\n",
      "100%|██████████| 10/10 [00:46<00:00,  4.66s/it]\n",
      "  0%|          | 0/10 [00:00<?, ?it/s]Ant(tour=[8, 26, 24, 33, 23, 25, 22, 21, 28, 35, 27, 37, 34, 110, 39, 20, 47, 40, 29, 31, 41, 71, 49, 19, 42, 45, 30, 38, 58, 18, 73, 48, 32, 52, 50, 46, 17, 63, 64, 36, 43, 72, 55, 16, 75, 60, 44, 102, 56, 79, 15, 54, 51, 70, 69, 68, 67, 14, 57, 74, 76, 93, 78, 13, 66, 65, 59, 82, 81, 80, 94, 12, 84, 61, 96, 77, 91, 11, 103, 90, 62, 89, 98, 10, 104, 83, 111, 92, 87, 101, 9, 115, 85, 95, 106, 6, 86, 99, 112, 107, 5, 113, 116, 88, 119, 118, 117, 114, 4, 97, 100, 121, 3, 109, 105, 2, 108, 1, 120, 0, 53, 7], o=2881.9346595492043, veh=21, visi=100)\n",
      "100%|██████████| 10/10 [00:57<00:00,  5.74s/it]\n",
      "  0%|          | 0/10 [00:00<?, ?it/s]Ant(tour=[2, 25, 23, 32, 22, 24, 21, 20, 27, 34, 26, 36, 33, 109, 38, 19, 46, 39, 28, 30, 52, 40, 48, 18, 41, 44, 29, 37, 57, 17, 72, 47, 31, 70, 49, 45, 16, 62, 63, 35, 42, 71, 54, 15, 74, 59, 43, 101, 55, 78, 14, 53, 50, 69, 68, 67, 66, 13, 56, 73, 75, 92, 77, 12, 65, 64, 58, 81, 80, 79, 93, 11, 83, 60, 95, 76, 90, 10, 102, 89, 61, 88, 97, 9, 103, 82, 110, 91, 86, 100, 8, 114, 84, 94, 105, 7, 85, 98, 111, 106, 6, 112, 115, 87, 118, 117, 116, 113, 5, 96, 99, 120, 4, 108, 104, 1, 107, 0, 119, 51, 3], o=2844.5621510849237, veh=20, visi=100)\n",
      "100%|██████████| 10/10 [01:00<00:00,  6.08s/it]\n",
      "  0%|          | 0/10 [00:00<?, ?it/s]Ant(tour=[9, 24, 22, 31, 21, 23, 20, 18, 26, 33, 25, 35, 32, 108, 37, 17, 47, 50, 38, 27, 29, 51, 39, 69, 16, 40, 43, 28, 36, 56, 15, 71, 46, 30, 70, 48, 44, 14, 61, 62, 34, 41, 73, 87, 53, 13, 91, 58, 42, 94, 54, 77, 12, 100, 52, 49, 68, 67, 66, 65, 11, 55, 72, 74, 92, 76, 10, 64, 63, 57, 80, 101, 79, 78, 8, 82, 59, 75, 89, 7, 102, 88, 60, 90, 6, 109, 81, 107, 85, 96, 5, 113, 83, 93, 99, 4, 84, 97, 105, 104, 3, 110, 86, 116, 115, 114, 112, 2, 111, 117, 95, 98, 119, 1, 118, 103, 0, 106, 45, 19], o=2820.6214936873935, veh=19, visi=100)\n",
      "100%|██████████| 10/10 [00:41<00:00,  4.11s/it]\n",
      "  0%|          | 0/10 [00:00<?, ?it/s]Ant(tour=[17, 23, 21, 30, 20, 22, 19, 18, 25, 32, 24, 34, 31, 107, 36, 16, 44, 37, 26, 28, 50, 38, 46, 15, 39, 42, 27, 35, 55, 14, 70, 45, 29, 49, 47, 43, 13, 72, 57, 41, 93, 40, 68, 52, 12, 69, 51, 48, 81, 53, 76, 11, 54, 66, 65, 64, 75, 61, 10, 77, 60, 62, 56, 79, 78, 88, 9, 101, 63, 58, 71, 73, 91, 90, 8, 100, 87, 59, 74, 92, 98, 7, 108, 80, 106, 67, 89, 6, 112, 82, 84, 99, 95, 5, 83, 96, 86, 103, 4, 109, 85, 104, 111, 3, 110, 113, 94, 97, 116, 115, 114, 2, 117, 102, 118, 1, 33, 105, 0], o=2624.1395874414907, veh=18, visi=100)\n",
      "100%|██████████| 10/10 [00:46<00:00,  4.61s/it]\n",
      "  0%|          | 0/10 [00:00<?, ?it/s]Ant(tour=[14, 22, 20, 29, 19, 21, 18, 16, 54, 31, 32, 23, 33, 30, 35, 69, 15, 43, 36, 25, 27, 49, 37, 45, 13, 38, 41, 26, 34, 75, 12, 106, 44, 28, 48, 46, 42, 11, 71, 56, 40, 92, 39, 67, 51, 10, 68, 50, 47, 80, 52, 87, 9, 53, 65, 64, 63, 74, 60, 8, 76, 59, 61, 55, 78, 77, 90, 89, 7, 100, 62, 57, 70, 72, 94, 6, 99, 86, 58, 73, 91, 97, 5, 107, 79, 105, 66, 88, 4, 111, 81, 83, 98, 3, 82, 95, 85, 102, 2, 108, 84, 103, 110, 1, 109, 112, 93, 96, 115, 114, 113, 0, 116, 101, 24, 117, 17], o=2585.4387013821656, veh=17, visi=99)\n",
      "100%|██████████| 10/10 [00:55<00:00,  5.50s/it]\n",
      "  0%|          | 0/10 [00:00<?, ?it/s]Ant(tour=[18, 25, 23, 30, 21, 22, 39, 20, 16, 55, 32, 33, 24, 34, 31, 36, 70, 15, 44, 37, 26, 28, 50, 38, 46, 14, 47, 42, 52, 27, 35, 76, 13, 107, 45, 29, 49, 68, 43, 72, 12, 90, 57, 41, 40, 61, 66, 11, 69, 51, 48, 81, 53, 88, 10, 54, 82, 67, 65, 64, 78, 77, 9, 60, 109, 62, 56, 79, 103, 91, 75, 8, 101, 63, 58, 71, 73, 93, 112, 7, 100, 87, 59, 74, 92, 98, 6, 108, 80, 89, 84, 99, 95, 5, 83, 96, 86, 111, 4, 110, 113, 85, 114, 104, 3, 116, 115, 94, 97, 118, 2, 106, 102, 1, 105, 0, 117, 19, 17], o=2451.9291502712535, veh=18, visi=100)\n",
      "100%|██████████| 10/10 [00:45<00:00,  4.59s/it]\n",
      "  0%|          | 0/10 [00:00<?, ?it/s]Ant(tour=[11, 24, 22, 29, 20, 21, 38, 19, 17, 54, 31, 32, 23, 33, 30, 35, 69, 16, 43, 36, 25, 27, 49, 37, 45, 15, 46, 41, 51, 26, 34, 75, 14, 106, 44, 28, 48, 67, 42, 71, 13, 89, 56, 40, 39, 60, 65, 12, 68, 50, 47, 80, 52, 88, 98, 10, 53, 81, 66, 64, 63, 77, 76, 9, 59, 108, 61, 55, 78, 102, 90, 74, 8, 100, 62, 57, 70, 72, 92, 111, 7, 99, 86, 58, 73, 91, 97, 6, 107, 79, 105, 83, 94, 5, 82, 95, 85, 110, 4, 109, 112, 84, 113, 103, 3, 115, 114, 93, 96, 117, 2, 116, 101, 1, 104, 87, 18, 0], o=2407.3080503341166, veh=17, visi=100)\n",
      "100%|██████████| 10/10 [00:52<00:00,  5.28s/it]\n",
      "  0%|          | 0/10 [00:00<?, ?it/s]Ant(tour=[6, 23, 21, 28, 19, 20, 37, 18, 16, 53, 30, 31, 22, 32, 29, 34, 68, 15, 42, 35, 24, 26, 48, 36, 44, 14, 45, 40, 50, 25, 33, 74, 13, 105, 43, 27, 47, 66, 41, 70, 12, 88, 55, 39, 38, 59, 64, 11, 67, 49, 46, 79, 51, 87, 97, 10, 52, 80, 65, 63, 62, 76, 75, 9, 58, 107, 60, 54, 77, 101, 89, 73, 8, 99, 61, 56, 69, 71, 91, 110, 7, 98, 85, 57, 72, 90, 96, 5, 106, 78, 104, 82, 93, 4, 81, 94, 84, 109, 3, 108, 111, 83, 112, 102, 2, 114, 113, 92, 95, 116, 1, 115, 100, 86, 17, 0], o=2361.6103531162835, veh=16, visi=99)\n",
      "100%|██████████| 10/10 [00:46<00:00,  4.62s/it]\n",
      "  0%|          | 0/10 [00:00<?, ?it/s]Ant(tour=[11, 24, 22, 29, 20, 21, 38, 19, 17, 54, 31, 32, 23, 33, 30, 35, 69, 16, 43, 36, 25, 27, 49, 37, 45, 15, 46, 41, 51, 26, 34, 75, 14, 106, 44, 28, 48, 67, 42, 71, 13, 89, 56, 40, 39, 60, 65, 12, 68, 50, 47, 80, 52, 88, 98, 10, 53, 81, 66, 64, 63, 77, 76, 9, 59, 108, 61, 55, 78, 102, 90, 74, 8, 100, 62, 57, 70, 72, 92, 111, 7, 99, 86, 58, 73, 91, 97, 6, 107, 79, 105, 83, 94, 5, 82, 95, 85, 110, 4, 109, 112, 84, 113, 103, 3, 115, 114, 93, 96, 117, 2, 116, 101, 1, 104, 87, 18, 0], o=2407.3080503341166, veh=17, visi=100)\n",
      "100%|██████████| 10/10 [00:48<00:00,  4.89s/it]\n",
      "  0%|          | 0/10 [00:00<?, ?it/s]Ant(tour=[11, 23, 21, 28, 19, 20, 37, 18, 15, 53, 30, 31, 22, 32, 29, 34, 68, 14, 42, 35, 24, 26, 48, 36, 44, 13, 45, 40, 50, 25, 33, 74, 12, 105, 43, 27, 47, 66, 41, 70, 10, 88, 55, 39, 38, 59, 64, 9, 67, 49, 46, 79, 51, 86, 8, 52, 80, 65, 63, 62, 76, 75, 7, 58, 107, 60, 54, 77, 101, 89, 73, 6, 99, 61, 56, 69, 71, 91, 110, 5, 98, 85, 57, 72, 90, 96, 4, 106, 78, 87, 82, 97, 93, 3, 81, 94, 84, 109, 2, 108, 111, 83, 112, 102, 1, 114, 113, 92, 95, 116, 0, 104, 100, 17, 16], o=2377.1765802081018, veh=16, visi=98)\n",
      "100%|██████████| 10/10 [00:53<00:00,  5.37s/it]\n",
      "  0%|          | 0/10 [00:00<?, ?it/s]Ant(tour=[11, 24, 22, 29, 20, 21, 38, 19, 17, 54, 31, 32, 23, 33, 30, 35, 69, 16, 43, 36, 25, 27, 49, 37, 45, 15, 46, 41, 51, 26, 34, 75, 14, 106, 44, 28, 48, 67, 42, 71, 13, 89, 56, 40, 39, 60, 65, 12, 68, 50, 47, 80, 52, 88, 98, 10, 53, 81, 66, 64, 63, 77, 76, 9, 59, 108, 61, 55, 78, 102, 90, 74, 8, 100, 62, 57, 70, 72, 92, 111, 7, 99, 86, 58, 73, 91, 97, 6, 107, 79, 105, 83, 94, 5, 82, 95, 85, 110, 4, 109, 112, 84, 113, 103, 3, 115, 114, 93, 96, 117, 2, 116, 101, 1, 104, 87, 18, 0], o=2407.3080503341166, veh=17, visi=100)\n",
      "100%|██████████| 10/10 [00:52<00:00,  5.21s/it]\n",
      "  0%|          | 0/10 [00:00<?, ?it/s]Ant(tour=[15, 23, 21, 28, 19, 20, 37, 18, 14, 53, 30, 31, 22, 32, 29, 34, 68, 13, 42, 35, 24, 26, 48, 36, 44, 12, 45, 40, 50, 25, 33, 74, 11, 105, 43, 27, 47, 66, 41, 70, 10, 88, 55, 39, 38, 59, 64, 9, 67, 49, 46, 79, 51, 86, 8, 52, 80, 65, 63, 62, 76, 75, 7, 58, 107, 60, 54, 77, 101, 89, 73, 6, 99, 61, 56, 69, 71, 91, 110, 5, 98, 85, 57, 72, 90, 96, 4, 106, 78, 87, 82, 97, 93, 3, 81, 94, 84, 109, 2, 108, 111, 83, 112, 102, 1, 114, 113, 92, 95, 116, 0, 104, 100, 17, 16], o=2377.1765802081018, veh=16, visi=98)\n",
      "100%|██████████| 10/10 [00:43<00:00,  4.38s/it]\n",
      "  0%|          | 0/10 [00:00<?, ?it/s]Ant(tour=[11, 24, 22, 29, 20, 21, 38, 19, 17, 54, 31, 32, 23, 33, 30, 35, 69, 16, 43, 36, 25, 27, 49, 37, 45, 15, 46, 41, 51, 26, 34, 75, 14, 106, 44, 28, 48, 67, 42, 71, 13, 89, 56, 40, 39, 60, 65, 12, 68, 50, 47, 80, 52, 88, 98, 10, 53, 81, 66, 64, 63, 77, 76, 9, 59, 108, 61, 55, 78, 102, 90, 74, 8, 100, 62, 57, 70, 72, 92, 111, 7, 99, 86, 58, 73, 91, 97, 6, 107, 79, 105, 83, 94, 5, 82, 95, 85, 110, 4, 109, 112, 84, 113, 103, 3, 115, 114, 93, 96, 117, 2, 116, 101, 1, 104, 87, 18, 0], o=2407.3080503341166, veh=17, visi=100)\n",
      "100%|██████████| 10/10 [00:40<00:00,  4.03s/it]\n",
      "  0%|          | 0/10 [00:00<?, ?it/s]Ant(tour=[16, 23, 21, 28, 19, 20, 37, 18, 15, 53, 30, 31, 22, 32, 29, 34, 68, 14, 42, 35, 24, 26, 48, 36, 44, 13, 45, 40, 50, 25, 33, 74, 11, 105, 43, 27, 47, 66, 41, 70, 10, 88, 55, 39, 38, 59, 64, 9, 67, 49, 46, 79, 51, 86, 8, 52, 80, 65, 63, 62, 76, 75, 7, 58, 107, 60, 54, 77, 101, 89, 73, 6, 99, 61, 56, 69, 71, 91, 110, 5, 98, 85, 57, 72, 90, 96, 4, 106, 78, 87, 82, 97, 93, 3, 81, 94, 84, 109, 2, 108, 111, 83, 112, 102, 1, 114, 113, 92, 95, 116, 0, 104, 100, 17, 12], o=2377.1765802081018, veh=16, visi=98)\n",
      "100%|██████████| 10/10 [00:40<00:00,  4.02s/it]\n",
      "  0%|          | 0/10 [00:00<?, ?it/s]Ant(tour=[11, 24, 22, 29, 20, 21, 38, 19, 17, 54, 31, 32, 23, 33, 30, 35, 69, 16, 43, 36, 25, 27, 49, 37, 45, 15, 46, 41, 51, 26, 34, 75, 14, 106, 44, 28, 48, 67, 42, 71, 13, 89, 56, 40, 39, 60, 65, 12, 68, 50, 47, 80, 52, 88, 98, 10, 53, 81, 66, 64, 63, 77, 76, 9, 59, 108, 61, 55, 78, 102, 90, 74, 8, 100, 62, 57, 70, 72, 92, 111, 7, 99, 86, 58, 73, 91, 97, 6, 107, 79, 105, 83, 94, 5, 82, 95, 85, 110, 4, 109, 112, 84, 113, 103, 3, 115, 114, 93, 96, 117, 2, 116, 101, 1, 104, 87, 18, 0], o=2407.3080503341166, veh=17, visi=100)\n",
      "100%|██████████| 10/10 [00:39<00:00,  3.95s/it]\n",
      "  0%|          | 0/10 [00:00<?, ?it/s]Ant(tour=[16, 23, 21, 28, 19, 20, 37, 18, 14, 53, 30, 31, 22, 32, 29, 34, 68, 13, 42, 35, 24, 26, 48, 36, 44, 12, 45, 40, 50, 25, 33, 74, 11, 105, 43, 27, 47, 66, 41, 70, 10, 88, 55, 39, 38, 59, 64, 9, 67, 49, 46, 79, 51, 86, 8, 52, 80, 65, 63, 62, 76, 75, 7, 58, 107, 60, 54, 77, 101, 89, 73, 6, 99, 61, 56, 69, 71, 91, 110, 5, 98, 85, 57, 72, 90, 96, 4, 106, 78, 87, 82, 97, 93, 3, 81, 94, 84, 109, 2, 108, 111, 83, 112, 102, 1, 114, 113, 92, 95, 116, 0, 104, 100, 17, 15], o=2377.1765802081018, veh=16, visi=98)\n",
      "100%|██████████| 10/10 [00:41<00:00,  4.16s/it]\n",
      "  0%|          | 0/10 [00:00<?, ?it/s]Ant(tour=[11, 24, 22, 29, 20, 21, 38, 19, 17, 54, 31, 32, 23, 33, 30, 35, 69, 16, 43, 36, 25, 27, 49, 37, 45, 15, 46, 41, 51, 26, 34, 75, 14, 106, 44, 28, 48, 67, 42, 71, 13, 89, 56, 40, 39, 60, 65, 12, 68, 50, 47, 80, 52, 88, 98, 10, 53, 81, 66, 64, 63, 77, 76, 9, 59, 108, 61, 55, 78, 102, 90, 74, 8, 100, 62, 57, 70, 72, 92, 111, 7, 99, 86, 58, 73, 91, 97, 6, 107, 79, 105, 83, 94, 5, 82, 95, 85, 110, 4, 109, 112, 84, 113, 103, 3, 115, 114, 93, 96, 117, 2, 116, 101, 1, 104, 87, 18, 0], o=2407.3080503341166, veh=17, visi=100)\n",
      "100%|██████████| 10/10 [00:41<00:00,  4.18s/it]\n",
      "  0%|          | 0/10 [00:00<?, ?it/s]Ant(tour=[16, 23, 21, 28, 19, 20, 37, 18, 15, 53, 30, 31, 22, 32, 29, 34, 68, 14, 42, 35, 24, 26, 48, 36, 44, 13, 45, 40, 50, 25, 33, 74, 12, 105, 43, 27, 47, 66, 41, 70, 11, 88, 55, 39, 38, 59, 64, 10, 67, 49, 46, 79, 51, 86, 9, 52, 80, 65, 63, 62, 76, 75, 8, 58, 107, 60, 54, 77, 101, 89, 73, 7, 99, 61, 56, 69, 71, 91, 110, 6, 98, 85, 57, 72, 90, 96, 5, 106, 78, 87, 82, 97, 93, 4, 81, 94, 84, 109, 3, 108, 111, 83, 112, 102, 2, 114, 113, 92, 95, 116, 0, 104, 100, 17, 1], o=2377.1765802081018, veh=16, visi=98)\n",
      "100%|██████████| 10/10 [00:44<00:00,  4.50s/it]\n",
      "  0%|          | 0/10 [00:00<?, ?it/s]Ant(tour=[11, 24, 22, 29, 20, 21, 38, 19, 17, 54, 31, 32, 23, 33, 30, 35, 69, 16, 43, 36, 25, 27, 49, 37, 45, 15, 46, 41, 51, 26, 34, 75, 14, 106, 44, 28, 48, 67, 42, 71, 13, 89, 56, 40, 39, 60, 65, 12, 68, 50, 47, 80, 52, 88, 98, 10, 53, 81, 66, 64, 63, 77, 76, 9, 59, 108, 61, 55, 78, 102, 90, 74, 8, 100, 62, 57, 70, 72, 92, 111, 7, 99, 86, 58, 73, 91, 97, 6, 107, 79, 105, 83, 94, 5, 82, 95, 85, 110, 4, 109, 112, 84, 113, 103, 3, 115, 114, 93, 96, 117, 2, 116, 101, 1, 104, 87, 18, 0], o=2407.3080503341166, veh=17, visi=100)\n",
      "100%|██████████| 10/10 [00:51<00:00,  5.15s/it]\n",
      "  0%|          | 0/10 [00:00<?, ?it/s]Ant(tour=[10, 23, 21, 28, 19, 20, 37, 18, 16, 53, 30, 31, 22, 32, 29, 34, 68, 15, 42, 35, 24, 26, 48, 36, 44, 14, 45, 40, 50, 25, 33, 74, 13, 105, 43, 27, 47, 70, 41, 12, 88, 55, 39, 38, 59, 64, 11, 67, 49, 46, 79, 51, 86, 9, 52, 80, 65, 63, 62, 76, 75, 8, 58, 107, 60, 54, 77, 101, 89, 73, 7, 99, 61, 56, 69, 71, 91, 110, 6, 98, 85, 57, 72, 90, 96, 5, 106, 78, 87, 82, 97, 93, 4, 81, 94, 84, 109, 3, 108, 111, 83, 112, 102, 2, 114, 113, 92, 95, 116, 1, 104, 100, 66, 17, 0], o=2384.148460349069, veh=16, visi=98)\n",
      "100%|██████████| 10/10 [00:58<00:00,  5.81s/it]\n",
      "  0%|          | 0/10 [00:00<?, ?it/s]Ant(tour=[11, 24, 22, 29, 20, 21, 38, 19, 17, 54, 31, 32, 23, 33, 30, 35, 69, 16, 43, 36, 25, 27, 49, 37, 45, 15, 46, 41, 51, 26, 34, 75, 14, 106, 44, 28, 48, 67, 42, 71, 13, 89, 56, 40, 39, 60, 65, 12, 68, 50, 47, 80, 52, 88, 98, 10, 53, 81, 66, 64, 63, 77, 76, 9, 59, 108, 61, 55, 78, 102, 90, 74, 8, 100, 62, 57, 70, 72, 92, 111, 7, 99, 86, 58, 73, 91, 97, 6, 107, 79, 105, 83, 94, 5, 82, 95, 85, 110, 4, 109, 112, 84, 113, 103, 3, 115, 114, 93, 96, 117, 2, 116, 101, 1, 104, 87, 18, 0], o=2407.3080503341166, veh=17, visi=100)\n",
      "100%|██████████| 10/10 [00:41<00:00,  4.11s/it]\n",
      "  0%|          | 0/10 [00:00<?, ?it/s]Ant(tour=[7, 23, 21, 28, 19, 20, 37, 18, 16, 53, 30, 31, 22, 32, 29, 34, 68, 15, 42, 35, 24, 26, 48, 36, 44, 14, 45, 40, 50, 25, 33, 74, 13, 105, 43, 27, 47, 70, 41, 12, 88, 55, 39, 38, 59, 64, 11, 67, 49, 46, 79, 51, 86, 10, 52, 80, 65, 63, 62, 76, 75, 9, 58, 107, 60, 54, 77, 101, 89, 73, 8, 99, 61, 56, 69, 71, 91, 110, 6, 98, 85, 57, 72, 90, 96, 5, 106, 78, 87, 82, 97, 93, 4, 81, 94, 84, 109, 3, 108, 111, 83, 112, 102, 2, 114, 113, 92, 95, 116, 1, 104, 100, 17, 66, 0], o=2381.477757047706, veh=16, visi=98)\n",
      "100%|██████████| 10/10 [00:45<00:00,  4.56s/it]\n",
      "  0%|          | 0/10 [00:00<?, ?it/s]Ant(tour=[11, 24, 22, 29, 20, 21, 38, 19, 17, 54, 31, 32, 23, 33, 30, 35, 69, 16, 43, 36, 25, 27, 49, 37, 45, 15, 46, 41, 51, 26, 34, 75, 14, 106, 44, 28, 48, 67, 42, 71, 13, 89, 56, 40, 39, 60, 65, 12, 68, 50, 47, 80, 52, 88, 98, 10, 53, 81, 66, 64, 63, 77, 76, 9, 59, 108, 61, 55, 78, 102, 90, 74, 8, 100, 62, 57, 70, 72, 92, 111, 7, 99, 86, 58, 73, 91, 97, 6, 107, 79, 105, 83, 94, 5, 82, 95, 85, 110, 4, 109, 112, 84, 113, 103, 3, 115, 114, 93, 96, 117, 2, 116, 101, 1, 104, 87, 18, 0], o=2407.3080503341166, veh=17, visi=100)\n",
      "100%|██████████| 10/10 [00:48<00:00,  4.84s/it]\n",
      "  0%|          | 0/10 [00:00<?, ?it/s]Ant(tour=[16, 23, 21, 28, 19, 20, 37, 18, 15, 53, 30, 31, 22, 32, 29, 34, 68, 14, 42, 35, 24, 26, 47, 36, 13, 45, 40, 50, 25, 33, 74, 12, 105, 43, 27, 48, 66, 41, 11, 70, 55, 39, 38, 59, 64, 10, 67, 49, 46, 79, 51, 86, 9, 52, 80, 65, 63, 62, 76, 75, 8, 58, 107, 60, 54, 77, 88, 73, 7, 99, 61, 56, 69, 71, 91, 89, 6, 98, 85, 57, 72, 90, 96, 5, 106, 78, 87, 82, 97, 93, 4, 81, 94, 84, 101, 3, 108, 110, 83, 102, 109, 2, 112, 111, 92, 95, 114, 113, 116, 1, 104, 100, 17, 44, 0], o=2390.4852209671376, veh=16, visi=98)\n",
      "100%|██████████| 10/10 [00:45<00:00,  4.53s/it]\n",
      "  0%|          | 0/10 [00:00<?, ?it/s]Ant(tour=[11, 24, 22, 29, 20, 21, 38, 19, 17, 54, 31, 32, 23, 33, 30, 35, 69, 16, 43, 36, 25, 27, 49, 37, 45, 15, 46, 41, 51, 26, 34, 75, 14, 106, 44, 28, 48, 67, 42, 71, 13, 89, 56, 40, 39, 60, 65, 12, 68, 50, 47, 80, 52, 88, 98, 10, 53, 81, 66, 64, 63, 77, 76, 9, 59, 108, 61, 55, 78, 102, 90, 74, 8, 100, 62, 57, 70, 72, 92, 111, 7, 99, 86, 58, 73, 91, 97, 6, 107, 79, 105, 83, 94, 5, 82, 95, 85, 110, 4, 109, 112, 84, 113, 103, 3, 115, 114, 93, 96, 117, 2, 116, 101, 1, 104, 87, 18, 0], o=2407.3080503341166, veh=17, visi=100)\n",
      "100%|██████████| 10/10 [00:51<00:00,  5.14s/it]\n",
      "  0%|          | 0/10 [00:00<?, ?it/s]Ant(tour=[10, 23, 21, 28, 19, 20, 37, 18, 16, 53, 30, 31, 22, 32, 29, 34, 68, 15, 42, 35, 24, 26, 48, 36, 44, 14, 45, 40, 50, 25, 33, 74, 13, 105, 43, 27, 47, 66, 41, 70, 12, 88, 55, 39, 38, 59, 64, 11, 67, 49, 46, 79, 51, 87, 97, 9, 52, 80, 65, 63, 62, 76, 75, 8, 58, 107, 60, 54, 77, 101, 89, 73, 7, 99, 61, 56, 69, 71, 91, 110, 6, 98, 85, 57, 72, 90, 96, 5, 106, 78, 104, 82, 93, 4, 81, 94, 84, 109, 3, 108, 111, 83, 112, 102, 2, 114, 113, 92, 95, 116, 1, 115, 100, 86, 17, 0], o=2361.6103531162835, veh=16, visi=99)\n",
      "100%|██████████| 10/10 [01:02<00:00,  6.23s/it]\n",
      "  0%|          | 0/10 [00:00<?, ?it/s]Ant(tour=[11, 24, 22, 29, 20, 21, 38, 19, 17, 54, 31, 32, 23, 33, 30, 35, 69, 16, 43, 36, 25, 27, 49, 37, 45, 15, 46, 41, 51, 26, 34, 75, 14, 106, 44, 28, 48, 67, 42, 71, 13, 89, 56, 40, 39, 60, 65, 12, 68, 50, 47, 80, 52, 88, 98, 10, 53, 81, 66, 64, 63, 77, 76, 9, 59, 108, 61, 55, 78, 102, 90, 74, 8, 100, 62, 57, 70, 72, 92, 111, 7, 99, 86, 58, 73, 91, 97, 6, 107, 79, 105, 83, 94, 5, 82, 95, 85, 110, 4, 109, 112, 84, 113, 103, 3, 115, 114, 93, 96, 117, 2, 116, 101, 1, 104, 87, 18, 0], o=2407.3080503341166, veh=17, visi=100)\n",
      "100%|██████████| 10/10 [01:07<00:00,  6.76s/it]\n",
      "  0%|          | 0/10 [00:00<?, ?it/s]Ant(tour=[10, 23, 21, 28, 19, 20, 37, 18, 16, 53, 30, 31, 22, 32, 29, 34, 68, 15, 42, 35, 24, 26, 48, 36, 44, 14, 45, 40, 50, 25, 33, 74, 13, 105, 43, 27, 47, 70, 41, 12, 88, 55, 39, 38, 59, 64, 11, 67, 49, 46, 79, 51, 86, 9, 52, 80, 65, 63, 62, 76, 75, 8, 58, 107, 60, 54, 77, 101, 89, 73, 7, 99, 61, 56, 69, 71, 91, 110, 6, 98, 85, 57, 72, 90, 96, 5, 106, 78, 87, 82, 97, 93, 4, 81, 94, 84, 109, 3, 108, 111, 83, 112, 102, 2, 114, 113, 92, 95, 116, 1, 104, 100, 66, 17, 0], o=2384.148460349069, veh=16, visi=98)\n",
      "100%|██████████| 10/10 [01:15<00:00,  7.59s/it]\n",
      "  0%|          | 0/10 [00:00<?, ?it/s]Ant(tour=[11, 24, 22, 29, 20, 21, 38, 19, 17, 54, 31, 32, 23, 33, 30, 35, 69, 16, 43, 36, 25, 27, 49, 37, 45, 15, 46, 41, 51, 26, 34, 75, 14, 106, 44, 28, 48, 67, 42, 71, 13, 89, 56, 40, 39, 60, 65, 12, 68, 50, 47, 80, 52, 88, 98, 10, 53, 81, 66, 64, 63, 77, 76, 9, 59, 108, 61, 55, 78, 102, 90, 74, 8, 100, 62, 57, 70, 72, 92, 111, 7, 99, 86, 58, 73, 91, 97, 6, 107, 79, 105, 83, 94, 5, 82, 95, 85, 110, 4, 109, 112, 84, 113, 103, 3, 115, 114, 93, 96, 117, 2, 116, 101, 1, 104, 87, 18, 0], o=2407.3080503341166, veh=17, visi=100)\n",
      "100%|██████████| 10/10 [01:05<00:00,  6.52s/it]\n",
      "  0%|          | 0/10 [00:00<?, ?it/s]Ant(tour=[15, 23, 21, 28, 19, 20, 37, 18, 14, 53, 30, 31, 22, 32, 29, 34, 68, 13, 42, 35, 24, 26, 48, 36, 44, 12, 45, 40, 50, 25, 33, 74, 11, 105, 43, 27, 47, 66, 41, 70, 10, 88, 55, 39, 38, 59, 64, 9, 67, 49, 46, 79, 51, 86, 8, 52, 80, 65, 63, 62, 76, 75, 7, 58, 107, 60, 54, 77, 101, 89, 73, 6, 99, 61, 56, 69, 71, 91, 110, 5, 98, 85, 57, 72, 90, 96, 4, 106, 78, 87, 82, 97, 93, 3, 81, 94, 84, 109, 2, 108, 111, 83, 112, 102, 1, 114, 113, 92, 95, 116, 0, 104, 100, 17, 16], o=2377.1765802081018, veh=16, visi=98)\n",
      "100%|██████████| 10/10 [00:58<00:00,  5.88s/it]\n",
      "  0%|          | 0/10 [00:00<?, ?it/s]Ant(tour=[11, 24, 22, 29, 20, 21, 38, 19, 17, 54, 31, 32, 23, 33, 30, 35, 69, 16, 43, 36, 25, 27, 49, 37, 45, 15, 46, 41, 51, 26, 34, 75, 14, 106, 44, 28, 48, 67, 42, 71, 13, 89, 56, 40, 39, 60, 65, 12, 68, 50, 47, 80, 52, 88, 98, 10, 53, 81, 66, 64, 63, 77, 76, 9, 59, 108, 61, 55, 78, 102, 90, 74, 8, 100, 62, 57, 70, 72, 92, 111, 7, 99, 86, 58, 73, 91, 97, 6, 107, 79, 105, 83, 94, 5, 82, 95, 85, 110, 4, 109, 112, 84, 113, 103, 3, 115, 114, 93, 96, 117, 2, 116, 101, 1, 104, 87, 18, 0], o=2407.3080503341166, veh=17, visi=100)\n",
      "100%|██████████| 10/10 [00:55<00:00,  5.53s/it]\n",
      "  0%|          | 0/10 [00:00<?, ?it/s]Ant(tour=[8, 23, 21, 28, 19, 20, 37, 18, 16, 53, 30, 31, 22, 32, 29, 34, 68, 14, 42, 35, 24, 26, 48, 36, 44, 13, 45, 40, 50, 25, 33, 74, 12, 105, 43, 27, 47, 66, 41, 70, 11, 88, 55, 39, 38, 59, 64, 10, 67, 49, 46, 79, 51, 86, 9, 52, 80, 65, 63, 62, 76, 75, 7, 58, 107, 60, 54, 77, 101, 89, 73, 6, 99, 61, 56, 69, 71, 91, 110, 5, 98, 85, 57, 72, 90, 96, 4, 106, 78, 87, 82, 97, 93, 3, 81, 94, 84, 109, 2, 108, 111, 83, 112, 102, 1, 114, 113, 92, 95, 116, 0, 104, 100, 17, 15], o=2377.1765802081018, veh=16, visi=98)\n",
      "100%|██████████| 10/10 [01:07<00:00,  6.78s/it]\n",
      "  0%|          | 0/10 [00:00<?, ?it/s]Ant(tour=[11, 24, 22, 29, 20, 21, 38, 19, 17, 54, 31, 32, 23, 33, 30, 35, 69, 16, 43, 36, 25, 27, 49, 37, 45, 15, 46, 41, 51, 26, 34, 75, 14, 106, 44, 28, 48, 67, 42, 71, 13, 89, 56, 40, 39, 60, 65, 12, 68, 50, 47, 80, 52, 88, 98, 10, 53, 81, 66, 64, 63, 77, 76, 9, 59, 108, 61, 55, 78, 102, 90, 74, 8, 100, 62, 57, 70, 72, 92, 111, 7, 99, 86, 58, 73, 91, 97, 6, 107, 79, 105, 83, 94, 5, 82, 95, 85, 110, 4, 109, 112, 84, 113, 103, 3, 115, 114, 93, 96, 117, 2, 116, 101, 1, 104, 87, 18, 0], o=2407.3080503341166, veh=17, visi=100)\n",
      "100%|██████████| 10/10 [01:02<00:00,  6.29s/it]\n",
      "  0%|          | 0/10 [00:00<?, ?it/s]Ant(tour=[6, 23, 21, 28, 19, 20, 37, 18, 16, 53, 30, 31, 22, 32, 29, 34, 68, 15, 42, 35, 24, 26, 48, 36, 44, 14, 45, 40, 50, 25, 33, 74, 13, 105, 43, 27, 47, 70, 41, 12, 88, 55, 39, 38, 59, 64, 11, 67, 49, 46, 79, 51, 86, 10, 52, 80, 65, 63, 62, 76, 75, 9, 58, 107, 60, 54, 77, 101, 89, 73, 8, 99, 61, 56, 69, 71, 91, 110, 7, 98, 85, 57, 72, 90, 96, 5, 106, 78, 87, 82, 97, 93, 4, 81, 94, 84, 109, 3, 108, 111, 83, 112, 102, 2, 114, 113, 92, 95, 116, 1, 104, 100, 17, 66, 0], o=2381.477757047706, veh=16, visi=98)\n",
      "100%|██████████| 10/10 [01:03<00:00,  6.36s/it]\n",
      "  0%|          | 0/10 [00:00<?, ?it/s]Ant(tour=[11, 24, 22, 29, 20, 21, 38, 19, 17, 54, 31, 32, 23, 33, 30, 35, 69, 16, 43, 36, 25, 27, 49, 37, 45, 15, 46, 41, 51, 26, 34, 75, 14, 106, 44, 28, 48, 67, 42, 71, 13, 89, 56, 40, 39, 60, 65, 12, 68, 50, 47, 80, 52, 88, 98, 10, 53, 81, 66, 64, 63, 77, 76, 9, 59, 108, 61, 55, 78, 102, 90, 74, 8, 100, 62, 57, 70, 72, 92, 111, 7, 99, 86, 58, 73, 91, 97, 6, 107, 79, 105, 83, 94, 5, 82, 95, 85, 110, 4, 109, 112, 84, 113, 103, 3, 115, 114, 93, 96, 117, 2, 116, 101, 1, 104, 87, 18, 0], o=2407.3080503341166, veh=17, visi=100)\n",
      "100%|██████████| 10/10 [01:06<00:00,  6.69s/it]\n",
      "  0%|          | 0/10 [00:00<?, ?it/s]Ant(tour=[16, 23, 21, 28, 19, 20, 37, 18, 15, 53, 30, 31, 22, 32, 29, 34, 68, 14, 42, 35, 24, 26, 47, 36, 13, 45, 40, 50, 25, 33, 74, 12, 105, 43, 27, 48, 66, 41, 11, 70, 55, 39, 38, 59, 64, 10, 67, 49, 46, 79, 51, 86, 9, 52, 80, 65, 63, 62, 76, 75, 8, 58, 107, 60, 54, 77, 88, 73, 7, 99, 61, 56, 69, 71, 91, 89, 6, 98, 85, 57, 72, 90, 96, 5, 106, 78, 87, 82, 97, 93, 4, 81, 94, 84, 101, 3, 108, 110, 83, 102, 109, 2, 112, 111, 92, 95, 114, 113, 116, 1, 104, 100, 17, 44, 0], o=2390.4852209671376, veh=16, visi=98)\n",
      "100%|██████████| 10/10 [01:04<00:00,  6.47s/it]\n",
      "  0%|          | 0/10 [00:00<?, ?it/s]Ant(tour=[11, 24, 22, 29, 20, 21, 38, 19, 17, 54, 31, 32, 23, 33, 30, 35, 69, 16, 43, 36, 25, 27, 49, 37, 45, 15, 46, 41, 51, 26, 34, 75, 14, 106, 44, 28, 48, 67, 42, 71, 13, 89, 56, 40, 39, 60, 65, 12, 68, 50, 47, 80, 52, 88, 98, 10, 53, 81, 66, 64, 63, 77, 76, 9, 59, 108, 61, 55, 78, 102, 90, 74, 8, 100, 62, 57, 70, 72, 92, 111, 7, 99, 86, 58, 73, 91, 97, 6, 107, 79, 105, 83, 94, 5, 82, 95, 85, 110, 4, 109, 112, 84, 113, 103, 3, 115, 114, 93, 96, 117, 2, 116, 101, 1, 104, 87, 18, 0], o=2407.3080503341166, veh=17, visi=100)\n",
      "100%|██████████| 10/10 [01:00<00:00,  6.00s/it]\n",
      "  0%|          | 0/10 [00:00<?, ?it/s]Ant(tour=[16, 23, 21, 28, 19, 20, 37, 18, 15, 53, 30, 31, 22, 32, 29, 34, 68, 14, 42, 35, 24, 26, 48, 36, 44, 13, 45, 40, 50, 25, 33, 74, 12, 105, 43, 27, 47, 66, 41, 70, 11, 88, 55, 39, 38, 59, 64, 10, 67, 49, 46, 79, 51, 86, 9, 52, 80, 65, 63, 62, 76, 75, 7, 58, 107, 60, 54, 77, 101, 89, 73, 6, 99, 61, 56, 69, 71, 91, 110, 5, 98, 85, 57, 72, 90, 96, 4, 106, 78, 87, 82, 97, 93, 3, 81, 94, 84, 109, 2, 108, 111, 83, 112, 102, 1, 114, 113, 92, 95, 116, 0, 104, 100, 17, 8], o=2377.1765802081018, veh=16, visi=98)\n",
      "100%|██████████| 10/10 [00:50<00:00,  5.01s/it]\n",
      "  0%|          | 0/10 [00:00<?, ?it/s]Ant(tour=[11, 24, 22, 29, 20, 21, 38, 19, 17, 54, 31, 32, 23, 33, 30, 35, 69, 16, 43, 36, 25, 27, 49, 37, 45, 15, 46, 41, 51, 26, 34, 75, 14, 106, 44, 28, 48, 67, 42, 71, 13, 89, 56, 40, 39, 60, 65, 12, 68, 50, 47, 80, 52, 88, 98, 10, 53, 81, 66, 64, 63, 77, 76, 9, 59, 108, 61, 55, 78, 102, 90, 74, 8, 100, 62, 57, 70, 72, 92, 111, 7, 99, 86, 58, 73, 91, 97, 6, 107, 79, 105, 83, 94, 5, 82, 95, 85, 110, 4, 109, 112, 84, 113, 103, 3, 115, 114, 93, 96, 117, 2, 116, 101, 1, 104, 87, 18, 0], o=2407.3080503341166, veh=17, visi=100)\n",
      "100%|██████████| 10/10 [00:41<00:00,  4.19s/it]\n",
      "  0%|          | 0/10 [00:00<?, ?it/s]Ant(tour=[3, 23, 21, 28, 19, 20, 17, 16, 53, 30, 31, 22, 32, 29, 34, 68, 15, 42, 35, 24, 26, 48, 36, 44, 14, 37, 40, 25, 33, 74, 13, 105, 43, 27, 47, 45, 41, 12, 70, 55, 39, 91, 38, 66, 50, 11, 67, 49, 46, 79, 51, 86, 10, 52, 64, 63, 62, 76, 75, 59, 9, 58, 107, 60, 54, 88, 77, 8, 99, 61, 56, 69, 71, 89, 110, 7, 98, 85, 57, 72, 90, 96, 6, 106, 78, 104, 65, 87, 5, 111, 80, 82, 97, 93, 4, 81, 94, 84, 101, 2, 108, 113, 83, 102, 109, 112, 1, 114, 92, 95, 73, 18, 116, 0], o=2512.7598379150663, veh=16, visi=97)\n",
      "100%|██████████| 10/10 [00:41<00:00,  4.17s/it]\n",
      "  0%|          | 0/10 [00:00<?, ?it/s]Ant(tour=[11, 24, 22, 29, 20, 21, 38, 19, 17, 54, 31, 32, 23, 33, 30, 35, 69, 16, 43, 36, 25, 27, 49, 37, 45, 15, 46, 41, 51, 26, 34, 75, 14, 106, 44, 28, 48, 67, 42, 71, 13, 89, 56, 40, 39, 60, 65, 12, 68, 50, 47, 80, 52, 88, 98, 10, 53, 81, 66, 64, 63, 77, 76, 9, 59, 108, 61, 55, 78, 102, 90, 74, 8, 100, 62, 57, 70, 72, 92, 111, 7, 99, 86, 58, 73, 91, 97, 6, 107, 79, 105, 83, 94, 5, 82, 95, 85, 110, 4, 109, 112, 84, 113, 103, 3, 115, 114, 93, 96, 117, 2, 116, 101, 1, 104, 87, 18, 0], o=2407.3080503341166, veh=17, visi=100)\n",
      "100%|██████████| 10/10 [00:57<00:00,  5.74s/it]\n",
      "  0%|          | 0/10 [00:00<?, ?it/s]Ant(tour=[15, 23, 21, 28, 19, 20, 37, 18, 16, 53, 30, 31, 22, 32, 29, 34, 68, 14, 42, 35, 24, 26, 48, 36, 44, 13, 45, 40, 50, 25, 33, 74, 12, 105, 43, 27, 47, 70, 41, 11, 88, 55, 39, 38, 59, 64, 10, 67, 49, 46, 79, 51, 86, 9, 52, 80, 65, 63, 62, 76, 75, 8, 58, 107, 60, 54, 77, 101, 89, 73, 7, 99, 61, 56, 69, 71, 91, 110, 6, 98, 85, 57, 72, 90, 96, 5, 106, 78, 87, 82, 97, 93, 4, 81, 94, 84, 109, 3, 108, 111, 83, 112, 102, 2, 114, 113, 92, 95, 116, 1, 104, 100, 17, 66, 0], o=2381.477757047706, veh=16, visi=98)\n",
      " 20%|██        | 2/10 [00:12<00:50,  6.34s/it]\n"
     ]
    },
    {
     "output_type": "error",
     "ename": "AssertionError",
     "evalue": "",
     "traceback": [
      "\u001b[1;31m---------------------------------------------------------------------------\u001b[0m",
      "\u001b[1;31mAssertionError\u001b[0m                            Traceback (most recent call last)",
      "\u001b[1;32m<ipython-input-21-4f00c1811992>\u001b[0m in \u001b[0;36m<module>\u001b[1;34m\u001b[0m\n\u001b[0;32m      6\u001b[0m \u001b[0mbeta\u001b[0m \u001b[1;33m=\u001b[0m \u001b[1;36m1\u001b[0m\u001b[1;33m\u001b[0m\u001b[1;33m\u001b[0m\u001b[0m\n\u001b[0;32m      7\u001b[0m \u001b[0mrho\u001b[0m \u001b[1;33m=\u001b[0m \u001b[1;36m0.1\u001b[0m\u001b[1;33m\u001b[0m\u001b[1;33m\u001b[0m\u001b[0m\n\u001b[1;32m----> 8\u001b[1;33m \u001b[0mmaco_vrptw\u001b[0m\u001b[1;33m(\u001b[0m\u001b[0mn_ants\u001b[0m\u001b[1;33m,\u001b[0m \u001b[0mbeta\u001b[0m\u001b[1;33m,\u001b[0m \u001b[0mrho\u001b[0m\u001b[1;33m)\u001b[0m\u001b[1;33m\u001b[0m\u001b[1;33m\u001b[0m\u001b[0m\n\u001b[0m",
      "\u001b[1;32m<ipython-input-20-01be01fcc9d4>\u001b[0m in \u001b[0;36mmaco_vrptw\u001b[1;34m(n_ants, beta, rho)\u001b[0m\n\u001b[0;32m     10\u001b[0m                 \u001b[0mveh\u001b[0m \u001b[1;33m=\u001b[0m \u001b[0mpsi1\u001b[0m\u001b[1;33m.\u001b[0m\u001b[0mveh\u001b[0m\u001b[1;33m\u001b[0m\u001b[1;33m\u001b[0m\u001b[0m\n\u001b[0;32m     11\u001b[0m                 \u001b[1;32mbreak\u001b[0m\u001b[1;33m\u001b[0m\u001b[1;33m\u001b[0m\u001b[0m\n\u001b[1;32m---> 12\u001b[1;33m             \u001b[0mpsi2\u001b[0m \u001b[1;33m=\u001b[0m \u001b[0maco_time\u001b[0m\u001b[1;33m(\u001b[0m\u001b[0mveh\u001b[0m\u001b[1;33m,\u001b[0m \u001b[0mn_ants\u001b[0m\u001b[1;33m,\u001b[0m \u001b[0mbeta\u001b[0m\u001b[1;33m,\u001b[0m \u001b[0mrho\u001b[0m\u001b[1;33m)\u001b[0m\u001b[1;33m\u001b[0m\u001b[1;33m\u001b[0m\u001b[0m\n\u001b[0m\u001b[0;32m     13\u001b[0m             \u001b[0mprint\u001b[0m\u001b[1;33m(\u001b[0m\u001b[0mpsi2\u001b[0m\u001b[1;33m)\u001b[0m\u001b[1;33m\u001b[0m\u001b[1;33m\u001b[0m\u001b[0m\n\u001b[0;32m     14\u001b[0m \u001b[1;33m\u001b[0m\u001b[0m\n",
      "\u001b[1;32m<ipython-input-18-77b68e8b0ad8>\u001b[0m in \u001b[0;36maco_time\u001b[1;34m(n_vehicles, n_ants, beta, rho)\u001b[0m\n\u001b[0;32m     15\u001b[0m         \u001b[1;32mfor\u001b[0m \u001b[0mi\u001b[0m \u001b[1;32min\u001b[0m \u001b[0mrange\u001b[0m\u001b[1;33m(\u001b[0m\u001b[0mn_ants\u001b[0m\u001b[1;33m)\u001b[0m\u001b[1;33m:\u001b[0m\u001b[1;33m\u001b[0m\u001b[1;33m\u001b[0m\u001b[0m\n\u001b[0;32m     16\u001b[0m             \u001b[0mlocal\u001b[0m \u001b[1;33m=\u001b[0m \u001b[1;32mFalse\u001b[0m\u001b[1;33m\u001b[0m\u001b[1;33m\u001b[0m\u001b[0m\n\u001b[1;32m---> 17\u001b[1;33m             ants[i] = new_active_ant(local, incom, n_locations, n_depots, \n\u001b[0m\u001b[0;32m     18\u001b[0m                                     \u001b[0mn_vehicles\u001b[0m\u001b[1;33m,\u001b[0m \u001b[0mdata\u001b[0m\u001b[1;33m,\u001b[0m \u001b[0mgraph\u001b[0m\u001b[1;33m,\u001b[0m \u001b[0mtau\u001b[0m\u001b[1;33m,\u001b[0m \u001b[0mtau0\u001b[0m\u001b[1;33m,\u001b[0m\u001b[1;33m\u001b[0m\u001b[1;33m\u001b[0m\u001b[0m\n\u001b[0;32m     19\u001b[0m                                     beta, max_capacity, rho)\n",
      "\u001b[1;32m<ipython-input-14-40827566a66d>\u001b[0m in \u001b[0;36mnew_active_ant\u001b[1;34m(local, incom, n_locations, n_depots, n_vehicles, data, graph, tau, tau0, beta, max_capacity, rho)\u001b[0m\n\u001b[0;32m     61\u001b[0m                     \u001b[1;32mbreak\u001b[0m\u001b[1;33m\u001b[0m\u001b[1;33m\u001b[0m\u001b[0m\n\u001b[0;32m     62\u001b[0m \u001b[1;33m\u001b[0m\u001b[0m\n\u001b[1;32m---> 63\u001b[1;33m     \u001b[0msol\u001b[0m \u001b[1;33m=\u001b[0m \u001b[0mAnt\u001b[0m\u001b[1;33m(\u001b[0m\u001b[0mtour\u001b[0m\u001b[1;33m,\u001b[0m \u001b[0mn_locations\u001b[0m\u001b[1;33m,\u001b[0m \u001b[0mn_depots\u001b[0m\u001b[1;33m,\u001b[0m \u001b[0mdata\u001b[0m\u001b[1;33m,\u001b[0m \u001b[0mgraph\u001b[0m\u001b[1;33m,\u001b[0m \u001b[0mmax_capacity\u001b[0m\u001b[1;33m)\u001b[0m\u001b[1;33m\u001b[0m\u001b[1;33m\u001b[0m\u001b[0m\n\u001b[0m\u001b[0;32m     64\u001b[0m     \u001b[1;32mreturn\u001b[0m \u001b[0msol\u001b[0m\u001b[1;33m\u001b[0m\u001b[1;33m\u001b[0m\u001b[0m\n",
      "\u001b[1;32m<ipython-input-10-8ccd9f4c00dc>\u001b[0m in \u001b[0;36m__init__\u001b[1;34m(self, tour, n_locations, n_depots, data, graph, max_capacity)\u001b[0m\n\u001b[0;32m      2\u001b[0m     \u001b[1;32mdef\u001b[0m \u001b[0m__init__\u001b[0m\u001b[1;33m(\u001b[0m\u001b[0mself\u001b[0m\u001b[1;33m,\u001b[0m \u001b[0mtour\u001b[0m\u001b[1;33m,\u001b[0m \u001b[0mn_locations\u001b[0m\u001b[1;33m,\u001b[0m \u001b[0mn_depots\u001b[0m\u001b[1;33m,\u001b[0m \u001b[0mdata\u001b[0m\u001b[1;33m,\u001b[0m \u001b[0mgraph\u001b[0m\u001b[1;33m,\u001b[0m \u001b[0mmax_capacity\u001b[0m\u001b[1;33m)\u001b[0m \u001b[1;33m->\u001b[0m \u001b[1;32mNone\u001b[0m\u001b[1;33m:\u001b[0m\u001b[1;33m\u001b[0m\u001b[1;33m\u001b[0m\u001b[0m\n\u001b[0;32m      3\u001b[0m         \u001b[0mself\u001b[0m\u001b[1;33m.\u001b[0m\u001b[0mtour\u001b[0m \u001b[1;33m=\u001b[0m \u001b[0mtour\u001b[0m\u001b[1;33m\u001b[0m\u001b[1;33m\u001b[0m\u001b[0m\n\u001b[1;32m----> 4\u001b[1;33m         \u001b[0mself\u001b[0m\u001b[1;33m.\u001b[0m\u001b[0mcost\u001b[0m \u001b[1;33m=\u001b[0m \u001b[0mmaco_objective\u001b[0m\u001b[1;33m(\u001b[0m\u001b[0mtour\u001b[0m\u001b[1;33m,\u001b[0m \u001b[0mn_locations\u001b[0m\u001b[1;33m,\u001b[0m \u001b[0mn_depots\u001b[0m\u001b[1;33m,\u001b[0m \u001b[0mdata\u001b[0m\u001b[1;33m,\u001b[0m \u001b[0mgraph\u001b[0m\u001b[1;33m,\u001b[0m \u001b[0mmax_capacity\u001b[0m\u001b[1;33m)\u001b[0m\u001b[1;33m\u001b[0m\u001b[1;33m\u001b[0m\u001b[0m\n\u001b[0m\u001b[0;32m      5\u001b[0m         \u001b[0mself\u001b[0m\u001b[1;33m.\u001b[0m\u001b[0mveh\u001b[0m \u001b[1;33m=\u001b[0m \u001b[0msum\u001b[0m\u001b[1;33m(\u001b[0m\u001b[1;33m[\u001b[0m\u001b[0mx\u001b[0m \u001b[1;33m<\u001b[0m \u001b[0mn_depots\u001b[0m \u001b[1;32mfor\u001b[0m \u001b[0mx\u001b[0m \u001b[1;32min\u001b[0m \u001b[0mtour\u001b[0m\u001b[1;33m]\u001b[0m\u001b[1;33m)\u001b[0m \u001b[1;33m-\u001b[0m \u001b[1;36m1\u001b[0m \u001b[1;31m# CHECK LATER\u001b[0m\u001b[1;33m\u001b[0m\u001b[1;33m\u001b[0m\u001b[0m\n\u001b[0;32m      6\u001b[0m         \u001b[1;31m# clients visited\u001b[0m\u001b[1;33m\u001b[0m\u001b[1;33m\u001b[0m\u001b[1;33m\u001b[0m\u001b[0m\n",
      "\u001b[1;32m<ipython-input-9-de777aedc051>\u001b[0m in \u001b[0;36mmaco_objective\u001b[1;34m(tour, n_locations, n_depots, data, graph, max_capacity)\u001b[0m\n\u001b[0;32m     16\u001b[0m             \u001b[0mcurr_load\u001b[0m \u001b[1;33m+=\u001b[0m \u001b[0mdata\u001b[0m\u001b[1;33m[\u001b[0m\u001b[0mnj\u001b[0m\u001b[1;33m,\u001b[0m\u001b[1;36m2\u001b[0m\u001b[1;33m]\u001b[0m\u001b[1;33m\u001b[0m\u001b[1;33m\u001b[0m\u001b[0m\n\u001b[0;32m     17\u001b[0m             \u001b[0mcurr_time\u001b[0m \u001b[1;33m=\u001b[0m \u001b[0mmax\u001b[0m\u001b[1;33m(\u001b[0m\u001b[0mcurr_time\u001b[0m \u001b[1;33m+\u001b[0m \u001b[0mtij\u001b[0m\u001b[1;33m,\u001b[0m \u001b[0mdata\u001b[0m\u001b[1;33m[\u001b[0m\u001b[0mnj\u001b[0m\u001b[1;33m,\u001b[0m\u001b[1;36m3\u001b[0m\u001b[1;33m]\u001b[0m\u001b[1;33m)\u001b[0m\u001b[1;33m\u001b[0m\u001b[1;33m\u001b[0m\u001b[0m\n\u001b[1;32m---> 18\u001b[1;33m             \u001b[1;32massert\u001b[0m\u001b[1;33m(\u001b[0m\u001b[0mdata\u001b[0m\u001b[1;33m[\u001b[0m\u001b[0mnj\u001b[0m\u001b[1;33m,\u001b[0m\u001b[1;36m3\u001b[0m\u001b[1;33m]\u001b[0m \u001b[1;33m<=\u001b[0m \u001b[0mcurr_time\u001b[0m \u001b[1;33m<=\u001b[0m \u001b[0mdata\u001b[0m\u001b[1;33m[\u001b[0m\u001b[0mnj\u001b[0m\u001b[1;33m,\u001b[0m\u001b[1;36m4\u001b[0m\u001b[1;33m]\u001b[0m\u001b[1;33m)\u001b[0m\u001b[1;33m\u001b[0m\u001b[1;33m\u001b[0m\u001b[0m\n\u001b[0m\u001b[0;32m     19\u001b[0m             \u001b[1;32massert\u001b[0m\u001b[1;33m(\u001b[0m\u001b[0mcurr_load\u001b[0m \u001b[1;33m<=\u001b[0m \u001b[0mmax_capacity\u001b[0m\u001b[1;33m)\u001b[0m\u001b[1;33m\u001b[0m\u001b[1;33m\u001b[0m\u001b[0m\n\u001b[0;32m     20\u001b[0m             \u001b[0mcurr_time\u001b[0m \u001b[1;33m+=\u001b[0m \u001b[0mdata\u001b[0m\u001b[1;33m[\u001b[0m\u001b[0mnj\u001b[0m\u001b[1;33m,\u001b[0m\u001b[1;36m5\u001b[0m\u001b[1;33m]\u001b[0m\u001b[1;33m\u001b[0m\u001b[1;33m\u001b[0m\u001b[0m\n",
      "\u001b[1;31mAssertionError\u001b[0m: "
     ]
    }
   ],
   "source": [
    "n_vehicles = 30\n",
    "data, graph, n_locations, n_depots, max_vehicles, max_capacity = create_graph(n_vehicles)\n",
    "psi_gb = feasible_initial_solution(n_locations, n_depots, graph, data, max_capacity)\n",
    "\n",
    "n_ants = 10\n",
    "beta = 1\n",
    "rho = 0.1\n",
    "maco_vrptw(n_ants, beta, rho)"
   ]
  },
  {
   "cell_type": "code",
   "execution_count": null,
   "metadata": {},
   "outputs": [],
   "source": []
  },
  {
   "cell_type": "code",
   "execution_count": null,
   "metadata": {},
   "outputs": [],
   "source": []
  },
  {
   "cell_type": "code",
   "execution_count": null,
   "metadata": {},
   "outputs": [],
   "source": []
  },
  {
   "cell_type": "code",
   "execution_count": null,
   "metadata": {},
   "outputs": [],
   "source": []
  }
 ]
}