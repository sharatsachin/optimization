{
 "metadata": {
  "language_info": {
   "codemirror_mode": {
    "name": "ipython",
    "version": 3
   },
   "file_extension": ".py",
   "mimetype": "text/x-python",
   "name": "python",
   "nbconvert_exporter": "python",
   "pygments_lexer": "ipython3",
   "version": "3.9.1-final"
  },
  "orig_nbformat": 2,
  "kernelspec": {
   "name": "python391jvsc74a57bd0972951680f70378456cfab88c359e072bd45c934348f4a76cceadaff542d740e",
   "display_name": "Python 3.9.1 64-bit"
  },
  "metadata": {
   "interpreter": {
    "hash": "972951680f70378456cfab88c359e072bd45c934348f4a76cceadaff542d740e"
   }
  }
 },
 "nbformat": 4,
 "nbformat_minor": 2,
 "cells": [
  {
   "source": [
    "# ACO - Vehicle Routing Problem with Capacity and Time Windows"
   ],
   "cell_type": "markdown",
   "metadata": {}
  },
  {
   "cell_type": "code",
   "execution_count": 1,
   "metadata": {},
   "outputs": [],
   "source": [
    "from math import dist\n",
    "from tqdm import tqdm \n",
    "import copy\n",
    "import matplotlib.pyplot as plt \n",
    "import numpy as np\n",
    "import pandas as pd\n",
    "import random\n",
    "import seaborn as sns"
   ]
  },
  {
   "source": [
    "## Prepare data and graph, visualization of data points"
   ],
   "cell_type": "markdown",
   "metadata": {}
  },
  {
   "cell_type": "code",
   "execution_count": 2,
   "metadata": {},
   "outputs": [],
   "source": [
    "class Graph:\n",
    "    def __init__(self, x, y, n_depots) -> None:\n",
    "        self.n = n = len(x)\n",
    "        self.x = np.array(x, dtype=float)\n",
    "        self.y = np.array(y, dtype=float)\n",
    "        self.edges = np.zeros(shape=(n,n), dtype=float)\n",
    "\n",
    "        for i in range(self.n):\n",
    "            for j in range(self.n):\n",
    "                self.edges[i,j] = dist([x[i], y[i]], [x[j], y[j]])\n",
    "\n",
    "        xf = 10000\n",
    "        # high distance from one point to itself\n",
    "        for i in range(self.n):\n",
    "            self.edges[i,i] = xf\n",
    "            \n",
    "        # high distance from one depot to another depot\n",
    "        for i in range(n_depots):\n",
    "            for j in range(n_depots):\n",
    "                self.edges[i,j] = xf"
   ]
  },
  {
   "cell_type": "code",
   "execution_count": 3,
   "metadata": {},
   "outputs": [],
   "source": [
    "def get_location_data():\n",
    "    with open('rcdata/r112.txt', 'r', encoding = 'utf-8') as f:\n",
    "        [f.readline() for i in range(4)]\n",
    "        n_locations = 100\n",
    "        max_vehicles, max_capacity = [int(x) for x in f.readline().split()]\n",
    "        data = []\n",
    "        [f.readline() for i in range(4)]\n",
    "        for i in range(n_locations + 1):\n",
    "            data.append([float(x) for x in f.readline().split()[1:]])\n",
    "\n",
    "    # uncomment to see plot\n",
    "    # data = np.array(data)\n",
    "    # dataT = data.T\n",
    "    # a = pd.DataFrame({'x':dataT[0], 'y':dataT[1] , 'd':dataT[2]})\n",
    "    # sns.scatterplot(data=a, x='x', y='y', size='d', palette=\"deep\")\n",
    "    return data, n_locations, max_vehicles, max_capacity"
   ]
  },
  {
   "cell_type": "code",
   "execution_count": 4,
   "metadata": {},
   "outputs": [],
   "source": [
    "def insert_duplicate_depots(depots_to_add):\n",
    "    data, n_locations, max_vehicles, max_capacity = get_location_data()\n",
    "    data = np.append(np.repeat([data[0]], depots_to_add, axis=0), data, axis=0)\n",
    "    return data, n_locations, max_vehicles, max_capacity"
   ]
  },
  {
   "cell_type": "code",
   "execution_count": 5,
   "metadata": {},
   "outputs": [],
   "source": [
    "def create_graph(n_vehicles):\n",
    "    n_depots = n_vehicles + 1 # IMPORTANT\n",
    "    data, n_locations, max_vehicles, max_capacity = insert_duplicate_depots(n_depots - 1)\n",
    "    dataT = data.T\n",
    "    graph = Graph(dataT[0], dataT[1], n_depots)\n",
    "    return data, graph, n_locations, n_depots, max_vehicles, max_capacity "
   ]
  },
  {
   "cell_type": "code",
   "execution_count": 6,
   "metadata": {},
   "outputs": [],
   "source": [
    "n_vehicles = 10\n",
    "data, graph, n_locations, n_depots, max_vehicles, max_capacity = create_graph(n_vehicles)"
   ]
  },
  {
   "cell_type": "code",
   "execution_count": 7,
   "metadata": {},
   "outputs": [
    {
     "output_type": "stream",
     "name": "stdout",
     "text": [
      "(111, 6) (111, 111) 100 11 25 200\n"
     ]
    },
    {
     "output_type": "execute_result",
     "data": {
      "text/plain": [
       "array([[ 35.,  35.,   0.,   0., 230.,   0.],\n",
       "       [ 35.,  35.,   0.,   0., 230.,   0.],\n",
       "       [ 35.,  35.,   0.,   0., 230.,   0.],\n",
       "       [ 35.,  35.,   0.,   0., 230.,   0.],\n",
       "       [ 35.,  35.,   0.,   0., 230.,   0.],\n",
       "       [ 35.,  35.,   0.,   0., 230.,   0.],\n",
       "       [ 35.,  35.,   0.,   0., 230.,   0.],\n",
       "       [ 35.,  35.,   0.,   0., 230.,   0.],\n",
       "       [ 35.,  35.,   0.,   0., 230.,   0.],\n",
       "       [ 35.,  35.,   0.,   0., 230.,   0.],\n",
       "       [ 35.,  35.,   0.,   0., 230.,   0.],\n",
       "       [ 41.,  49.,  10.,  73., 204.,  10.],\n",
       "       [ 35.,  17.,   7.,  18., 147.,  10.],\n",
       "       [ 55.,  45.,  13.,  76., 165.,  10.],\n",
       "       [ 55.,  20.,  19.,  73., 195.,  10.],\n",
       "       [ 15.,  30.,  26.,  20., 167.,  10.],\n",
       "       [ 25.,  30.,   3.,  49., 158.,  10.],\n",
       "       [ 20.,  50.,   5.,  36., 135.,  10.],\n",
       "       [ 10.,  43.,   9.,  50., 149.,  10.],\n",
       "       [ 55.,  60.,  16.,  47., 156.,  10.]])"
      ]
     },
     "metadata": {},
     "execution_count": 7
    }
   ],
   "source": [
    "print(data.shape, graph.edges.shape, n_locations, n_depots, max_vehicles, max_capacity)\n",
    "data[:20]"
   ]
  },
  {
   "cell_type": "code",
   "execution_count": 8,
   "metadata": {},
   "outputs": [
    {
     "output_type": "execute_result",
     "data": {
      "text/plain": [
       "array([[ 35.,  35.,   0.,   0., 230.,   0.],\n",
       "       [ 35.,  35.,   0.,   0., 230.,   0.],\n",
       "       [ 35.,  35.,   0.,   0., 230.,   0.],\n",
       "       [ 35.,  35.,   0.,   0., 230.,   0.],\n",
       "       [ 35.,  35.,   0.,   0., 230.,   0.],\n",
       "       [ 35.,  35.,   0.,   0., 230.,   0.],\n",
       "       [ 35.,  35.,   0.,   0., 230.,   0.],\n",
       "       [ 35.,  35.,   0.,   0., 230.,   0.],\n",
       "       [ 35.,  35.,   0.,   0., 230.,   0.],\n",
       "       [ 35.,  35.,   0.,   0., 230.,   0.],\n",
       "       [ 35.,  35.,   0.,   0., 230.,   0.],\n",
       "       [ 41.,  49.,  10.,  73., 204.,  10.],\n",
       "       [ 35.,  17.,   7.,  18., 147.,  10.],\n",
       "       [ 55.,  45.,  13.,  76., 165.,  10.],\n",
       "       [ 55.,  20.,  19.,  73., 195.,  10.],\n",
       "       [ 15.,  30.,  26.,  20., 167.,  10.],\n",
       "       [ 25.,  30.,   3.,  49., 158.,  10.],\n",
       "       [ 20.,  50.,   5.,  36., 135.,  10.],\n",
       "       [ 10.,  43.,   9.,  50., 149.,  10.],\n",
       "       [ 55.,  60.,  16.,  47., 156.,  10.],\n",
       "       [ 30.,  60.,  16.,  85., 172.,  10.],\n",
       "       [ 20.,  65.,  12.,  33., 152.,  10.],\n",
       "       [ 50.,  35.,  19.,  15., 133.,  10.],\n",
       "       [ 30.,  25.,  23.,  79., 208.,  10.],\n",
       "       [ 15.,  10.,  20.,  32., 187.,  10.],\n",
       "       [ 30.,   5.,   8.,  30., 152.,  10.],\n",
       "       [ 10.,  20.,  19.,  29., 139.,  10.],\n",
       "       [  5.,  30.,   2.,  60., 189.,  10.],\n",
       "       [ 20.,  40.,  12.,  47., 136.,  10.],\n",
       "       [ 15.,  60.,  17.,  32., 146.,  10.],\n",
       "       [ 45.,  65.,   9.,  79., 182.,  10.],\n",
       "       [ 45.,  20.,  11.,  18., 136.,  10.],\n",
       "       [ 45.,  10.,  18.,  50., 153.,  10.],\n",
       "       [ 55.,   5.,  29.,  36., 155.,  10.],\n",
       "       [ 65.,  35.,   3.,  58., 190.,  10.],\n",
       "       [ 65.,  20.,   6.,  56., 186.,  10.],\n",
       "       [ 45.,  30.,  17.,  87., 186.,  10.],\n",
       "       [ 35.,  40.,  16.,   5., 140.,  10.],\n",
       "       [ 41.,  37.,  16.,   6., 136.,  10.],\n",
       "       [ 64.,  42.,   9.,  29., 150.,  10.],\n",
       "       [ 40.,  60.,  21.,  25., 132.,  10.],\n",
       "       [ 31.,  52.,  27.,  17., 138.,  10.],\n",
       "       [ 35.,  69.,  23.,  67., 186.,  10.],\n",
       "       [ 53.,  52.,  11.,  24., 161.,  10.],\n",
       "       [ 65.,  55.,  14.,  70., 173.,  10.],\n",
       "       [ 63.,  65.,   8.,  54., 178.,  10.],\n",
       "       [  2.,  60.,   5.,  41., 178.,  10.],\n",
       "       [ 20.,  20.,   8.,  87., 190.,  10.],\n",
       "       [  5.,   5.,  16.,  42., 153.,  10.],\n",
       "       [ 60.,  12.,  31.,  33., 186.,  10.],\n",
       "       [ 40.,  25.,   9.,  40., 139.,  10.],\n",
       "       [ 42.,   7.,   5.,  43., 160.,  10.],\n",
       "       [ 24.,  12.,   5.,  25., 158.,  10.],\n",
       "       [ 23.,   3.,   7.,  82., 185.,  10.],\n",
       "       [ 11.,  14.,  18.,  31., 144.,  10.],\n",
       "       [  6.,  38.,  16.,  29., 169.,  10.],\n",
       "       [  2.,  48.,   1.,  63., 180.,  10.],\n",
       "       [  8.,  56.,  27.,  34., 176.,  10.],\n",
       "       [ 13.,  52.,  36.,  65., 192.,  10.],\n",
       "       [  6.,  68.,  30.,  73., 152.,  10.],\n",
       "       [ 47.,  47.,  13.,  75., 182.,  10.],\n",
       "       [ 49.,  58.,  10.,  36., 149.,  10.],\n",
       "       [ 27.,  43.,   9.,  11., 133.,  10.],\n",
       "       [ 37.,  31.,  14.,  51., 148.,  10.],\n",
       "       [ 57.,  29.,  18.,  90., 197.,  10.],\n",
       "       [ 63.,  23.,   2.,  69., 189.,  10.],\n",
       "       [ 53.,  12.,   6.,  76., 190.,  10.],\n",
       "       [ 32.,  12.,   7.,  48., 163.,  10.],\n",
       "       [ 36.,  26.,  18.,  84., 210.,  10.],\n",
       "       [ 21.,  24.,  28.,  17., 183.,  10.],\n",
       "       [ 17.,  34.,   3.,  70., 201.,  10.],\n",
       "       [ 12.,  24.,  13.,  29., 132.,  10.],\n",
       "       [ 24.,  58.,  19.,  25., 154.,  10.],\n",
       "       [ 27.,  69.,  10.,  34., 172.,  10.],\n",
       "       [ 15.,  77.,   9.,  46., 165.,  10.],\n",
       "       [ 62.,  77.,  20.,  49., 170.,  10.],\n",
       "       [ 49.,  73.,  25.,  68., 179.,  10.],\n",
       "       [ 67.,   5.,  25.,  43., 156.,  10.],\n",
       "       [ 56.,  39.,  36.,  80., 198.,  10.],\n",
       "       [ 37.,  47.,   6.,  12., 137.,  10.],\n",
       "       [ 37.,  56.,   5.,  48., 198.,  10.],\n",
       "       [ 57.,  68.,  15.,  39., 148.,  10.],\n",
       "       [ 47.,  16.,  25.,  22., 170.,  10.],\n",
       "       [ 44.,  17.,   9.,  30., 135.,  10.],\n",
       "       [ 46.,  13.,   8.,  74., 195.,  10.],\n",
       "       [ 49.,  11.,  18.,  27., 141.,  10.],\n",
       "       [ 49.,  42.,  13.,  27., 128.,  10.],\n",
       "       [ 53.,  43.,  14.,  72., 200.,  10.],\n",
       "       [ 61.,  52.,   3.,  42., 159.,  10.],\n",
       "       [ 57.,  48.,  23.,  47., 146.,  10.],\n",
       "       [ 56.,  37.,   6.,  73., 198.,  10.],\n",
       "       [ 55.,  54.,  26.,  57., 140.,  10.],\n",
       "       [ 15.,  47.,  16.,  23., 146.,  10.],\n",
       "       [ 14.,  37.,  11.,  21., 157.,  10.],\n",
       "       [ 11.,  31.,   7.,  57., 154.,  10.],\n",
       "       [ 16.,  22.,  41.,  44., 147.,  10.],\n",
       "       [  4.,  18.,  35.,  49., 148.,  10.],\n",
       "       [ 28.,  18.,  26.,  61., 134.,  10.],\n",
       "       [ 26.,  52.,   9.,  21., 136.,  10.],\n",
       "       [ 26.,  35.,  15.,  68., 211.,  10.],\n",
       "       [ 31.,  67.,   3.,  46., 153.,  10.],\n",
       "       [ 15.,  19.,   1.,  70., 194.,  10.],\n",
       "       [ 22.,  22.,   2.,  18., 159.,  10.],\n",
       "       [ 18.,  24.,  22.,  60., 199.,  10.],\n",
       "       [ 26.,  27.,  27.,  58., 151.,  10.],\n",
       "       [ 25.,  24.,  20.,  14., 143.,  10.],\n",
       "       [ 22.,  27.,  11.,  89., 190.,  10.],\n",
       "       [ 25.,  21.,  12.,  92., 183.,  10.],\n",
       "       [ 19.,  21.,  10.,  21., 142.,  10.],\n",
       "       [ 20.,  26.,   9.,  33., 142.,  10.],\n",
       "       [ 18.,  18.,  17.,  51., 195.,  10.]])"
      ]
     },
     "metadata": {},
     "execution_count": 8
    }
   ],
   "source": [
    "data"
   ]
  },
  {
   "cell_type": "code",
   "execution_count": 9,
   "metadata": {},
   "outputs": [
    {
     "output_type": "execute_result",
     "data": {
      "text/plain": [
       "array([[1.00000000e+04, 1.00000000e+04, 1.00000000e+04, ...,\n",
       "        2.12602916e+01, 1.74928557e+01, 2.40416306e+01],\n",
       "       [1.00000000e+04, 1.00000000e+04, 1.00000000e+04, ...,\n",
       "        2.12602916e+01, 1.74928557e+01, 2.40416306e+01],\n",
       "       [1.00000000e+04, 1.00000000e+04, 1.00000000e+04, ...,\n",
       "        2.12602916e+01, 1.74928557e+01, 2.40416306e+01],\n",
       "       ...,\n",
       "       [2.12602916e+01, 2.12602916e+01, 2.12602916e+01, ...,\n",
       "        1.00000000e+04, 5.09901951e+00, 3.16227766e+00],\n",
       "       [1.74928557e+01, 1.74928557e+01, 1.74928557e+01, ...,\n",
       "        5.09901951e+00, 1.00000000e+04, 8.24621125e+00],\n",
       "       [2.40416306e+01, 2.40416306e+01, 2.40416306e+01, ...,\n",
       "        3.16227766e+00, 8.24621125e+00, 1.00000000e+04]])"
      ]
     },
     "metadata": {},
     "execution_count": 9
    }
   ],
   "source": [
    "assert(data.shape[0] == n_locations + n_depots and data.shape[1] == 6)\n",
    "assert(graph.edges.shape[0] == n_locations + n_depots and graph.edges.shape[1] == graph.edges.shape[0])\n",
    "\n",
    "graph.edges"
   ]
  },
  {
   "cell_type": "code",
   "execution_count": null,
   "metadata": {},
   "outputs": [],
   "source": []
  },
  {
   "source": [
    "## Objective function"
   ],
   "cell_type": "markdown",
   "metadata": {}
  },
  {
   "cell_type": "code",
   "execution_count": 10,
   "metadata": {},
   "outputs": [],
   "source": [
    "def maco_objective(tour, n_locations, n_depots, data, graph, max_capacity):\n",
    "    \n",
    "    curr_time, curr_dist, curr_load = 0, 0, 0\n",
    "\n",
    "    for i in range(len(tour)-1):\n",
    "\n",
    "        ni, nj = tour[i], tour[i+1]\n",
    "        tij = dist([data[ni,0], data[ni,1]], [data[nj,0], data[nj,1]])\n",
    "        curr_dist += tij\n",
    "\n",
    "        # not necessary, just checking correctness\n",
    "        if nj < n_depots:   # destination location is a depot\n",
    "            curr_time, curr_load = 0, 0\n",
    "\n",
    "        else:               # destination location is a client location\n",
    "            curr_load += data[nj,2]\n",
    "            curr_time = max(curr_time + tij, data[nj,3])\n",
    "            # assert(data[nj,3] <= curr_time <= data[nj,4]), (nj, data[nj][3], data[nj][4], curr_time, tour)\n",
    "            # assert(curr_load <= max_capacity), 'capacity'\n",
    "            curr_time += data[nj,5]\n",
    "        \n",
    "    # assert(tour[0] < n_depots and tour[-1] < n_depots), 'depots'\n",
    "    \n",
    "    return curr_dist"
   ]
  },
  {
   "source": [
    "## Ant Definition"
   ],
   "cell_type": "markdown",
   "metadata": {}
  },
  {
   "cell_type": "code",
   "execution_count": 11,
   "metadata": {},
   "outputs": [],
   "source": [
    "class Ant:\n",
    "    def __init__(self, tour, n_locations, n_depots, data, graph, max_capacity) -> None:\n",
    "        self.tour = tour\n",
    "        self.cost = maco_objective(tour, n_locations, n_depots, data, graph, max_capacity)\n",
    "        self.veh = sum([x < n_depots for x in tour]) - 1 # CHECK LATER\n",
    "        # clients visited\n",
    "        self.visi = len(set(tour)) - (self.veh + 1) # CHECK LATER\n",
    "\n",
    "    def __repr__(self) -> str:\n",
    "        return f'Ant(tour={self.tour}, o={self.cost}, veh={self.veh}, visi={self.visi})'\n",
    "\n",
    "    def __lt__(self, other):\n",
    "        return self.cost < other.cost"
   ]
  },
  {
   "source": [
    "## Calculating feasible solution"
   ],
   "cell_type": "markdown",
   "metadata": {}
  },
  {
   "cell_type": "code",
   "execution_count": 12,
   "metadata": {},
   "outputs": [
    {
     "output_type": "stream",
     "name": "stdout",
     "text": [
      "Ant(tour=[0, 83, 88, 70, 51, 103, 102, 104, 86, 34, 1, 57, 58, 56, 42, 110, 98, 107, 33, 80, 31, 2, 119, 36, 124, 125, 127, 122, 89, 123, 67, 130, 3, 43, 117, 32, 87, 45, 73, 44, 4, 82, 48, 90, 113, 114, 35, 129, 126, 121, 5, 99, 61, 118, 92, 40, 120, 62, 93, 94, 6, 106, 109, 108, 64, 111, 63, 81, 39, 65, 7, 100, 60, 50, 96, 101, 95, 8, 37, 112, 78, 77, 66, 79, 49, 76, 9, 128, 115, 91, 46, 74, 116, 47, 75, 10, 84, 85, 55, 69, 54, 11, 72, 71, 52, 105, 53, 97, 12, 38, 41, 59, 13, 68, 14], o=1370.2311363260492, veh=14, visi=100)\n"
     ]
    }
   ],
   "source": [
    "def feasible_initial_solution(n_locations, n_depots, graph, data, max_capacity):\n",
    "    tour = [0]\n",
    "    vis = np.zeros(n_locations + n_depots)\n",
    "    vis[0] = 1\n",
    "    load, curr_time = 0, 0\n",
    "    next_depot = 1\n",
    "\n",
    "    while np.sum(vis[-n_locations:]) < n_locations: # while all client locations are yet to be visited\n",
    "        last = tour[-1]\n",
    "        mins = np.argsort(graph.edges[last])\n",
    "        # print(graph.edges[last])\n",
    "        # print(mins)\n",
    "        # print(tour)\n",
    "        for x in mins:\n",
    "            # considering only unvisited client locations\n",
    "            if (x >= n_depots and not vis[x] and curr_time + graph.edges[last,x] <= data[x,4]\n",
    "                and load + data[x, 2] <= max_capacity):\n",
    "                curr_time = max(curr_time + graph.edges[last][x], data[x, 3])\n",
    "                curr_time += data[x,5]\n",
    "                load += data[x, 2]\n",
    "                tour.append(x)\n",
    "                vis[x] = 1\n",
    "                break\n",
    "        else:\n",
    "            # if no valid unvisited client locations, return to depot and start new cycle\n",
    "            curr_time = 0\n",
    "            load = 0\n",
    "            tour.append(next_depot)\n",
    "            vis[next_depot] = 1\n",
    "            next_depot += 1 \n",
    "    if tour[-1] >= n_depots:\n",
    "        tour.append(next_depot)\n",
    "    sol = Ant(tour, n_locations, n_depots, data, graph, max_capacity)\n",
    "    return sol\n",
    "\n",
    "n_vehicles = 30\n",
    "data, graph, n_locations, n_depots, max_vehicles, max_capacity = create_graph(n_vehicles)\n",
    "psi_fis = feasible_initial_solution(n_locations, n_depots, graph, data, max_capacity)\n",
    "print(psi_fis)"
   ]
  },
  {
   "cell_type": "code",
   "execution_count": 13,
   "metadata": {},
   "outputs": [
    {
     "output_type": "stream",
     "name": "stdout",
     "text": [
      "Ant(tour=[0, 63, 68, 50, 31, 83, 82, 84, 66, 14, 1, 37, 38, 36, 22, 90, 78, 87, 13, 60, 11, 2, 99, 16, 104, 105, 107, 102, 69, 103, 47, 110, 3, 23, 97, 12, 67, 25, 53, 24, 4, 62, 28, 70, 93, 94, 15, 109, 106, 101, 5, 79, 41, 98, 72, 20, 100, 73, 42, 30, 76, 6, 86, 89, 43, 91, 19, 61, 40, 80, 58, 7, 17, 92, 18, 55, 27, 71, 26, 56, 8, 108, 95, 54, 96, 48, 52, 49, 9, 64, 65, 35, 34, 10], o=962.1513591870481, veh=10, visi=83)\n"
     ]
    }
   ],
   "source": [
    "def infeasible_solution(n_locations, n_depots, n_vehicles, graph, data, max_capacity):\n",
    "    tour = [0]\n",
    "    vis = np.zeros(n_locations + n_depots)\n",
    "    vis[0] = 1\n",
    "    load, curr_time = 0, 0\n",
    "    next_depot = 1\n",
    "\n",
    "    while np.sum(vis[-n_locations:]) < n_locations: # while all client locations are yet to be visited\n",
    "        last = tour[-1]\n",
    "        mins = np.argsort(graph.edges[last])\n",
    "        \n",
    "        for x in mins:\n",
    "            # considering only unvisited client locations\n",
    "            if (x >= n_depots and not vis[x] and curr_time + graph.edges[last,x] <= data[x,4]\n",
    "                and load + data[x, 2] <= max_capacity):\n",
    "                curr_time = max(curr_time + graph.edges[last][x], data[x, 3])\n",
    "                curr_time += data[x,5]\n",
    "                load += data[x, 2]\n",
    "                tour.append(x)\n",
    "                vis[x] = 1\n",
    "                break\n",
    "        else:\n",
    "            # if no valid unvisited client locations, return to depot and start new cycle\n",
    "            curr_time = 0\n",
    "            load = 0\n",
    "            tour.append(next_depot)\n",
    "            vis[next_depot] = 1\n",
    "            next_depot += 1 \n",
    "            if next_depot == n_depots:\n",
    "                break\n",
    "    if tour[-1] >= n_depots:\n",
    "        tour.append(next_depot)\n",
    "    sol = Ant(tour, n_locations, n_depots, data, graph, max_capacity)\n",
    "    return sol\n",
    "\n",
    "n_vehicles = 10\n",
    "data, graph, n_locations, n_depots, max_vehicles, max_capacity = create_graph(n_vehicles)\n",
    "psi_is = infeasible_solution(n_locations, n_depots, n_vehicles, graph, data, max_capacity)\n",
    "print(psi_is)"
   ]
  },
  {
   "cell_type": "code",
   "execution_count": 14,
   "metadata": {},
   "outputs": [],
   "source": [
    "def valid_tour(tour, n_locations, n_depots, data, graph, max_capacity):\n",
    "    \n",
    "    curr_time, curr_dist, curr_load = 0, 0, 0\n",
    "\n",
    "    for i in range(len(tour)-1):\n",
    "\n",
    "        ni, nj = tour[i], tour[i+1]\n",
    "        tij = dist([data[ni,0], data[ni,1]], [data[nj,0], data[nj,1]])\n",
    "        curr_dist += tij\n",
    "\n",
    "        # not necessary, just checking correctness\n",
    "        if nj < n_depots:   # destination location is a depot\n",
    "            curr_time, curr_load = 0, 0\n",
    "\n",
    "        else:               # destination location is a client location\n",
    "            curr_load += data[nj,2]\n",
    "            curr_time = max(curr_time + tij, data[nj,3])\n",
    "            if not (data[nj,3] <= curr_time <= data[nj,4]):\n",
    "                return False\n",
    "            if not(curr_load <= max_capacity):\n",
    "                return False\n",
    "            curr_time += data[nj,5]\n",
    "        \n",
    "    if not (tour[0] < n_depots and tour[-1] < n_depots):\n",
    "        return False    \n",
    "        \n",
    "    return True"
   ]
  },
  {
   "source": [
    "## Local Search Functions"
   ],
   "cell_type": "markdown",
   "metadata": {}
  },
  {
   "cell_type": "code",
   "execution_count": 15,
   "metadata": {},
   "outputs": [],
   "source": [
    "def split_into_routes(tour, n_vehicles):\n",
    "    routes = []\n",
    "    cur_route = [tour[0]]\n",
    "    for x in tour[1:]:\n",
    "        if x <= n_vehicles:\n",
    "            cur_route.append(x)\n",
    "            routes.append(cur_route)\n",
    "            cur_route = [x]\n",
    "        else:\n",
    "            cur_route.append(x)\n",
    "    return routes"
   ]
  },
  {
   "cell_type": "code",
   "execution_count": 16,
   "metadata": {},
   "outputs": [],
   "source": [
    "def merge_into_tour(routes, n_vehicles):\n",
    "    tour = [0]\n",
    "    for route in routes:\n",
    "        for x in route[1:]:\n",
    "            tour.append(x)\n",
    "    dep = 1\n",
    "    for i in range(1, len(tour)):\n",
    "        if tour[i] == 0:\n",
    "            tour[i] = dep\n",
    "            dep += 1\n",
    "    return tour"
   ]
  },
  {
   "cell_type": "code",
   "execution_count": 17,
   "metadata": {},
   "outputs": [],
   "source": [
    "import itertools\n",
    "\n",
    "def two_opt(a, i, j):\n",
    "    if i == 0:\n",
    "        return a[j:i:-1] + [a[i]] + a[j + 1:]\n",
    "    return a[:i] + a[j:i - 1:-1] + a[j + 1:]\n",
    "\n",
    "\n",
    "def cross(a, b, i, j):\n",
    "    return a[:i] + b[j:], b[:j] + a[i:]\n",
    "\n",
    "\n",
    "def insertion(a, b, i, j):\n",
    "    # print(a, b, i, j)\n",
    "    if len(a) == 0:\n",
    "        return a, b\n",
    "    while i >= len(a):\n",
    "        i -= len(a)\n",
    "    return a[:i] + a[i + 1:], b[:j] + [a[i]] + b[j:]\n",
    "\n",
    "\n",
    "def swap(a, b, i, j):\n",
    "    # print(a, b, i, j)\n",
    "    if i >= len(a) or j >= len(b):\n",
    "        return a, b\n",
    "    a, b = a.copy(), b.copy()\n",
    "    a[i], b[j] = b[j], a[i]\n",
    "    return a, b"
   ]
  },
  {
   "cell_type": "code",
   "execution_count": 18,
   "metadata": {},
   "outputs": [],
   "source": [
    "def valid_route_distance(route, data, graph, max_capacity):\n",
    "    \n",
    "    curr_time, curr_dist, curr_load = 0, 0, 0\n",
    "\n",
    "    for i in range(len(route)-1):\n",
    "\n",
    "        ni, nj = route[i], route[i+1]\n",
    "        tij = dist([data[ni,0], data[ni,1]], [data[nj,0], data[nj,1]])\n",
    "        curr_dist += tij\n",
    "        curr_load += data[nj,2]\n",
    "        curr_time = max(curr_time + tij, data[nj,3])\n",
    "        if not (data[nj,3] <= curr_time <= data[nj,4]):\n",
    "            return False, 10000\n",
    "        if not(curr_load <= max_capacity):\n",
    "            return False, 10000\n",
    "        curr_time += data[nj,5]\n",
    "        \n",
    "    return True, curr_dist"
   ]
  },
  {
   "cell_type": "code",
   "execution_count": 19,
   "metadata": {},
   "outputs": [],
   "source": [
    "def local_search(tour, n_vehicles, data, graph, max_capacity):\n",
    "    routes = split_into_routes(tour, n_vehicles)\n",
    "\n",
    "    can_impr = True\n",
    "    while can_impr:\n",
    "        can_impr = False\n",
    "        \n",
    "        for i, j in itertools.combinations(range(len(routes)), 2):\n",
    "\n",
    "            vri, dri = valid_route_distance(routes[i], data, graph, max_capacity)\n",
    "            vrj, drj = valid_route_distance(routes[j], data, graph, max_capacity)\n",
    "\n",
    "            for k, l in itertools.product(range(len(routes[i])), range(len(routes[j]))):\n",
    "                for func in [cross, insertion, swap]:\n",
    "                    c1, c2 = func(routes[i][1:-1], routes[j][1:-1], k, l)\n",
    "                    n1, n2 = [0] + c1 + [0], [0] + c2 + [0]\n",
    "\n",
    "                    vn1, dn1 = valid_route_distance(n1, data, graph, max_capacity)\n",
    "                    vn2, dn2 = valid_route_distance(n2, data, graph, max_capacity)\n",
    "\n",
    "                    if vn1 and vn2:\n",
    "                        if dn1 + dn2 < dri + drj:\n",
    "                            routes[i] = n1\n",
    "                            routes[j] = n2\n",
    "                            can_impr = True\n",
    "                            \n",
    "    return merge_into_tour(routes, n_vehicles)"
   ]
  },
  {
   "source": [
    "## Create new ant"
   ],
   "cell_type": "markdown",
   "metadata": {}
  },
  {
   "cell_type": "code",
   "execution_count": 20,
   "metadata": {},
   "outputs": [],
   "source": [
    "def new_active_ant(local, incom, n_locations, n_depots, n_vehicles, data, graph, tau, tau0, beta, max_capacity, rho):\n",
    "\n",
    "    # print(data.shape, graph.edges.shape)\n",
    "    inc = incom.copy()\n",
    "\n",
    "    tour = [np.random.choice(n_depots)]\n",
    "    curr_time, curr_load = 0, 0\n",
    "\n",
    "    vis = np.zeros(n_locations + n_depots)\n",
    "    vis[tour[0]] = 1\n",
    "    eta = np.full(n_locations + n_depots, 0.00001)\n",
    "\n",
    "    # first insertion of nodes by ACO\n",
    "    feasible_node = True\n",
    "    while feasible_node:\n",
    "\n",
    "        feasible_node = False\n",
    "        last = tour[-1]\n",
    "        for x in range(n_locations + n_depots):\n",
    "            if (not vis[x] and curr_time + graph.edges[last,x] <= data[x,4]\n",
    "                    and curr_load + data[x, 2] <= max_capacity):\n",
    "                feasible_node = True\n",
    "                deliv_time = max(curr_time + graph.edges[last,x], data[x, 3])\n",
    "                delta_time = deliv_time - curr_time\n",
    "                distance = delta_time * (data[x,4] - curr_time)\n",
    "                # print(distance)\n",
    "                distance = max(1, distance - inc[x])\n",
    "                eta[x] = 1 / distance\n",
    "            else:\n",
    "                eta[x] = 0\n",
    "\n",
    "        if not feasible_node:\n",
    "            break\n",
    "\n",
    "        probs = (tau[last]) * (eta ** beta)\n",
    "        probs = probs / np.sum(probs)\n",
    "        \n",
    "        # next = np.random.choice(n_locations + n_depots, p=probs)\n",
    "        q = np.random.rand()\n",
    "        if q < 0.9:\n",
    "            next = np.argmax(probs)\n",
    "        else:\n",
    "            probs[probs != 0.0] = 1\n",
    "            probs = probs / np.sum(probs)\n",
    "            next = np.random.choice(n_locations + n_depots, p=probs)\n",
    "\n",
    "        tour.append(next)\n",
    "        vis[next] = 1\n",
    "\n",
    "        curr_time = max(curr_time + graph.edges[last][x], data[next, 3])\n",
    "        curr_time += data[next,5]\n",
    "\n",
    "        curr_load += data[next, 2]\n",
    "        # print('A', tour)\n",
    "\n",
    "        tau[last][next] = (1 - rho) * tau[last][next] + rho * tau0\n",
    "    \n",
    "    # print('B', tour)\n",
    "\n",
    "    # there still may remain some non inserted nodes\n",
    "    for x in range(n_locations + n_depots):\n",
    "        if not vis[x]:\n",
    "            for g in range(1, len(tour) + 1):\n",
    "                tc = tour.copy()\n",
    "                tc.insert(g, x)\n",
    "                if valid_tour(tc, n_locations, n_depots, data, graph, max_capacity):\n",
    "                    tour = tc\n",
    "                    vis[x] = 1\n",
    "                    break\n",
    "\n",
    "    if local:\n",
    "        tour = local_search(tour, n_vehicles, data, graph, max_capacity)\n",
    "\n",
    "    # assert(len(tour) == n_locations)\n",
    "\n",
    "    sol = Ant(tour, n_locations, n_depots, data, graph, max_capacity)\n",
    "    return sol"
   ]
  },
  {
   "cell_type": "code",
   "execution_count": 21,
   "metadata": {},
   "outputs": [],
   "source": [
    "# n_vehicles = 10\n",
    "# data, graph, n_locations, n_depots, max_vehicles, max_capacity = create_graph(n_vehicles)\n",
    "# incom = np.zeros(n_locations + n_depots)\n",
    "# tau0 = 10/np.sum(graph.edges)\n",
    "# tau = np.full(graph.edges.shape, tau0)\n",
    "# beta = 1\n",
    "# rho = 0.25\n",
    "# local = False\n",
    "# new_active_ant(local, incom, n_locations, n_depots, n_vehicles, data, graph, tau, tau0, beta, max_capacity, rho)"
   ]
  },
  {
   "source": [
    "## ACO Vehicle function"
   ],
   "cell_type": "markdown",
   "metadata": {}
  },
  {
   "cell_type": "code",
   "execution_count": 22,
   "metadata": {},
   "outputs": [],
   "source": [
    "# def aco_vehicle(n_vehicles, n_ants, psi_gb, beta, rho):\n",
    "def aco_vehicle(n_vehicles, n_ants, beta, rho):\n",
    "    global psi_gb\n",
    "\n",
    "    n_depots = n_vehicles + 1\n",
    "    data, graph, n_locations, n_depots, max_vehicles, max_capacity = create_graph(n_vehicles)\n",
    "    tau0 = 10/np.sum(graph.edges)\n",
    "    tau = np.full(graph.edges.shape, tau0)\n",
    "\n",
    "    # initial solution, may be infeasible\n",
    "    psi_vei = infeasible_solution(n_locations, n_depots, n_vehicles, graph, data, max_capacity)\n",
    "    # print(psi_vei)\n",
    "\n",
    "    incom = np.zeros(n_locations + n_depots)\n",
    "    for i in tqdm(range(10)):\n",
    "        ants = [None for i in range(n_ants)]\n",
    "\n",
    "        for i in range(n_ants):\n",
    "            local = False\n",
    "            ants[i] = new_active_ant(local, incom, n_locations, n_depots, \n",
    "                                    n_vehicles, data, graph, tau, tau0, \n",
    "                                    beta, max_capacity, rho)\n",
    "            for x in ants[i].tour:\n",
    "                incom[x] += 1\n",
    " \n",
    "        for i in range(n_ants):\n",
    "            if ants[i].visi > psi_vei.visi:\n",
    "                psi_vei = copy.deepcopy(ants[i])\n",
    "                incom = np.zeros(n_locations + n_depots)\n",
    "                if ants[i].visi == n_locations:\n",
    "                    psi_gb = copy.deepcopy(ants[i])\n",
    "                    return psi_gb\n",
    "            \n",
    "        # updating tau values\n",
    "        tau = (1-rho) * tau\n",
    "        for j in range(len(psi_vei.tour) - 1):\n",
    "            cur, nxt = psi_vei.tour[j:j+2]\n",
    "            tau[cur][nxt] += 1/psi_vei.cost\n",
    "            tau[nxt][cur] += 1/psi_vei.cost\n",
    "        for j in range(len(psi_gb.tour) - 1):\n",
    "            cur, nxt = psi_gb.tour[j:j+2]\n",
    "            if cur < tau.shape[0] and nxt < tau.shape[0]:\n",
    "                tau[cur][nxt] += 1/psi_gb.cost\n",
    "                tau[nxt][cur] += 1/psi_gb.cost\n",
    "\n",
    "    return psi_vei"
   ]
  },
  {
   "cell_type": "code",
   "execution_count": 23,
   "metadata": {},
   "outputs": [],
   "source": [
    "# n_vehicles = 17\n",
    "# beta = 1\n",
    "# rho = 0.25\n",
    "# n_ants = 20\n",
    "\n",
    "# aco_vehicle(n_vehicles, n_ants, psi_fis, beta, rho)"
   ]
  },
  {
   "source": [
    "## ACO Time function"
   ],
   "cell_type": "markdown",
   "metadata": {}
  },
  {
   "cell_type": "code",
   "execution_count": 24,
   "metadata": {},
   "outputs": [],
   "source": [
    "# def aco_time(n_vehicles, n_ants, psi_gb, beta, rho):\n",
    "def aco_time(n_vehicles, n_ants, beta, rho):\n",
    "    global psi_gb\n",
    "\n",
    "    # psi_gb.cost = 10000\n",
    "    n_depots = n_vehicles + 1\n",
    "    data, graph, n_locations, n_depots, max_vehicles, max_capacity = create_graph(n_vehicles)\n",
    "    tau0 = 10/np.sum(graph.edges)\n",
    "    tau = np.full(graph.edges.shape, tau0)\n",
    "\n",
    "    incom = np.zeros(n_locations + n_depots)\n",
    "    for i in tqdm(range(10)):\n",
    "        ants = [None for i in range(n_ants)]\n",
    "\n",
    "        for i in range(n_ants):\n",
    "            local = True\n",
    "            ants[i] = new_active_ant(local, incom, n_locations, n_depots, \n",
    "                                    n_vehicles, data, graph, tau, tau0, \n",
    "                                    beta, max_capacity, rho)\n",
    " \n",
    "        for i in range(n_ants):\n",
    "            # print(len(ants[i].tour), ants[i].cost)\n",
    "            if len(ants[i].tour) == n_locations + n_depots and ants[i].cost < psi_gb.cost:\n",
    "                psi_gb = ants[i]\n",
    "            \n",
    "        # updating tau values\n",
    "        tau = (1-rho) * tau\n",
    "        # print(psi_gb)\n",
    "        for j in range(len(psi_gb.tour) - 1):\n",
    "            cur, nxt = psi_gb.tour[j:j+2]\n",
    "            if cur < tau.shape[0] and nxt < tau.shape[0]:\n",
    "                tau[cur][nxt] += 1/psi_gb.cost\n",
    "                tau[nxt][cur] += 1/psi_gb.cost\n",
    "\n",
    "    return psi_gb"
   ]
  },
  {
   "cell_type": "code",
   "execution_count": 25,
   "metadata": {},
   "outputs": [],
   "source": [
    "# n_vehicles = 19\n",
    "# beta = 1\n",
    "# rho = 0.25\n",
    "# n_ants = 20\n",
    "\n",
    "# aco_time(n_vehicles, n_ants, psi_fis, beta, rho)"
   ]
  },
  {
   "source": [
    "## Higher level multiple ACO function"
   ],
   "cell_type": "markdown",
   "metadata": {}
  },
  {
   "cell_type": "code",
   "execution_count": 26,
   "metadata": {},
   "outputs": [],
   "source": [
    "def maco_vrptw(n_ants, beta, rho):\n",
    "    \n",
    "    veh = psi_gb.veh\n",
    "    for i in range(30):\n",
    "\n",
    "        for i in range(5):\n",
    "            psi1 = aco_vehicle(veh - 1, n_ants, beta, rho)\n",
    "            print('\\nvehicle => ', psi1)\n",
    "            if psi1.veh <= veh and psi1.visi == 100:\n",
    "                veh = psi1.veh\n",
    "                break\n",
    "        else:\n",
    "            psi2 = aco_time(veh, n_ants, beta, rho)\n",
    "            print('\\ntime => ', psi2)\n",
    "            break\n",
    "        \n",
    "    return psi_gb"
   ]
  },
  {
   "cell_type": "code",
   "execution_count": 27,
   "metadata": {},
   "outputs": [
    {
     "output_type": "stream",
     "name": "stderr",
     "text": [
      "100%|██████████| 10/10 [01:01<00:00,  6.18s/it]\n",
      "  0%|          | 0/10 [00:00<?, ?it/s]\n",
      "vehicle =>  Ant(tour=[0, 66, 71, 53, 34, 86, 85, 87, 69, 17, 1, 40, 41, 39, 25, 93, 81, 90, 16, 63, 14, 2, 102, 19, 107, 108, 110, 105, 72, 106, 50, 113, 3, 26, 100, 15, 70, 28, 56, 27, 4, 65, 31, 73, 96, 97, 18, 112, 109, 104, 5, 82, 44, 101, 75, 23, 103, 76, 45, 33, 79, 6, 89, 92, 91, 47, 94, 46, 64, 22, 48, 7, 83, 43, 84, 78, 37, 67, 8, 20, 95, 61, 60, 49, 62, 32, 59, 9, 111, 98, 74, 29, 57, 99, 30, 58, 10, 55, 54, 35, 88, 36, 52, 38, 68, 11, 21, 24, 77, 12, 42, 80, 51, 13], o=1352.7622316883844, veh=13, visi=100)\n",
      "100%|██████████| 10/10 [01:00<00:00,  6.04s/it]\n",
      "  0%|          | 0/10 [00:00<?, ?it/s]\n",
      "vehicle =>  Ant(tour=[0, 65, 70, 52, 33, 85, 84, 86, 68, 16, 1, 39, 40, 38, 24, 92, 80, 89, 15, 62, 13, 2, 101, 18, 106, 107, 109, 104, 71, 105, 49, 112, 3, 25, 99, 14, 69, 27, 55, 26, 4, 64, 30, 72, 95, 96, 17, 111, 108, 103, 5, 81, 43, 100, 19, 94, 60, 59, 48, 61, 58, 6, 88, 91, 90, 46, 93, 45, 63, 21, 47, 7, 82, 42, 32, 78, 83, 77, 44, 8, 110, 97, 73, 28, 56, 98, 29, 57, 9, 66, 67, 37, 51, 36, 10, 54, 53, 34, 87, 35, 79, 11, 74, 22, 102, 75, 23, 76, 12], o=1161.2967160008952, veh=12, visi=96)\n",
      "100%|██████████| 10/10 [00:50<00:00,  5.10s/it]\n",
      "  0%|          | 0/10 [00:00<?, ?it/s]\n",
      "vehicle =>  Ant(tour=[0, 65, 70, 52, 33, 85, 84, 86, 68, 16, 1, 39, 40, 38, 24, 92, 80, 89, 15, 62, 13, 2, 101, 18, 106, 107, 109, 104, 71, 105, 49, 112, 3, 25, 99, 14, 69, 27, 55, 26, 4, 64, 30, 72, 95, 96, 17, 111, 108, 103, 5, 81, 43, 100, 19, 94, 60, 59, 48, 61, 58, 6, 88, 91, 90, 46, 93, 45, 63, 21, 47, 7, 82, 42, 32, 78, 83, 77, 44, 8, 110, 97, 73, 28, 56, 98, 29, 57, 9, 66, 67, 37, 51, 36, 10, 54, 53, 34, 87, 35, 79, 11, 74, 22, 102, 75, 23, 76, 12], o=1161.2967160008952, veh=12, visi=96)\n",
      "100%|██████████| 10/10 [00:48<00:00,  4.83s/it]\n",
      "  0%|          | 0/10 [00:00<?, ?it/s]\n",
      "vehicle =>  Ant(tour=[0, 65, 70, 52, 33, 85, 84, 86, 68, 16, 1, 39, 40, 38, 24, 92, 80, 89, 15, 62, 13, 2, 101, 18, 106, 107, 109, 104, 71, 105, 49, 112, 3, 25, 99, 14, 69, 27, 55, 26, 4, 64, 30, 72, 95, 96, 17, 111, 108, 103, 5, 81, 43, 100, 19, 94, 60, 59, 48, 61, 58, 6, 88, 91, 90, 46, 93, 45, 63, 21, 47, 7, 82, 42, 32, 78, 83, 77, 44, 8, 110, 97, 73, 28, 56, 98, 29, 57, 9, 66, 67, 37, 51, 36, 10, 54, 53, 34, 87, 35, 79, 11, 74, 22, 102, 75, 23, 76, 12], o=1161.2967160008952, veh=12, visi=96)\n",
      "100%|██████████| 10/10 [00:48<00:00,  4.83s/it]\n",
      "  0%|          | 0/10 [00:00<?, ?it/s]\n",
      "vehicle =>  Ant(tour=[0, 65, 70, 52, 33, 85, 84, 86, 68, 16, 1, 39, 40, 38, 24, 92, 80, 89, 15, 62, 13, 2, 101, 18, 106, 107, 109, 104, 71, 105, 49, 112, 3, 25, 99, 14, 69, 27, 55, 26, 4, 64, 30, 72, 95, 96, 17, 111, 108, 103, 5, 81, 43, 100, 19, 94, 60, 59, 48, 61, 58, 6, 88, 91, 90, 46, 93, 45, 63, 21, 47, 7, 82, 42, 32, 78, 83, 77, 44, 8, 110, 97, 73, 28, 56, 98, 29, 57, 9, 66, 67, 37, 51, 36, 10, 54, 53, 34, 87, 35, 79, 11, 74, 22, 102, 75, 23, 76, 12], o=1161.2967160008952, veh=12, visi=96)\n",
      "100%|██████████| 10/10 [00:47<00:00,  4.72s/it]\n",
      "  0%|          | 0/10 [00:00<?, ?it/s]\n",
      "vehicle =>  Ant(tour=[0, 65, 70, 52, 33, 85, 84, 86, 68, 16, 1, 39, 40, 38, 24, 92, 80, 89, 15, 62, 13, 2, 101, 18, 106, 107, 109, 104, 71, 105, 49, 112, 3, 25, 99, 14, 69, 27, 55, 26, 4, 64, 30, 72, 95, 96, 17, 111, 108, 103, 5, 81, 43, 100, 19, 94, 60, 59, 48, 61, 58, 6, 88, 91, 90, 46, 93, 45, 63, 21, 47, 7, 82, 42, 32, 78, 83, 77, 44, 8, 110, 97, 73, 28, 56, 98, 29, 57, 9, 66, 67, 37, 51, 36, 10, 54, 53, 34, 87, 35, 79, 11, 74, 22, 102, 75, 23, 76, 12], o=1161.2967160008952, veh=12, visi=96)\n",
      "100%|██████████| 10/10 [11:24<00:00, 68.43s/it]\n",
      "time =>  Ant(tour=[0, 83, 88, 70, 51, 103, 102, 104, 86, 34, 1, 57, 58, 56, 42, 110, 98, 107, 33, 80, 31, 2, 119, 36, 124, 125, 127, 122, 89, 123, 67, 130, 3, 43, 117, 32, 87, 45, 73, 44, 4, 82, 48, 90, 113, 114, 35, 129, 126, 121, 5, 99, 61, 118, 92, 40, 120, 62, 93, 94, 6, 106, 109, 108, 64, 111, 63, 81, 39, 65, 7, 100, 60, 50, 96, 101, 95, 8, 37, 112, 78, 77, 66, 79, 49, 76, 9, 128, 115, 91, 46, 74, 116, 47, 75, 10, 84, 85, 55, 69, 54, 11, 72, 71, 52, 105, 53, 97, 12, 38, 41, 59, 13, 68, 14], o=1370.2311363260492, veh=14, visi=100)\n",
      "\n"
     ]
    },
    {
     "output_type": "execute_result",
     "data": {
      "text/plain": [
       "Ant(tour=[0, 83, 88, 70, 51, 103, 102, 104, 86, 34, 1, 57, 58, 56, 42, 110, 98, 107, 33, 80, 31, 2, 119, 36, 124, 125, 127, 122, 89, 123, 67, 130, 3, 43, 117, 32, 87, 45, 73, 44, 4, 82, 48, 90, 113, 114, 35, 129, 126, 121, 5, 99, 61, 118, 92, 40, 120, 62, 93, 94, 6, 106, 109, 108, 64, 111, 63, 81, 39, 65, 7, 100, 60, 50, 96, 101, 95, 8, 37, 112, 78, 77, 66, 79, 49, 76, 9, 128, 115, 91, 46, 74, 116, 47, 75, 10, 84, 85, 55, 69, 54, 11, 72, 71, 52, 105, 53, 97, 12, 38, 41, 59, 13, 68, 14], o=1370.2311363260492, veh=14, visi=100)"
      ]
     },
     "metadata": {},
     "execution_count": 27
    }
   ],
   "source": [
    "n_vehicles = 30\n",
    "data, graph, n_locations, n_depots, max_vehicles, max_capacity = create_graph(n_vehicles)\n",
    "psi_gb = feasible_initial_solution(n_locations, n_depots, graph, data, max_capacity)\n",
    "\n",
    "n_ants = 10\n",
    "beta = 1\n",
    "rho = 0.1\n",
    "best_tour = maco_vrptw(n_ants, beta, rho)\n",
    "best_tour"
   ]
  },
  {
   "cell_type": "code",
   "execution_count": null,
   "metadata": {},
   "outputs": [],
   "source": []
  }
 ]
}