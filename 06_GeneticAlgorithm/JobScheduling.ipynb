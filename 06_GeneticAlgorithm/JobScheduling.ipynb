{
 "metadata": {
  "language_info": {
   "codemirror_mode": {
    "name": "ipython",
    "version": 3
   },
   "file_extension": ".py",
   "mimetype": "text/x-python",
   "name": "python",
   "nbconvert_exporter": "python",
   "pygments_lexer": "ipython3",
   "version": "3.9.1-final"
  },
  "orig_nbformat": 2,
  "kernelspec": {
   "name": "python391jvsc74a57bd0972951680f70378456cfab88c359e072bd45c934348f4a76cceadaff542d740e",
   "display_name": "Python 3.9.1 64-bit"
  },
  "metadata": {
   "interpreter": {
    "hash": "972951680f70378456cfab88c359e072bd45c934348f4a76cceadaff542d740e"
   }
  }
 },
 "nbformat": 4,
 "nbformat_minor": 2,
 "cells": [
  {
   "source": [
    "# Genetic Algorithm (Permutation Flow Shop Problem)"
   ],
   "cell_type": "markdown",
   "metadata": {}
  },
  {
   "cell_type": "code",
   "execution_count": 1,
   "metadata": {},
   "outputs": [],
   "source": [
    "import numpy as np\n",
    "import matplotlib.pyplot as plt\n",
    "import random\n",
    "import copy\n",
    "from tqdm import tqdm"
   ]
  },
  {
   "cell_type": "code",
   "execution_count": 2,
   "metadata": {},
   "outputs": [],
   "source": [
    "class Chromosome:\n",
    "    def __init__(self, perm) -> None:\n",
    "        self.perm = perm\n",
    "        self.cost = None\n",
    "\n",
    "    def __repr__(self) -> str:\n",
    "        return f'Node(perm={self.perm}, cost={self.cost})'\n",
    "\n",
    "    def __lt__(self, other):\n",
    "        return self.cost < other.cost"
   ]
  },
  {
   "source": [
    "## Getting data"
   ],
   "cell_type": "markdown",
   "metadata": {}
  },
  {
   "cell_type": "code",
   "execution_count": 3,
   "metadata": {},
   "outputs": [
    {
     "output_type": "execute_result",
     "data": {
      "text/plain": [
       "(100, 40)"
      ]
     },
     "metadata": {},
     "execution_count": 3
    }
   ],
   "source": [
    "with open('ta80','r',encoding = 'utf-8') as f:\n",
    "   n, m = [int(x) for x in f.readline().split()]\n",
    "   data = []\n",
    "   for i in range(n):\n",
    "       data.append([int(x) for x in f.readline().split()])\n",
    "\n",
    "data = np.array(data)\n",
    "data.shape"
   ]
  },
  {
   "source": [
    "## Objective function"
   ],
   "cell_type": "markdown",
   "metadata": {}
  },
  {
   "source": [
    "![](https://i.imgur.com/saRstYp.png)"
   ],
   "cell_type": "markdown",
   "metadata": {}
  },
  {
   "cell_type": "code",
   "execution_count": 4,
   "metadata": {},
   "outputs": [
    {
     "output_type": "execute_result",
     "data": {
      "text/plain": [
       "7730.0"
      ]
     },
     "metadata": {},
     "execution_count": 4
    }
   ],
   "source": [
    "def objective(perm, data):\n",
    "    n_jobs, n_machines = data.shape\n",
    "\n",
    "    # helper array, it stores the completion time for each machine for last job \n",
    "    jcx = np.zeros(n_machines)\n",
    "\n",
    "    # filling in end times for each machine for first job\n",
    "    end = 0\n",
    "    for j in range(n_machines):\n",
    "        end += data[perm[0]][j]\n",
    "        jcx[j] = end\n",
    "    # print(jcx)\n",
    "\n",
    "    # filling in end times for each machine for second to last job\n",
    "    for i in range(1,n_jobs):\n",
    "        for j in range(n_machines):\n",
    "            if j == 0:  # if first machine in job\n",
    "                jcx[j] = jcx[j] + data[perm[i]][j]\n",
    "            else:       # else, consider previous end time of last machine in current job, jcx[j-1]\n",
    "                        # and end time of current machine in last job,  jcx[j]\n",
    "                jcx[j] = max(jcx[j-1], jcx[j]) + data[perm[i]][j]\n",
    "    # print(jcx)\n",
    "    \n",
    "    return jcx[n_machines - 1]\n",
    "\n",
    "objective(list(range(data.shape[0])), data)"
   ]
  },
  {
   "source": [
    "## Initialization"
   ],
   "cell_type": "markdown",
   "metadata": {}
  },
  {
   "cell_type": "code",
   "execution_count": 5,
   "metadata": {},
   "outputs": [],
   "source": [
    "def initialization(m, n):\n",
    "    # m -> no of chromosomes\n",
    "    # n -> no of genes in chromosome\n",
    "    pop = [Chromosome(np.random.permutation(n)) for i in range(m)]\n",
    "    for c in pop:\n",
    "        c.cost = objective(c.perm, data)\n",
    "    return pop\n",
    "\n",
    "# testing\n",
    "# initialization(2, 5)"
   ]
  },
  {
   "source": [
    "## Selection"
   ],
   "cell_type": "markdown",
   "metadata": {}
  },
  {
   "cell_type": "code",
   "execution_count": 6,
   "metadata": {},
   "outputs": [],
   "source": [
    "def selection(pop):\n",
    "    wts = [chr.cost for chr in pop]\n",
    "    # print(wts)\n",
    "    wts = wts - (min(wts)-1) # shifting so min value becomes 1\n",
    "    wts = 1 / wts # minimization problem\n",
    "    wts = wts / sum(wts) # scaling to probability values\n",
    "    # print(wts)\n",
    "\n",
    "    # two indices between [0,len(pop)-1] without replacement\n",
    "    ixs = np.random.choice(len(pop), 2, p=wts, replace=False) \n",
    "\n",
    "    # return pop[ixs[0]], pop[ixs[1]] # these get modified later, so make deep copies\n",
    "    return copy.deepcopy(pop[ixs[0]]), copy.deepcopy(pop[ixs[1]])\n",
    "\n",
    "# testing\n",
    "# selection(initialization(5, 5))"
   ]
  },
  {
   "source": [
    "## Crossover"
   ],
   "cell_type": "markdown",
   "metadata": {}
  },
  {
   "cell_type": "code",
   "execution_count": 7,
   "metadata": {},
   "outputs": [],
   "source": [
    "def crossover(parent1, parent2, p_c, p_i):\n",
    "    n = len(parent1.perm)\n",
    "    # k = int(np.sqrt(n))\n",
    "    k = int(n * p_i)\n",
    "    si = np.random.choice(np.arange(1,n), k, replace=False) # selected indices\n",
    "    se = set(parent1.perm[si]) # selected elements\n",
    "    # print(si)\n",
    "    # print(se)\n",
    "\n",
    "    order_p1 = []\n",
    "    order_p2 = []\n",
    "    for x in parent1.perm:\n",
    "        if x in se:\n",
    "            order_p1.append(x)\n",
    "    for x in parent2.perm:\n",
    "        if x in se:\n",
    "            order_p2.append(x)\n",
    "    # print(order_p1)\n",
    "    # print(order_p2)\n",
    "\n",
    "    child1_perm = parent1.perm.copy()\n",
    "    child2_perm = parent2.perm.copy()\n",
    "    for i in range(n):\n",
    "        if child1_perm[i] in se:\n",
    "            child1_perm[i] = order_p2[0]\n",
    "            order_p2.pop(0)\n",
    "    for i in range(n):\n",
    "        if child2_perm[i] in se:\n",
    "            child2_perm[i] = order_p1[0]\n",
    "            order_p1.pop(0)\n",
    "\n",
    "    # print(child1_perm)\n",
    "    # print(child2_perm)\n",
    "    child1 = Chromosome(child1_perm)\n",
    "    child2 = Chromosome(child2_perm)\n",
    "\n",
    "    p1 = np.random.rand()\n",
    "    p2 = np.random.rand()\n",
    "    return (child1 if p1 < p_c else parent1, child2 if p2 < p_c else parent2)\n",
    "    \n",
    "# testing\n",
    "# _sel = selection(initialization(5, 5))\n",
    "# print(_sel)\n",
    "# crossover(_sel[0], _sel[1], p_c=1)"
   ]
  },
  {
   "source": [
    "## Mutation"
   ],
   "cell_type": "markdown",
   "metadata": {}
  },
  {
   "cell_type": "code",
   "execution_count": 8,
   "metadata": {},
   "outputs": [],
   "source": [
    "def mutation(child, p_m, p_i):\n",
    "    n = len(child.perm)\n",
    "    k = int(n * p_i)\n",
    "    # k = int(np.sqrt(n))\n",
    "    si = np.random.choice(np.arange(1,n), k, replace=False) # selected indices\n",
    "    se = set(child.perm[si]) # selected elements\n",
    "    # print(si)\n",
    "    # print(se)\n",
    "\n",
    "    order = []\n",
    "    for x in child.perm:\n",
    "        if x in se:\n",
    "            order.append(x)\n",
    "    order = list(np.random.permutation(order))\n",
    "    # print(order)\n",
    "\n",
    "    child_perm = child.perm.copy()\n",
    "    for i in range(n):\n",
    "        if child_perm[i] in se:\n",
    "            child_perm[i] = order[0]\n",
    "            order.pop(0)\n",
    "    # print(child_perm)\n",
    "\n",
    "    child_m = Chromosome(child_perm)\n",
    "\n",
    "    p = np.random.rand()\n",
    "    return child_m if p < p_m else child\n",
    "\n",
    "# testing\n",
    "# _pop = initialization(1, 5)\n",
    "# print(_pop)\n",
    "# mutation(_pop[0], p_m=0.1)"
   ]
  },
  {
   "source": [
    "## Elitism"
   ],
   "cell_type": "markdown",
   "metadata": {}
  },
  {
   "cell_type": "code",
   "execution_count": 9,
   "metadata": {},
   "outputs": [],
   "source": [
    "def elitism(pop, new_pop, e_r):\n",
    "    m = len(pop)\n",
    "    ec = int(e_r * m) # elites count\n",
    "    # print(ec)\n",
    "    pop.sort()\n",
    "    # pop.sort(reverse=True)\n",
    "    new_pop.sort(reverse=True)\n",
    "    # new_pop.sort()\n",
    "    new_pop[:ec] = pop[:ec]\n",
    "    return new_pop"
   ]
  },
  {
   "source": [
    "## Main Genetic Algorithm function"
   ],
   "cell_type": "markdown",
   "metadata": {}
  },
  {
   "cell_type": "code",
   "execution_count": 10,
   "metadata": {},
   "outputs": [],
   "source": [
    "def genetic_algorithm(m, n, max_gens, p_c, p_m, e_r, p_i):\n",
    "    cost_list = []\n",
    "    pop = initialization(m, n)\n",
    "\n",
    "    for g in tqdm(range(max_gens)):\n",
    "\n",
    "        new_pop = []\n",
    "\n",
    "        for i in range(m//2):\n",
    "            # print(i, pop)\n",
    "            parent1, parent2 = selection(pop)\n",
    "            child1, child2 = crossover(parent1, parent2, p_c, p_i)\n",
    "            child1 = mutation(child1, p_m, p_i)\n",
    "            child2 = mutation(child2, p_m, p_i)\n",
    "\n",
    "            new_pop.append(child1)\n",
    "            new_pop.append(child2)\n",
    "\n",
    "        for c in new_pop:\n",
    "            c.cost = objective(c.perm, data)\n",
    "\n",
    "        pop = elitism(pop, new_pop, e_r)\n",
    "        # print(min(pop))\n",
    "        cost_list.append(min(pop).cost)\n",
    "    \n",
    "    plt.plot(cost_list)\n",
    "    return min(pop)"
   ]
  },
  {
   "cell_type": "code",
   "execution_count": 11,
   "metadata": {},
   "outputs": [],
   "source": [
    "# genetic_algorithm(m = 50, n = 100, max_gens = 500, p_c = 0.1, p_m = 0.9, e_r = 0.1, p_i = 0.1)"
   ]
  },
  {
   "cell_type": "code",
   "execution_count": 12,
   "metadata": {},
   "outputs": [],
   "source": [
    "# genetic_algorithm(m = 50, n = 100, max_gens = 500, p_c = 0.9, p_m = 0.1, e_r = 0.1, p_i = 0.1)"
   ]
  },
  {
   "cell_type": "code",
   "execution_count": 13,
   "metadata": {},
   "outputs": [],
   "source": [
    "# genetic_algorithm(m = 50, n = 100, max_gens = 500, p_c = 0.1, p_m = 0.1, e_r = 0.1, p_i = 0.1)"
   ]
  },
  {
   "cell_type": "code",
   "execution_count": 14,
   "metadata": {},
   "outputs": [],
   "source": [
    "# genetic_algorithm(m = 50, n = 100, max_gens = 500, p_c = 0.9, p_m = 0.9, e_r = 0.1, p_i = 0.1)"
   ]
  },
  {
   "cell_type": "code",
   "execution_count": 16,
   "metadata": {},
   "outputs": [
    {
     "output_type": "stream",
     "name": "stderr",
     "text": [
      "100%|██████████| 500/500 [01:40<00:00,  4.98it/s]\n"
     ]
    },
    {
     "output_type": "execute_result",
     "data": {
      "text/plain": [
       "Node(perm=[37 47 62 45  4 95 41 27 33 29 11  7 50 88 83 97 75 57 89 16 39 87 53 65\n",
       " 26  9 22 34 35 68 48 91 19 15 74 80 59 14 43 73 28 20 52 42 44 21 79 66\n",
       " 86 69 46  0 72 30 96 98 55 17  8 49 51 23 56 60 67 13 64 32 85 92 81 70\n",
       " 78 24  5  3  2 58 54 94 90 31 99 18 38 25 77  6 82 71 61 36 10 84 40 93\n",
       " 76 12  1 63], cost=6691.0)"
      ]
     },
     "metadata": {},
     "execution_count": 16
    },
    {
     "output_type": "display_data",
     "data": {
      "text/plain": "<Figure size 432x288 with 1 Axes>",
      "image/svg+xml": "<?xml version=\"1.0\" encoding=\"utf-8\" standalone=\"no\"?>\r\n<!DOCTYPE svg PUBLIC \"-//W3C//DTD SVG 1.1//EN\"\r\n  \"http://www.w3.org/Graphics/SVG/1.1/DTD/svg11.dtd\">\r\n<!-- Created with matplotlib (https://matplotlib.org/) -->\r\n<svg height=\"248.518125pt\" version=\"1.1\" viewBox=\"0 0 381.65 248.518125\" width=\"381.65pt\" xmlns=\"http://www.w3.org/2000/svg\" xmlns:xlink=\"http://www.w3.org/1999/xlink\">\r\n <metadata>\r\n  <rdf:RDF xmlns:cc=\"http://creativecommons.org/ns#\" xmlns:dc=\"http://purl.org/dc/elements/1.1/\" xmlns:rdf=\"http://www.w3.org/1999/02/22-rdf-syntax-ns#\">\r\n   <cc:Work>\r\n    <dc:type rdf:resource=\"http://purl.org/dc/dcmitype/StillImage\"/>\r\n    <dc:date>2021-04-12T13:05:31.474222</dc:date>\r\n    <dc:format>image/svg+xml</dc:format>\r\n    <dc:creator>\r\n     <cc:Agent>\r\n      <dc:title>Matplotlib v3.3.4, https://matplotlib.org/</dc:title>\r\n     </cc:Agent>\r\n    </dc:creator>\r\n   </cc:Work>\r\n  </rdf:RDF>\r\n </metadata>\r\n <defs>\r\n  <style type=\"text/css\">*{stroke-linecap:butt;stroke-linejoin:round;}</style>\r\n </defs>\r\n <g id=\"figure_1\">\r\n  <g id=\"patch_1\">\r\n   <path d=\"M -0 248.518125 \r\nL 381.65 248.518125 \r\nL 381.65 0 \r\nL -0 0 \r\nz\r\n\" style=\"fill:none;\"/>\r\n  </g>\r\n  <g id=\"axes_1\">\r\n   <g id=\"patch_2\">\r\n    <path d=\"M 39.65 224.64 \r\nL 374.45 224.64 \r\nL 374.45 7.2 \r\nL 39.65 7.2 \r\nz\r\n\" style=\"fill:#ffffff;\"/>\r\n   </g>\r\n   <g id=\"matplotlib.axis_1\">\r\n    <g id=\"xtick_1\">\r\n     <g id=\"line2d_1\">\r\n      <defs>\r\n       <path d=\"M 0 0 \r\nL 0 3.5 \r\n\" id=\"m235d1e33d7\" style=\"stroke:#000000;stroke-width:0.8;\"/>\r\n      </defs>\r\n      <g>\r\n       <use style=\"stroke:#000000;stroke-width:0.8;\" x=\"54.868182\" xlink:href=\"#m235d1e33d7\" y=\"224.64\"/>\r\n      </g>\r\n     </g>\r\n     <g id=\"text_1\">\r\n      <!-- 0 -->\r\n      <g transform=\"translate(51.686932 239.238438)scale(0.1 -0.1)\">\r\n       <defs>\r\n        <path d=\"M 31.78125 66.40625 \r\nQ 24.171875 66.40625 20.328125 58.90625 \r\nQ 16.5 51.421875 16.5 36.375 \r\nQ 16.5 21.390625 20.328125 13.890625 \r\nQ 24.171875 6.390625 31.78125 6.390625 \r\nQ 39.453125 6.390625 43.28125 13.890625 \r\nQ 47.125 21.390625 47.125 36.375 \r\nQ 47.125 51.421875 43.28125 58.90625 \r\nQ 39.453125 66.40625 31.78125 66.40625 \r\nz\r\nM 31.78125 74.21875 \r\nQ 44.046875 74.21875 50.515625 64.515625 \r\nQ 56.984375 54.828125 56.984375 36.375 \r\nQ 56.984375 17.96875 50.515625 8.265625 \r\nQ 44.046875 -1.421875 31.78125 -1.421875 \r\nQ 19.53125 -1.421875 13.0625 8.265625 \r\nQ 6.59375 17.96875 6.59375 36.375 \r\nQ 6.59375 54.828125 13.0625 64.515625 \r\nQ 19.53125 74.21875 31.78125 74.21875 \r\nz\r\n\" id=\"DejaVuSans-48\"/>\r\n       </defs>\r\n       <use xlink:href=\"#DejaVuSans-48\"/>\r\n      </g>\r\n     </g>\r\n    </g>\r\n    <g id=\"xtick_2\">\r\n     <g id=\"line2d_2\">\r\n      <g>\r\n       <use style=\"stroke:#000000;stroke-width:0.8;\" x=\"115.862899\" xlink:href=\"#m235d1e33d7\" y=\"224.64\"/>\r\n      </g>\r\n     </g>\r\n     <g id=\"text_2\">\r\n      <!-- 100 -->\r\n      <g transform=\"translate(106.319149 239.238438)scale(0.1 -0.1)\">\r\n       <defs>\r\n        <path d=\"M 12.40625 8.296875 \r\nL 28.515625 8.296875 \r\nL 28.515625 63.921875 \r\nL 10.984375 60.40625 \r\nL 10.984375 69.390625 \r\nL 28.421875 72.90625 \r\nL 38.28125 72.90625 \r\nL 38.28125 8.296875 \r\nL 54.390625 8.296875 \r\nL 54.390625 0 \r\nL 12.40625 0 \r\nz\r\n\" id=\"DejaVuSans-49\"/>\r\n       </defs>\r\n       <use xlink:href=\"#DejaVuSans-49\"/>\r\n       <use x=\"63.623047\" xlink:href=\"#DejaVuSans-48\"/>\r\n       <use x=\"127.246094\" xlink:href=\"#DejaVuSans-48\"/>\r\n      </g>\r\n     </g>\r\n    </g>\r\n    <g id=\"xtick_3\">\r\n     <g id=\"line2d_3\">\r\n      <g>\r\n       <use style=\"stroke:#000000;stroke-width:0.8;\" x=\"176.857615\" xlink:href=\"#m235d1e33d7\" y=\"224.64\"/>\r\n      </g>\r\n     </g>\r\n     <g id=\"text_3\">\r\n      <!-- 200 -->\r\n      <g transform=\"translate(167.313865 239.238438)scale(0.1 -0.1)\">\r\n       <defs>\r\n        <path d=\"M 19.1875 8.296875 \r\nL 53.609375 8.296875 \r\nL 53.609375 0 \r\nL 7.328125 0 \r\nL 7.328125 8.296875 \r\nQ 12.9375 14.109375 22.625 23.890625 \r\nQ 32.328125 33.6875 34.8125 36.53125 \r\nQ 39.546875 41.84375 41.421875 45.53125 \r\nQ 43.3125 49.21875 43.3125 52.78125 \r\nQ 43.3125 58.59375 39.234375 62.25 \r\nQ 35.15625 65.921875 28.609375 65.921875 \r\nQ 23.96875 65.921875 18.8125 64.3125 \r\nQ 13.671875 62.703125 7.8125 59.421875 \r\nL 7.8125 69.390625 \r\nQ 13.765625 71.78125 18.9375 73 \r\nQ 24.125 74.21875 28.421875 74.21875 \r\nQ 39.75 74.21875 46.484375 68.546875 \r\nQ 53.21875 62.890625 53.21875 53.421875 \r\nQ 53.21875 48.921875 51.53125 44.890625 \r\nQ 49.859375 40.875 45.40625 35.40625 \r\nQ 44.1875 33.984375 37.640625 27.21875 \r\nQ 31.109375 20.453125 19.1875 8.296875 \r\nz\r\n\" id=\"DejaVuSans-50\"/>\r\n       </defs>\r\n       <use xlink:href=\"#DejaVuSans-50\"/>\r\n       <use x=\"63.623047\" xlink:href=\"#DejaVuSans-48\"/>\r\n       <use x=\"127.246094\" xlink:href=\"#DejaVuSans-48\"/>\r\n      </g>\r\n     </g>\r\n    </g>\r\n    <g id=\"xtick_4\">\r\n     <g id=\"line2d_4\">\r\n      <g>\r\n       <use style=\"stroke:#000000;stroke-width:0.8;\" x=\"237.852332\" xlink:href=\"#m235d1e33d7\" y=\"224.64\"/>\r\n      </g>\r\n     </g>\r\n     <g id=\"text_4\">\r\n      <!-- 300 -->\r\n      <g transform=\"translate(228.308582 239.238438)scale(0.1 -0.1)\">\r\n       <defs>\r\n        <path d=\"M 40.578125 39.3125 \r\nQ 47.65625 37.796875 51.625 33 \r\nQ 55.609375 28.21875 55.609375 21.1875 \r\nQ 55.609375 10.40625 48.1875 4.484375 \r\nQ 40.765625 -1.421875 27.09375 -1.421875 \r\nQ 22.515625 -1.421875 17.65625 -0.515625 \r\nQ 12.796875 0.390625 7.625 2.203125 \r\nL 7.625 11.71875 \r\nQ 11.71875 9.328125 16.59375 8.109375 \r\nQ 21.484375 6.890625 26.8125 6.890625 \r\nQ 36.078125 6.890625 40.9375 10.546875 \r\nQ 45.796875 14.203125 45.796875 21.1875 \r\nQ 45.796875 27.640625 41.28125 31.265625 \r\nQ 36.765625 34.90625 28.71875 34.90625 \r\nL 20.21875 34.90625 \r\nL 20.21875 43.015625 \r\nL 29.109375 43.015625 \r\nQ 36.375 43.015625 40.234375 45.921875 \r\nQ 44.09375 48.828125 44.09375 54.296875 \r\nQ 44.09375 59.90625 40.109375 62.90625 \r\nQ 36.140625 65.921875 28.71875 65.921875 \r\nQ 24.65625 65.921875 20.015625 65.03125 \r\nQ 15.375 64.15625 9.8125 62.3125 \r\nL 9.8125 71.09375 \r\nQ 15.4375 72.65625 20.34375 73.4375 \r\nQ 25.25 74.21875 29.59375 74.21875 \r\nQ 40.828125 74.21875 47.359375 69.109375 \r\nQ 53.90625 64.015625 53.90625 55.328125 \r\nQ 53.90625 49.265625 50.4375 45.09375 \r\nQ 46.96875 40.921875 40.578125 39.3125 \r\nz\r\n\" id=\"DejaVuSans-51\"/>\r\n       </defs>\r\n       <use xlink:href=\"#DejaVuSans-51\"/>\r\n       <use x=\"63.623047\" xlink:href=\"#DejaVuSans-48\"/>\r\n       <use x=\"127.246094\" xlink:href=\"#DejaVuSans-48\"/>\r\n      </g>\r\n     </g>\r\n    </g>\r\n    <g id=\"xtick_5\">\r\n     <g id=\"line2d_5\">\r\n      <g>\r\n       <use style=\"stroke:#000000;stroke-width:0.8;\" x=\"298.847049\" xlink:href=\"#m235d1e33d7\" y=\"224.64\"/>\r\n      </g>\r\n     </g>\r\n     <g id=\"text_5\">\r\n      <!-- 400 -->\r\n      <g transform=\"translate(289.303299 239.238438)scale(0.1 -0.1)\">\r\n       <defs>\r\n        <path d=\"M 37.796875 64.3125 \r\nL 12.890625 25.390625 \r\nL 37.796875 25.390625 \r\nz\r\nM 35.203125 72.90625 \r\nL 47.609375 72.90625 \r\nL 47.609375 25.390625 \r\nL 58.015625 25.390625 \r\nL 58.015625 17.1875 \r\nL 47.609375 17.1875 \r\nL 47.609375 0 \r\nL 37.796875 0 \r\nL 37.796875 17.1875 \r\nL 4.890625 17.1875 \r\nL 4.890625 26.703125 \r\nz\r\n\" id=\"DejaVuSans-52\"/>\r\n       </defs>\r\n       <use xlink:href=\"#DejaVuSans-52\"/>\r\n       <use x=\"63.623047\" xlink:href=\"#DejaVuSans-48\"/>\r\n       <use x=\"127.246094\" xlink:href=\"#DejaVuSans-48\"/>\r\n      </g>\r\n     </g>\r\n    </g>\r\n    <g id=\"xtick_6\">\r\n     <g id=\"line2d_6\">\r\n      <g>\r\n       <use style=\"stroke:#000000;stroke-width:0.8;\" x=\"359.841765\" xlink:href=\"#m235d1e33d7\" y=\"224.64\"/>\r\n      </g>\r\n     </g>\r\n     <g id=\"text_6\">\r\n      <!-- 500 -->\r\n      <g transform=\"translate(350.298015 239.238438)scale(0.1 -0.1)\">\r\n       <defs>\r\n        <path d=\"M 10.796875 72.90625 \r\nL 49.515625 72.90625 \r\nL 49.515625 64.59375 \r\nL 19.828125 64.59375 \r\nL 19.828125 46.734375 \r\nQ 21.96875 47.46875 24.109375 47.828125 \r\nQ 26.265625 48.1875 28.421875 48.1875 \r\nQ 40.625 48.1875 47.75 41.5 \r\nQ 54.890625 34.8125 54.890625 23.390625 \r\nQ 54.890625 11.625 47.5625 5.09375 \r\nQ 40.234375 -1.421875 26.90625 -1.421875 \r\nQ 22.3125 -1.421875 17.546875 -0.640625 \r\nQ 12.796875 0.140625 7.71875 1.703125 \r\nL 7.71875 11.625 \r\nQ 12.109375 9.234375 16.796875 8.0625 \r\nQ 21.484375 6.890625 26.703125 6.890625 \r\nQ 35.15625 6.890625 40.078125 11.328125 \r\nQ 45.015625 15.765625 45.015625 23.390625 \r\nQ 45.015625 31 40.078125 35.4375 \r\nQ 35.15625 39.890625 26.703125 39.890625 \r\nQ 22.75 39.890625 18.8125 39.015625 \r\nQ 14.890625 38.140625 10.796875 36.28125 \r\nz\r\n\" id=\"DejaVuSans-53\"/>\r\n       </defs>\r\n       <use xlink:href=\"#DejaVuSans-53\"/>\r\n       <use x=\"63.623047\" xlink:href=\"#DejaVuSans-48\"/>\r\n       <use x=\"127.246094\" xlink:href=\"#DejaVuSans-48\"/>\r\n      </g>\r\n     </g>\r\n    </g>\r\n   </g>\r\n   <g id=\"matplotlib.axis_2\">\r\n    <g id=\"ytick_1\">\r\n     <g id=\"line2d_7\">\r\n      <defs>\r\n       <path d=\"M 0 0 \r\nL -3.5 0 \r\n\" id=\"m954b62c904\" style=\"stroke:#000000;stroke-width:0.8;\"/>\r\n      </defs>\r\n      <g>\r\n       <use style=\"stroke:#000000;stroke-width:0.8;\" x=\"39.65\" xlink:href=\"#m954b62c904\" y=\"188.983245\"/>\r\n      </g>\r\n     </g>\r\n     <g id=\"text_7\">\r\n      <!-- 6800 -->\r\n      <g transform=\"translate(7.2 192.782464)scale(0.1 -0.1)\">\r\n       <defs>\r\n        <path d=\"M 33.015625 40.375 \r\nQ 26.375 40.375 22.484375 35.828125 \r\nQ 18.609375 31.296875 18.609375 23.390625 \r\nQ 18.609375 15.53125 22.484375 10.953125 \r\nQ 26.375 6.390625 33.015625 6.390625 \r\nQ 39.65625 6.390625 43.53125 10.953125 \r\nQ 47.40625 15.53125 47.40625 23.390625 \r\nQ 47.40625 31.296875 43.53125 35.828125 \r\nQ 39.65625 40.375 33.015625 40.375 \r\nz\r\nM 52.59375 71.296875 \r\nL 52.59375 62.3125 \r\nQ 48.875 64.0625 45.09375 64.984375 \r\nQ 41.3125 65.921875 37.59375 65.921875 \r\nQ 27.828125 65.921875 22.671875 59.328125 \r\nQ 17.53125 52.734375 16.796875 39.40625 \r\nQ 19.671875 43.65625 24.015625 45.921875 \r\nQ 28.375 48.1875 33.59375 48.1875 \r\nQ 44.578125 48.1875 50.953125 41.515625 \r\nQ 57.328125 34.859375 57.328125 23.390625 \r\nQ 57.328125 12.15625 50.6875 5.359375 \r\nQ 44.046875 -1.421875 33.015625 -1.421875 \r\nQ 20.359375 -1.421875 13.671875 8.265625 \r\nQ 6.984375 17.96875 6.984375 36.375 \r\nQ 6.984375 53.65625 15.1875 63.9375 \r\nQ 23.390625 74.21875 37.203125 74.21875 \r\nQ 40.921875 74.21875 44.703125 73.484375 \r\nQ 48.484375 72.75 52.59375 71.296875 \r\nz\r\n\" id=\"DejaVuSans-54\"/>\r\n        <path d=\"M 31.78125 34.625 \r\nQ 24.75 34.625 20.71875 30.859375 \r\nQ 16.703125 27.09375 16.703125 20.515625 \r\nQ 16.703125 13.921875 20.71875 10.15625 \r\nQ 24.75 6.390625 31.78125 6.390625 \r\nQ 38.8125 6.390625 42.859375 10.171875 \r\nQ 46.921875 13.96875 46.921875 20.515625 \r\nQ 46.921875 27.09375 42.890625 30.859375 \r\nQ 38.875 34.625 31.78125 34.625 \r\nz\r\nM 21.921875 38.8125 \r\nQ 15.578125 40.375 12.03125 44.71875 \r\nQ 8.5 49.078125 8.5 55.328125 \r\nQ 8.5 64.0625 14.71875 69.140625 \r\nQ 20.953125 74.21875 31.78125 74.21875 \r\nQ 42.671875 74.21875 48.875 69.140625 \r\nQ 55.078125 64.0625 55.078125 55.328125 \r\nQ 55.078125 49.078125 51.53125 44.71875 \r\nQ 48 40.375 41.703125 38.8125 \r\nQ 48.828125 37.15625 52.796875 32.3125 \r\nQ 56.78125 27.484375 56.78125 20.515625 \r\nQ 56.78125 9.90625 50.3125 4.234375 \r\nQ 43.84375 -1.421875 31.78125 -1.421875 \r\nQ 19.734375 -1.421875 13.25 4.234375 \r\nQ 6.78125 9.90625 6.78125 20.515625 \r\nQ 6.78125 27.484375 10.78125 32.3125 \r\nQ 14.796875 37.15625 21.921875 38.8125 \r\nz\r\nM 18.3125 54.390625 \r\nQ 18.3125 48.734375 21.84375 45.5625 \r\nQ 25.390625 42.390625 31.78125 42.390625 \r\nQ 38.140625 42.390625 41.71875 45.5625 \r\nQ 45.3125 48.734375 45.3125 54.390625 \r\nQ 45.3125 60.0625 41.71875 63.234375 \r\nQ 38.140625 66.40625 31.78125 66.40625 \r\nQ 25.390625 66.40625 21.84375 63.234375 \r\nQ 18.3125 60.0625 18.3125 54.390625 \r\nz\r\n\" id=\"DejaVuSans-56\"/>\r\n       </defs>\r\n       <use xlink:href=\"#DejaVuSans-54\"/>\r\n       <use x=\"63.623047\" xlink:href=\"#DejaVuSans-56\"/>\r\n       <use x=\"127.246094\" xlink:href=\"#DejaVuSans-48\"/>\r\n       <use x=\"190.869141\" xlink:href=\"#DejaVuSans-48\"/>\r\n      </g>\r\n     </g>\r\n    </g>\r\n    <g id=\"ytick_2\">\r\n     <g id=\"line2d_8\">\r\n      <g>\r\n       <use style=\"stroke:#000000;stroke-width:0.8;\" x=\"39.65\" xlink:href=\"#m954b62c904\" y=\"141.693119\"/>\r\n      </g>\r\n     </g>\r\n     <g id=\"text_8\">\r\n      <!-- 7000 -->\r\n      <g transform=\"translate(7.2 145.492337)scale(0.1 -0.1)\">\r\n       <defs>\r\n        <path d=\"M 8.203125 72.90625 \r\nL 55.078125 72.90625 \r\nL 55.078125 68.703125 \r\nL 28.609375 0 \r\nL 18.3125 0 \r\nL 43.21875 64.59375 \r\nL 8.203125 64.59375 \r\nz\r\n\" id=\"DejaVuSans-55\"/>\r\n       </defs>\r\n       <use xlink:href=\"#DejaVuSans-55\"/>\r\n       <use x=\"63.623047\" xlink:href=\"#DejaVuSans-48\"/>\r\n       <use x=\"127.246094\" xlink:href=\"#DejaVuSans-48\"/>\r\n       <use x=\"190.869141\" xlink:href=\"#DejaVuSans-48\"/>\r\n      </g>\r\n     </g>\r\n    </g>\r\n    <g id=\"ytick_3\">\r\n     <g id=\"line2d_9\">\r\n      <g>\r\n       <use style=\"stroke:#000000;stroke-width:0.8;\" x=\"39.65\" xlink:href=\"#m954b62c904\" y=\"94.402993\"/>\r\n      </g>\r\n     </g>\r\n     <g id=\"text_9\">\r\n      <!-- 7200 -->\r\n      <g transform=\"translate(7.2 98.202211)scale(0.1 -0.1)\">\r\n       <use xlink:href=\"#DejaVuSans-55\"/>\r\n       <use x=\"63.623047\" xlink:href=\"#DejaVuSans-50\"/>\r\n       <use x=\"127.246094\" xlink:href=\"#DejaVuSans-48\"/>\r\n       <use x=\"190.869141\" xlink:href=\"#DejaVuSans-48\"/>\r\n      </g>\r\n     </g>\r\n    </g>\r\n    <g id=\"ytick_4\">\r\n     <g id=\"line2d_10\">\r\n      <g>\r\n       <use style=\"stroke:#000000;stroke-width:0.8;\" x=\"39.65\" xlink:href=\"#m954b62c904\" y=\"47.112866\"/>\r\n      </g>\r\n     </g>\r\n     <g id=\"text_10\">\r\n      <!-- 7400 -->\r\n      <g transform=\"translate(7.2 50.912085)scale(0.1 -0.1)\">\r\n       <use xlink:href=\"#DejaVuSans-55\"/>\r\n       <use x=\"63.623047\" xlink:href=\"#DejaVuSans-52\"/>\r\n       <use x=\"127.246094\" xlink:href=\"#DejaVuSans-48\"/>\r\n       <use x=\"190.869141\" xlink:href=\"#DejaVuSans-48\"/>\r\n      </g>\r\n     </g>\r\n    </g>\r\n   </g>\r\n   <g id=\"line2d_11\">\r\n    <path clip-path=\"url(#p3d288a09ab)\" d=\"M 54.868182 17.083636 \r\nL 55.478129 25.595859 \r\nL 56.088076 36.472588 \r\nL 56.698023 55.86154 \r\nL 57.30797 62.009256 \r\nL 57.917918 64.846664 \r\nL 58.527865 64.846664 \r\nL 59.137812 73.358886 \r\nL 59.747759 73.358886 \r\nL 60.357706 77.614998 \r\nL 61.577601 77.614998 \r\nL 62.187548 82.10756 \r\nL 62.797495 82.10756 \r\nL 63.407442 84.708517 \r\nL 67.677072 84.708517 \r\nL 68.287019 85.181418 \r\nL 70.116861 85.181418 \r\nL 70.726808 88.255276 \r\nL 71.336755 90.383332 \r\nL 71.946702 90.383332 \r\nL 72.55665 97.2404 \r\nL 73.166597 97.2404 \r\nL 73.776544 108.826481 \r\nL 74.386491 108.826481 \r\nL 74.996438 112.373241 \r\nL 75.606385 120.176111 \r\nL 76.216333 120.176111 \r\nL 76.82628 122.540618 \r\nL 77.436227 122.540618 \r\nL 78.046174 123.013519 \r\nL 78.656121 124.432223 \r\nL 80.485963 124.432223 \r\nL 81.09591 131.05284 \r\nL 81.705857 132.471544 \r\nL 82.315804 133.180896 \r\nL 82.925752 133.180896 \r\nL 83.535699 133.417347 \r\nL 85.975487 133.417347 \r\nL 86.585435 135.308952 \r\nL 87.195382 135.308952 \r\nL 87.805329 136.964106 \r\nL 90.245118 136.964106 \r\nL 90.855065 139.565063 \r\nL 93.294853 139.565063 \r\nL 93.904801 140.037964 \r\nL 96.344589 140.037964 \r\nL 96.954536 141.220217 \r\nL 100.614219 141.220217 \r\nL 101.224167 141.693119 \r\nL 107.323638 141.693119 \r\nL 107.933585 143.348273 \r\nL 112.813163 143.348273 \r\nL 113.42311 144.530526 \r\nL 114.033057 144.530526 \r\nL 114.643004 153.752101 \r\nL 118.302687 153.752101 \r\nL 118.912634 154.225002 \r\nL 121.96237 154.225002 \r\nL 122.572317 154.934354 \r\nL 123.182265 154.934354 \r\nL 123.792212 160.609169 \r\nL 124.402159 160.609169 \r\nL 125.012106 161.791422 \r\nL 129.281736 161.791422 \r\nL 129.891683 162.737225 \r\nL 130.501631 162.737225 \r\nL 131.111578 166.756886 \r\nL 135.381208 166.756886 \r\nL 135.991155 167.466237 \r\nL 137.820997 167.466237 \r\nL 138.430944 170.067194 \r\nL 139.040891 174.323306 \r\nL 139.650838 174.323306 \r\nL 140.260785 174.559756 \r\nL 144.530415 174.559756 \r\nL 145.140363 176.451361 \r\nL 146.970204 176.451361 \r\nL 147.580151 177.633615 \r\nL 157.949253 177.633615 \r\nL 158.5592 179.998121 \r\nL 162.82883 179.998121 \r\nL 163.438778 181.180374 \r\nL 164.048725 181.180374 \r\nL 164.658672 181.416825 \r\nL 165.268619 184.254232 \r\nL 171.978038 184.254232 \r\nL 172.587985 184.963584 \r\nL 174.417827 184.963584 \r\nL 175.027774 186.145837 \r\nL 177.467562 186.145837 \r\nL 178.07751 187.32809 \r\nL 179.297404 187.32809 \r\nL 179.907351 188.510344 \r\nL 181.737193 188.510344 \r\nL 182.34714 190.165498 \r\nL 184.786928 190.165498 \r\nL 185.396876 191.584202 \r\nL 189.056559 191.584202 \r\nL 189.666506 193.239356 \r\nL 190.8864 193.239356 \r\nL 191.496347 195.603863 \r\nL 195.15603 195.603863 \r\nL 195.765977 195.840313 \r\nL 197.595819 195.840313 \r\nL 198.205766 196.549665 \r\nL 198.815713 197.968369 \r\nL 200.645555 197.968369 \r\nL 201.255502 202.933832 \r\nL 203.695291 202.933832 \r\nL 204.305238 204.116085 \r\nL 205.525132 204.116085 \r\nL 206.135079 204.588987 \r\nL 211.014657 204.588987 \r\nL 211.624604 205.77124 \r\nL 217.114128 205.77124 \r\nL 217.724075 206.244141 \r\nL 220.773811 206.244141 \r\nL 221.383758 207.189943 \r\nL 226.263336 207.189943 \r\nL 226.873283 209.081548 \r\nL 235.412543 209.081548 \r\nL 236.02249 209.317999 \r\nL 246.391592 209.317999 \r\nL 247.001539 210.027351 \r\nL 249.441328 210.027351 \r\nL 250.051275 210.500252 \r\nL 311.655939 210.500252 \r\nL 312.265886 210.736703 \r\nL 319.585252 210.736703 \r\nL 320.195199 210.973154 \r\nL 322.634988 210.973154 \r\nL 323.244935 211.209604 \r\nL 325.074777 211.209604 \r\nL 325.684724 212.155407 \r\nL 334.833931 212.155407 \r\nL 335.443879 212.628308 \r\nL 339.103562 212.628308 \r\nL 339.713509 213.101209 \r\nL 342.763245 213.101209 \r\nL 343.373192 213.33766 \r\nL 355.572135 213.33766 \r\nL 356.182082 214.047012 \r\nL 357.401977 214.047012 \r\nL 358.011924 214.756364 \r\nL 359.231818 214.756364 \r\nL 359.231818 214.756364 \r\n\" style=\"fill:none;stroke:#1f77b4;stroke-linecap:square;stroke-width:1.5;\"/>\r\n   </g>\r\n   <g id=\"patch_3\">\r\n    <path d=\"M 39.65 224.64 \r\nL 39.65 7.2 \r\n\" style=\"fill:none;stroke:#000000;stroke-linecap:square;stroke-linejoin:miter;stroke-width:0.8;\"/>\r\n   </g>\r\n   <g id=\"patch_4\">\r\n    <path d=\"M 374.45 224.64 \r\nL 374.45 7.2 \r\n\" style=\"fill:none;stroke:#000000;stroke-linecap:square;stroke-linejoin:miter;stroke-width:0.8;\"/>\r\n   </g>\r\n   <g id=\"patch_5\">\r\n    <path d=\"M 39.65 224.64 \r\nL 374.45 224.64 \r\n\" style=\"fill:none;stroke:#000000;stroke-linecap:square;stroke-linejoin:miter;stroke-width:0.8;\"/>\r\n   </g>\r\n   <g id=\"patch_6\">\r\n    <path d=\"M 39.65 7.2 \r\nL 374.45 7.2 \r\n\" style=\"fill:none;stroke:#000000;stroke-linecap:square;stroke-linejoin:miter;stroke-width:0.8;\"/>\r\n   </g>\r\n  </g>\r\n </g>\r\n <defs>\r\n  <clipPath id=\"p3d288a09ab\">\r\n   <rect height=\"217.44\" width=\"334.8\" x=\"39.65\" y=\"7.2\"/>\r\n  </clipPath>\r\n </defs>\r\n</svg>\r\n",
      "image/png": "[encoded data removed]"
     },
     "metadata": {
      "needs_background": "light"
     }
    }
   ],
   "source": [
    "genetic_algorithm(m = 50, n = 100, max_gens = 500, p_c = 0.9, p_m = 0.9, e_r = 0.1, p_i = 0.02)"
   ]
  },
  {
   "cell_type": "code",
   "execution_count": null,
   "metadata": {},
   "outputs": [],
   "source": []
  }
 ]
}