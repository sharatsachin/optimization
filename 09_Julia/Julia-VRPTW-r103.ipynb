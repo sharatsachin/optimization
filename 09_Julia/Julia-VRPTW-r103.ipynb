{
 "cells": [
  {
   "cell_type": "code",
   "execution_count": 1,
   "id": "c8b202ad",
   "metadata": {},
   "outputs": [],
   "source": [
    "using StatsBase;\n",
    "using ProgressBars;\n",
    "using BenchmarkTools;\n",
    "using Plots;\n",
    "using Random;"
   ]
  },
  {
   "cell_type": "markdown",
   "id": "a80d5102",
   "metadata": {},
   "source": [
    "## Helper Structs"
   ]
  },
  {
   "cell_type": "code",
   "execution_count": 2,
   "id": "9b8a37e2",
   "metadata": {},
   "outputs": [],
   "source": [
    "mutable struct Location\n",
    "    n::Int\n",
    "    x::Float64\n",
    "    y::Float64\n",
    "    demand::Int\n",
    "    ready_time::Int\n",
    "    due_time::Int\n",
    "    service_time::Int\n",
    "    is_depot::Bool\n",
    "    \n",
    "    function Location(n, x, y, demand, ready_time, due_time, service_time, is_depot)\n",
    "        return new(n, x, y, demand, ready_time, due_time, service_time, is_depot)\n",
    "    end\n",
    "end"
   ]
  },
  {
   "cell_type": "code",
   "execution_count": 3,
   "id": "c228a089",
   "metadata": {},
   "outputs": [
    {
     "data": {
      "text/plain": [
       "dist2 (generic function with 1 method)"
      ]
     },
     "execution_count": 3,
     "metadata": {},
     "output_type": "execute_result"
    }
   ],
   "source": [
    "function dist2(a::Location, b::Location)\n",
    "    return ((a.x - b.x) ^ 2 + (a.y - b.y) ^ 2) ^ 0.5\n",
    "end"
   ]
  },
  {
   "cell_type": "code",
   "execution_count": 4,
   "id": "917bf8e2",
   "metadata": {},
   "outputs": [],
   "source": [
    "struct Problem\n",
    "    name::String\n",
    "    n_locations::Int\n",
    "    n_customers::Int\n",
    "    n_vehicles::Int\n",
    "    n_depots::Int\n",
    "    locations::Vector{Location}\n",
    "    vehicle_capacity::Int\n",
    "    edges::Array{Float64, 2}\n",
    "    \n",
    "    function Problem(name, n_customers, n_vehicles, locations, vehicle_capacity)\n",
    "        n_depots = n_vehicles + 1\n",
    "        n_locations = n_customers + n_depots\n",
    "        \n",
    "        edges = Array{Float64, 2}(undef, n_locations, n_locations)\n",
    "        \n",
    "        xf = 10000\n",
    "        for i in 1:n_locations\n",
    "            locations[i].n = i\n",
    "            for j in 1:n_locations\n",
    "                edges[i,j] = dist2(locations[i], locations[j])\n",
    "            end\n",
    "            \n",
    "            edges[i, i] = xf # distance to itself is high\n",
    "        end\n",
    "        \n",
    "        # distance between depots is high\n",
    "        for i in 101:n_locations\n",
    "            for j in 101:n_locations\n",
    "                edges[i,j] = xf\n",
    "            end\n",
    "        end\n",
    "        return new(name, n_locations, n_customers, n_vehicles, n_depots, locations, vehicle_capacity, edges)\n",
    "    end\n",
    "end"
   ]
  },
  {
   "cell_type": "code",
   "execution_count": 5,
   "id": "16cdf979",
   "metadata": {},
   "outputs": [],
   "source": [
    "mutable struct Route\n",
    "    locations::Vector{Int}\n",
    "    distance::Float64\n",
    "    n_customers::Int\n",
    "    is_valid::Bool\n",
    "    \n",
    "    function Route(locations, p)\n",
    "        n_customers = size(locations)[1] - 2\n",
    "        \n",
    "        if n_customers == 0\n",
    "            return new(locations, 0, 0, true)\n",
    "        end\n",
    "        \n",
    "        distance = 0\n",
    "        is_valid = true\n",
    "        time = 0\n",
    "        load = 0\n",
    "        for i in 1:n_customers+1\n",
    "            this_stop = p.locations[locations[i]]\n",
    "            next_stop = p.locations[locations[i+1]]\n",
    "            \n",
    "            dtn = p.edges[this_stop.n, next_stop.n]\n",
    "            \n",
    "            if time + dtn <= next_stop.due_time && load + next_stop.demand <= p.vehicle_capacity\n",
    "                time = max(time + dtn, next_stop.ready_time)\n",
    "                time += next_stop.service_time\n",
    "                distance += dtn\n",
    "                load += next_stop.demand\n",
    "            else\n",
    "                is_valid = false\n",
    "                dist = Inf\n",
    "                break\n",
    "            end            \n",
    "        end\n",
    "        return new(locations, distance, n_customers, is_valid)\n",
    "    end\n",
    "end"
   ]
  },
  {
   "cell_type": "code",
   "execution_count": 6,
   "id": "770c849d",
   "metadata": {},
   "outputs": [],
   "source": [
    "mutable struct Solution\n",
    "    tour::Vector{Int}\n",
    "    routes::Vector{Route}\n",
    "    distance::Float64\n",
    "    n_locations::Int\n",
    "    n_customers::Int\n",
    "    n_vehicles::Int\n",
    "    n_depots::Int\n",
    "    is_valid::Bool\n",
    "    \n",
    "    function Solution(tour, p)\n",
    "        \n",
    "        routes = []\n",
    "        locations = [tour[1]]\n",
    "        n_locations = size(tour)[1]\n",
    "        distance = 0\n",
    "        n_vehicles = 0\n",
    "        n_customers = 0\n",
    "        is_valid = true\n",
    "        \n",
    "        for x in tour[2:n_locations]\n",
    "            \n",
    "            if p.locations[x].is_depot\n",
    "                push!(locations, x)\n",
    "                route = Route(locations, p)\n",
    "                push!(routes, route)\n",
    "                if !route.is_valid\n",
    "                    is_valid = false\n",
    "                    dist = Inf\n",
    "                    break\n",
    "                end\n",
    "                distance += route.distance\n",
    "                n_vehicles += 1\n",
    "                locations = [x]\n",
    "            else\n",
    "                n_customers += 1\n",
    "                push!(locations, x)\n",
    "            end\n",
    "        end\n",
    "        \n",
    "        n_depots = n_vehicles + 1\n",
    "        if is_valid\n",
    "            @assert n_depots + n_customers == n_locations\n",
    "        end\n",
    "        \n",
    "        if n_customers != 100 || n_vehicles > p.n_vehicles\n",
    "            is_valid = false\n",
    "        end\n",
    "        \n",
    "        return new(tour, routes, distance, n_locations, n_customers, n_vehicles, n_depots, is_valid)\n",
    "    end\n",
    "end"
   ]
  },
  {
   "cell_type": "code",
   "execution_count": 7,
   "id": "a37aa0c9",
   "metadata": {},
   "outputs": [
    {
     "data": {
      "text/plain": [
       "update (generic function with 1 method)"
      ]
     },
     "execution_count": 7,
     "metadata": {},
     "output_type": "execute_result"
    }
   ],
   "source": [
    "function update(s::Solution, p::Problem)\n",
    "    tour = [101]\n",
    "    nd = 102\n",
    "    for route in s.routes\n",
    "        if size(route.locations)[1] == 2\n",
    "           continue \n",
    "        end\n",
    "        for loc in route.locations[2:size(route.locations)[1]]\n",
    "            if p.locations[loc].is_depot\n",
    "                push!(tour, nd)\n",
    "                nd += 1\n",
    "            else\n",
    "                push!(tour, loc)\n",
    "            end\n",
    "        end\n",
    "    end\n",
    "    return Solution(tour, p)\n",
    "end"
   ]
  },
  {
   "cell_type": "code",
   "execution_count": 8,
   "id": "2c9dd0d7",
   "metadata": {},
   "outputs": [
    {
     "data": {
      "text/plain": [
       "get_problem (generic function with 1 method)"
      ]
     },
     "execution_count": 8,
     "metadata": {},
     "output_type": "execute_result"
    }
   ],
   "source": [
    "function get_problem(filename)\n",
    "    \n",
    "    open(\"data/$filename.txt\") do file\n",
    "\n",
    "        i = 1\n",
    "        name = \"\"\n",
    "        depot = 0\n",
    "        n_customers = 0\n",
    "        n_vehicles, vehicle_capacity = 0, 0\n",
    "        skip = [2,3,4,6,7,8,9]\n",
    "        locations = []\n",
    "\n",
    "        for ln in eachline(file)\n",
    "            if ! (i in skip)\n",
    "                if i == 1\n",
    "                    name = split(ln)[1]\n",
    "                elseif i == 5\n",
    "                    n_vehicles, vehicle_capacity = [parse(Int64, a) for a in split(ln)]\n",
    "                else\n",
    "                    n, x, y, demand, ready_time, due_date, service_time = [parse(Int64, a) for a in split(ln)]\n",
    "                    is_depot = (n == 0 ? true : false)\n",
    "                    is_serviced = false\n",
    "                    if n != 0\n",
    "                        n_customers += 1\n",
    "                        push!(locations, Location(n, x, y, demand, ready_time, due_date, service_time, is_depot))\n",
    "                    else\n",
    "                        depot = Location(n, x, y, demand, ready_time, due_date, service_time, is_depot)\n",
    "                    end\n",
    "                end\n",
    "            end\n",
    "            i+=1\n",
    "        end\n",
    "\n",
    "        for i in 1:n_vehicles+1\n",
    "            push!(locations, deepcopy(depot))\n",
    "        end\n",
    "\n",
    "        return Problem(name, n_customers, n_vehicles, locations, vehicle_capacity)\n",
    "    end\n",
    "end"
   ]
  },
  {
   "cell_type": "code",
   "execution_count": 9,
   "id": "b2f15e2a",
   "metadata": {},
   "outputs": [
    {
     "data": {
      "text/plain": [
       "\"R103\""
      ]
     },
     "execution_count": 9,
     "metadata": {},
     "output_type": "execute_result"
    }
   ],
   "source": [
    "p = get_problem(\"r103\")\n",
    "p.name"
   ]
  },
  {
   "cell_type": "code",
   "execution_count": 10,
   "id": "4029fafc",
   "metadata": {},
   "outputs": [],
   "source": [
    "function plot_problem(p)\n",
    "    x_l = [loc.x for loc in p.locations]\n",
    "    y_l = [loc.y for loc in p.locations]\n",
    "    scatter(x_l, y_l, legend = false)\n",
    "end \n",
    "\n",
    "# plot_problem(p);"
   ]
  },
  {
   "cell_type": "code",
   "execution_count": 11,
   "id": "281abe5d",
   "metadata": {},
   "outputs": [
    {
     "data": {
      "text/plain": [
       "(1292.6755102213538, true, 13)"
      ]
     },
     "execution_count": 11,
     "metadata": {},
     "output_type": "execute_result"
    }
   ],
   "source": [
    "tour = [101,60,45,83,5,99,6,101,71,65,78,34,35,81,77,28,101,2,22,75,56,4,25,54,101,7,19,11,8,46,47,48,82,18,89,101,94,96,95,97,87,13,101,27,69,30,9,66,20,51,1,101,42,43,15,57,41,74,72,73,21,58,101,40,53,12,68,80,101,50,33,76,79,10,31,101,36,64,49,63,90,32,70,101,92,98,14,44,38,86,16,61,85,91,100,37,101,26,39,23,67,55,24,29,3,101,52,62,88,84,17,93,59,101]\n",
    "sol = Solution(tour, p)\n",
    "sol.distance, sol.is_valid, sol.n_vehicles"
   ]
  },
  {
   "cell_type": "markdown",
   "id": "eb573b04",
   "metadata": {},
   "source": [
    "## Implementation of Solution"
   ]
  },
  {
   "cell_type": "markdown",
   "id": "2f317a1f",
   "metadata": {},
   "source": [
    "### Initial solution"
   ]
  },
  {
   "cell_type": "code",
   "execution_count": 12,
   "id": "43e0e91b",
   "metadata": {},
   "outputs": [
    {
     "data": {
      "text/plain": [
       "initial_solution (generic function with 2 methods)"
      ]
     },
     "execution_count": 12,
     "metadata": {},
     "output_type": "execute_result"
    }
   ],
   "source": [
    "function initial_solution(p::Problem, max_vehicles=nothing)\n",
    "    tour = [101]\n",
    "    vis = zeros(Bool, p.n_locations)\n",
    "    vis[101] = true\n",
    "    nd = 102\n",
    "    time = 0\n",
    "    load = 0\n",
    "    vehicles_used = 0\n",
    "    \n",
    "    while false in vis[1:100]\n",
    "        lv = last(tour) # last visited\n",
    "        added = false\n",
    "        for nv in sortperm(p.edges[lv, 1:100]) # next visit\n",
    "            next_stop = p.locations[nv]\n",
    "            next_depot = p.locations[nd]\n",
    "            \n",
    "            dtn = p.edges[lv, nv] # distance to next\n",
    "            dtd = p.edges[nv, nd] # distance to depot from next location\n",
    "            \n",
    "            if (!vis[nv] && time + dtn <= next_stop.due_time && load + next_stop.demand <= p.vehicle_capacity \n",
    "                    && max(time + dtn, next_stop.ready_time) + next_stop.service_time + dtd <= next_depot.due_time)\n",
    "                push!(tour, nv)\n",
    "                vis[nv] = true\n",
    "                time = max(time + dtn, next_stop.ready_time) + next_stop.service_time\n",
    "                load += next_stop.demand\n",
    "                added = true\n",
    "                break\n",
    "            end\n",
    "        end\n",
    "        if !added                \n",
    "            push!(tour, nd)\n",
    "            vis[nd] = true\n",
    "            nd += 1\n",
    "            vehicles_used += 1\n",
    "            if max_vehicles != nothing && vehicles_used == max_vehicles\n",
    "               break \n",
    "            end\n",
    "            time = 0\n",
    "            load = 0\n",
    "        end\n",
    "    end\n",
    "    \n",
    "    if p.locations[last(tour)].is_depot == false\n",
    "        push!(tour, nd)\n",
    "    end\n",
    "    return Solution(tour, p)\n",
    "end"
   ]
  },
  {
   "cell_type": "code",
   "execution_count": 13,
   "id": "15e4d725",
   "metadata": {},
   "outputs": [],
   "source": [
    "# fisw = initial_solution(p)\n",
    "# @info fisw.tour, fisw.n_vehicles, fisw.n_customers, fisw.is_valid"
   ]
  },
  {
   "cell_type": "code",
   "execution_count": 14,
   "id": "5452fc88",
   "metadata": {
    "scrolled": false
   },
   "outputs": [],
   "source": [
    "# fisv = initial_solution(p, 15)\n",
    "# @info fisv.tour, fisv.n_vehicles, fisv.n_customers, fisv.is_valid"
   ]
  },
  {
   "cell_type": "markdown",
   "id": "ed91fbd1",
   "metadata": {},
   "source": [
    "## Local Search"
   ]
  },
  {
   "cell_type": "code",
   "execution_count": 15,
   "id": "e52fd19e",
   "metadata": {},
   "outputs": [
    {
     "data": {
      "text/plain": [
       "swap (generic function with 1 method)"
      ]
     },
     "execution_count": 15,
     "metadata": {},
     "output_type": "execute_result"
    }
   ],
   "source": [
    "function two_opt(a, i, j, n)\n",
    "    if i == 1\n",
    "        return vcat(reverse(a[i+1:j]), [a[i]], a[j+1:n])\n",
    "    end\n",
    "    return vcat(a[1:i-1], reverse(a[i:j]), a[j+1:n])\n",
    "end\n",
    "\n",
    "function cross(a, b, i, j)\n",
    "    n = size(a)[1]\n",
    "    m = size(b)[1]\n",
    "    return vcat(a[1:i-1], b[j:m]), vcat(b[1:j-1], a[i:n])\n",
    "end\n",
    "\n",
    "function insertion(a, b, i, j)\n",
    "    n = size(a)[1]\n",
    "    m = size(b)[1]\n",
    "    if n == 0\n",
    "        return a, b\n",
    "    end\n",
    "    while i > n\n",
    "        i -= n\n",
    "    end\n",
    "    return vcat(a[1:i-1], a[i+1:n]), vcat(b[1:j-1], [a[i]], b[j:m])\n",
    "end\n",
    "\n",
    "function swap(a, b, i, j)\n",
    "    n = size(a)[1]\n",
    "    m = size(b)[1]\n",
    "    if i > n || j > m\n",
    "        return a, b\n",
    "    end\n",
    "    a = copy(a)\n",
    "    b = copy(b)\n",
    "    a[i], b[j] = b[j], a[i]\n",
    "    return a, b\n",
    "end"
   ]
  },
  {
   "cell_type": "code",
   "execution_count": 16,
   "id": "d880018f",
   "metadata": {},
   "outputs": [
    {
     "data": {
      "text/plain": [
       "local_search (generic function with 1 method)"
      ]
     },
     "execution_count": 16,
     "metadata": {},
     "output_type": "execute_result"
    }
   ],
   "source": [
    "function local_search(p::Problem, s::Solution)\n",
    "    \n",
    "    can_impr = true\n",
    "    n_routes = size(s.routes)[1]\n",
    "    \n",
    "    while can_impr\n",
    "        can_impr = false\n",
    "        \n",
    "        for i = 1:n_routes, j=i+1:n_routes\n",
    "\n",
    "            for k = 1:s.routes[i].n_customers, l=1:s.routes[j].n_customers\n",
    "                \n",
    "                r1s, r1e = first(s.routes[i].locations), last(s.routes[i].locations)\n",
    "                r2s, r2e = first(s.routes[j].locations), last(s.routes[j].locations)\n",
    "                \n",
    "                c1, c2 =  insertion(s.routes[i].locations[2:size(s.routes[i].locations)[1]-1],\n",
    "                            s.routes[j].locations[2:size(s.routes[j].locations)[1]-1],\n",
    "                            k, l)\n",
    "                c3, c4 =  swap(s.routes[i].locations[2:size(s.routes[i].locations)[1]-1],\n",
    "                            s.routes[j].locations[2:size(s.routes[j].locations)[1]-1],\n",
    "                            k, l)\n",
    "                c5, c6 =  cross(s.routes[i].locations[2:size(s.routes[i].locations)[1]-1],\n",
    "                            s.routes[j].locations[2:size(s.routes[j].locations)[1]-1],\n",
    "                            k, l)\n",
    "\n",
    "                n1, n2 = Route(vcat([r1s], c1, [r1e]), p), Route(vcat([r2s], c2, [r2e]), p)\n",
    "                n3, n4 = Route(vcat([r1s], c3, [r1e]), p), Route(vcat([r2s], c4, [r2e]), p)\n",
    "                n5, n6 = Route(vcat([r1s], c5, [r1e]), p), Route(vcat([r2s], c6, [r2e]), p)\n",
    "\n",
    "                if n1.is_valid && n2.is_valid\n",
    "                    if n1.distance + n2.distance < s.routes[i].distance + s.routes[j].distance\n",
    "                        s.routes[i] = n1\n",
    "                        s.routes[j] = n2\n",
    "                        can_impr = true\n",
    "                        break\n",
    "                    end\n",
    "                end\n",
    "                \n",
    "                if n3.is_valid && n4.is_valid\n",
    "                    if n3.distance + n4.distance < s.routes[i].distance + s.routes[j].distance\n",
    "                        s.routes[i] = n3\n",
    "                        s.routes[j] = n4\n",
    "                        can_impr = true\n",
    "                        break\n",
    "                    end\n",
    "                end\n",
    "                \n",
    "                if n5.is_valid && n6.is_valid\n",
    "                    if n5.distance + n6.distance < s.routes[i].distance + s.routes[j].distance\n",
    "                        s.routes[i] = n5\n",
    "                        s.routes[j] = n6\n",
    "                        can_impr = true\n",
    "                        break\n",
    "                    end\n",
    "                end\n",
    "            end\n",
    "        end\n",
    "    end\n",
    " \n",
    "    s = update(s, p)\n",
    "    return s\n",
    "end"
   ]
  },
  {
   "cell_type": "code",
   "execution_count": 17,
   "id": "449678bd",
   "metadata": {},
   "outputs": [],
   "source": [
    "# @time ls = local_search(p, fisw)\n",
    "# @info ls"
   ]
  },
  {
   "cell_type": "markdown",
   "id": "20754d59",
   "metadata": {},
   "source": [
    "## Creating new ant"
   ]
  },
  {
   "cell_type": "code",
   "execution_count": 18,
   "id": "ae06bace",
   "metadata": {},
   "outputs": [
    {
     "data": {
      "text/plain": [
       "new_active_ant (generic function with 1 method)"
      ]
     },
     "execution_count": 18,
     "metadata": {},
     "output_type": "execute_result"
    }
   ],
   "source": [
    "function new_active_ant(dolocal, inc, n_vehicles, p, tau, tau0, beta, rho)\n",
    "\n",
    "    n_depots = n_vehicles + 1\n",
    "    n_locations = p.n_customers + n_depots\n",
    "    tour = [100 + rand(1:n_depots)]\n",
    "    time = 0\n",
    "    load = 0\n",
    "    vehicles_used = 0\n",
    "\n",
    "    vis = zeros(Bool, n_locations)\n",
    "    vis[tour[1]] = true\n",
    "    eta = fill(0.00001, n_locations)\n",
    "\n",
    "    feasible_node = true\n",
    "\n",
    "    while feasible_node\n",
    "\n",
    "        feasible_node = false\n",
    "        lv = last(tour) # last vertex\n",
    "        \n",
    "        for nv in 1:n_locations\n",
    "            next_stop = p.locations[nv]\n",
    "            some_depot = p.locations[101]\n",
    "            \n",
    "            dtn = p.edges[lv, nv] # distance to next\n",
    "            dtd = p.edges[nv, 101] # distance to depot from next location\n",
    "            \n",
    "            if (!vis[nv] && !next_stop.is_depot # if next location is a customer\n",
    "                    && time + dtn <= next_stop.due_time \n",
    "                    && load + next_stop.demand <= p.vehicle_capacity \n",
    "                    && max(time + dtn, next_stop.ready_time) + next_stop.service_time + dtd <= some_depot.due_time)\n",
    "                \n",
    "                feasible_node = true\n",
    "                deliv_time = max(time + dtn, next_stop.ready_time)\n",
    "                delta_time = deliv_time - time\n",
    "                distance = delta_time * (next_stop.due_time - time)\n",
    "                distance = max(1, distance + inc[nv])\n",
    "                eta[nv] = 1/ distance\n",
    "                \n",
    "            elseif (!vis[nv] && next_stop.is_depot  # if next location is a depot\n",
    "                    && time + dtn <= next_stop.due_time)\n",
    "                \n",
    "                feasible_node = true\n",
    "                deliv_time = max(time + dtn, next_stop.ready_time)\n",
    "                delta_time = deliv_time - time\n",
    "                distance = delta_time * (next_stop.due_time - time)\n",
    "                distance = max(1, distance - inc[nv])\n",
    "                eta[nv] = 1/ distance\n",
    "                \n",
    "            else\n",
    "                eta[nv] = 0\n",
    "            end\n",
    "            \n",
    "        end\n",
    "\n",
    "        if !feasible_node\n",
    "            break\n",
    "        end\n",
    "\n",
    "        w = (tau[lv,1:n_locations]) .* (eta .^ beta)\n",
    "        w = w / sum(w)\n",
    "        \n",
    "        # next = np.random.choice(n_locations + n_depots, p=probs)\n",
    "        q = rand()\n",
    "        if q < 0.9\n",
    "            nv = argmax(w)\n",
    "        else\n",
    "            w[w .!= 0.0] .= 1\n",
    "            w = w / sum(w)\n",
    "            nv = sample(1:n_locations, ProbabilityWeights(w))\n",
    "        end\n",
    "        \n",
    "#         @info \"probs\" w nv tour\n",
    "\n",
    "        next_stop = p.locations[nv]\n",
    "        dtn = p.edges[lv, nv] # distance to next\n",
    "        push!(tour, nv)\n",
    "        vis[nv] = true\n",
    "        if next_stop.is_depot\n",
    "            time = 0\n",
    "            load = 0\n",
    "            vehicles_used += 1\n",
    "            if vehicles_used == n_vehicles\n",
    "                break\n",
    "            end\n",
    "        else\n",
    "            time = max(time + dtn, next_stop.ready_time) + next_stop.service_time\n",
    "            load += next_stop.demand\n",
    "        end\n",
    "        \n",
    "        tau[lv,nv] = (1 - rho) * tau[lv,nv] + rho * tau0\n",
    "    end\n",
    "    \n",
    "    # there still may remain some non inserted nodes\n",
    "    for nv in 1:n_locations\n",
    "        if !vis[nv]\n",
    "            for g in 2:size(tour)[1]+1\n",
    "                tc = copy(tour)\n",
    "                insert!(tc, g, nv)\n",
    "                if Solution(tc, p).is_valid\n",
    "                    tour = tc\n",
    "                    vis[nv] = true\n",
    "                    break\n",
    "                end\n",
    "            end\n",
    "        end\n",
    "    end\n",
    "    \n",
    "    sol = Solution(tour, p)\n",
    "    return dolocal ? local_search(p, sol) : sol\n",
    "end"
   ]
  },
  {
   "cell_type": "code",
   "execution_count": 19,
   "id": "ca278ecf",
   "metadata": {},
   "outputs": [],
   "source": [
    "# @benchmark new_active_ant(false, fill(0, p.n_locations + p.n_depots), 20, p, \n",
    "#                         fill(10/sum(p.edges), size(p.edges)), 10/sum(p.edges), 1, 0.1)"
   ]
  },
  {
   "cell_type": "code",
   "execution_count": 20,
   "id": "d483cdd9",
   "metadata": {
    "scrolled": true
   },
   "outputs": [],
   "source": [
    "# @benchmark new_active_ant(true, fill(0, p.n_locations + p.n_depots), 20, p, \n",
    "#                         fill(10/sum(p.edges), size(p.edges)), 10/sum(p.edges), 1, 0.1)"
   ]
  },
  {
   "cell_type": "markdown",
   "id": "27d7f810",
   "metadata": {},
   "source": [
    "## ACO Vehicle function"
   ]
  },
  {
   "cell_type": "code",
   "execution_count": 21,
   "id": "364a66e4",
   "metadata": {},
   "outputs": [
    {
     "data": {
      "text/plain": [
       "aco_vehicle (generic function with 1 method)"
      ]
     },
     "execution_count": 21,
     "metadata": {},
     "output_type": "execute_result"
    }
   ],
   "source": [
    "function aco_vehicle(n_vehicles, p, n_ants, beta, rho)\n",
    "    global psi_gb\n",
    "\n",
    "    tau0 = 10/sum(p.edges)\n",
    "    tau = fill(tau0, size(p.edges))\n",
    "\n",
    "    # initial solution, may be infeasible\n",
    "    psi_vei = initial_solution(p, n_vehicles)\n",
    "\n",
    "    inc = fill(0, p.n_locations + p.n_depots)\n",
    "    \n",
    "    for t in 1:100\n",
    "        ants = []\n",
    "\n",
    "        for i in 1:n_ants\n",
    "            push!(ants, new_active_ant(false, inc, n_vehicles, p, tau, tau0, beta, rho))\n",
    "            for x in last(ants).tour\n",
    "                inc[x] += 1 # CHANGE\n",
    "            end\n",
    "        end\n",
    " \n",
    "        for i in 1:n_ants\n",
    "            if ants[i].n_customers > psi_vei.n_customers\n",
    "                psi_vei = deepcopy(ants[i])\n",
    "                inc = fill(0, p.n_locations + p.n_depots)\n",
    "                if ants[i].is_valid && ants[i].distance < psi_gb.distance\n",
    "                    psi_gb = deepcopy(ants[i])\n",
    "                end\n",
    "            end\n",
    "        end\n",
    "            \n",
    "        # updating tau values\n",
    "        tau = (1-rho) * tau\n",
    "        for j in 1:psi_vei.n_locations-1   \n",
    "            lv, nv = psi_vei.tour[j:j+1]\n",
    "            tau[lv,nv] += 1/psi_vei.distance\n",
    "            tau[lv,nv] += 1/psi_vei.distance\n",
    "        end\n",
    "        \n",
    "        for j in 1:psi_gb.n_locations-1   \n",
    "            lv, nv = psi_gb.tour[j:j+1]\n",
    "            if lv < size(tau)[1] && nv < size(tau)[2]\n",
    "                tau[lv,nv] += 1/psi_gb.distance\n",
    "                tau[lv,nv] += 1/psi_gb.distance\n",
    "            end\n",
    "        end\n",
    "    end\n",
    "\n",
    "    return psi_vei\n",
    "end"
   ]
  },
  {
   "cell_type": "code",
   "execution_count": 22,
   "id": "0495d6b5",
   "metadata": {
    "scrolled": true
   },
   "outputs": [],
   "source": [
    "# psi_gb = initial_solution(p)\n",
    "# acov = aco_vehicle(16, p, 10, 1, 0.1)"
   ]
  },
  {
   "cell_type": "markdown",
   "id": "3c83e200",
   "metadata": {},
   "source": [
    "## ACO Time function"
   ]
  },
  {
   "cell_type": "code",
   "execution_count": 23,
   "id": "5bb0c472",
   "metadata": {},
   "outputs": [
    {
     "data": {
      "text/plain": [
       "aco_time (generic function with 1 method)"
      ]
     },
     "execution_count": 23,
     "metadata": {},
     "output_type": "execute_result"
    }
   ],
   "source": [
    "function aco_time(n_vehicles, p, n_ants, beta, rho)\n",
    "    global psi_gb\n",
    "\n",
    "    tau0 = 10/sum(p.edges)\n",
    "    tau = fill(tau0, size(p.edges))\n",
    "\n",
    "    # initial solution, may be infeasible\n",
    "    psi_vei = initial_solution(p, n_vehicles)\n",
    "\n",
    "    inc = fill(0, p.n_locations + p.n_depots)\n",
    "    \n",
    "    for t in 1:10\n",
    "        ants = []\n",
    "\n",
    "        for i in 1:n_ants\n",
    "            push!(ants, new_active_ant(true, inc, n_vehicles, p, tau, tau0, beta, rho))\n",
    "        end\n",
    " \n",
    "        for i in 1:n_ants\n",
    "            if ants[i].is_valid && ants[i].distance < psi_gb.distance\n",
    "                psi_gb = deepcopy(ants[i])\n",
    "            end\n",
    "        end\n",
    "            \n",
    "        # updating tau values\n",
    "        tau = (1 - rho) * tau\n",
    "        \n",
    "        for j in 1:psi_gb.n_locations-1   \n",
    "            lv, nv = psi_gb.tour[j:j+1]\n",
    "            if lv < size(tau)[1] && nv < size(tau)[2]\n",
    "                tau[lv,nv] += 1/psi_gb.distance\n",
    "                tau[lv,nv] += 1/psi_gb.distance\n",
    "            end\n",
    "        end\n",
    "    end\n",
    "\n",
    "    return psi_gb\n",
    "end"
   ]
  },
  {
   "cell_type": "code",
   "execution_count": 24,
   "id": "e77a6466",
   "metadata": {},
   "outputs": [],
   "source": [
    "# psi_gb = initial_solution(p)\n",
    "# acov = aco_time(17, p, 10, 1, 0.1)"
   ]
  },
  {
   "cell_type": "markdown",
   "id": "d51fee24",
   "metadata": {},
   "source": [
    "## Higher level multiple ACO function"
   ]
  },
  {
   "cell_type": "code",
   "execution_count": 25,
   "id": "784903b0",
   "metadata": {},
   "outputs": [
    {
     "data": {
      "text/plain": [
       "maco_vrptw (generic function with 1 method)"
      ]
     },
     "execution_count": 25,
     "metadata": {},
     "output_type": "execute_result"
    }
   ],
   "source": [
    "function maco_vrptw(p, n_ants, beta, rho)\n",
    "    global psi_gb\n",
    "    \n",
    "    veh = psi_gb.n_vehicles\n",
    "    for i in 1:30\n",
    "        \n",
    "        psi_v = aco_vehicle(veh - 1, p, n_ants, beta, rho)\n",
    "        @info \"aco_vehicle\" veh-1 psi_v.n_customers psi_v.distance \n",
    "        if psi_v.n_vehicles <= veh && psi_v.is_valid\n",
    "            psi_gb = deepcopy(psi_v)\n",
    "            veh = psi_gb.n_vehicles\n",
    "            continue\n",
    "        end\n",
    "        psi_t = aco_time(veh, p, n_ants, beta, rho)\n",
    "        @info \"aco_time\" veh psi_t.n_customers psi_t.distance \n",
    "        \n",
    "    end\n",
    "    return local_search(p, psi_gb)\n",
    "end"
   ]
  },
  {
   "cell_type": "code",
   "execution_count": 26,
   "id": "10a72936",
   "metadata": {
    "scrolled": true
   },
   "outputs": [
    {
     "name": "stdout",
     "output_type": "stream",
     "text": [
      "0.0%┣                                           ┫ 0/30 [00:00<00:-2, -20.0 it/s]\n",
      "3.3%┣█▍                                         ┫ 1/30 [00:02<Inf:Inf, 0.0 it/s]\n"
     ]
    },
    {
     "name": "stderr",
     "output_type": "stream",
     "text": [
      "┌ Info: aco_vehicle\n",
      "│   veh - 1 = 24\n",
      "│   psi_v.n_customers = 100\n",
      "│   psi_v.distance = 1929.3962358544975\n",
      "└ @ Main In[25]:8\n"
     ]
    },
    {
     "name": "stdout",
     "output_type": "stream",
     "text": [
      "\u001b[1A\r",
      "6.7%┣███                                          ┫ 2/30 [00:02<00:54, 0.5 it/s]\n"
     ]
    },
    {
     "name": "stderr",
     "output_type": "stream",
     "text": [
      "┌ Info: aco_vehicle\n",
      "│   veh - 1 = 23\n",
      "│   psi_v.n_customers = 100\n",
      "│   psi_v.distance = 1888.7768806911745\n",
      "└ @ Main In[25]:8\n"
     ]
    },
    {
     "name": "stdout",
     "output_type": "stream",
     "text": [
      "\u001b[1A\r",
      "10.0%┣████▍                                       ┫ 3/30 [00:02<00:30, 0.9 it/s]"
     ]
    },
    {
     "name": "stderr",
     "output_type": "stream",
     "text": [
      "┌ Info: aco_vehicle\n",
      "│   veh - 1 = 22\n",
      "│   psi_v.n_customers = 100\n",
      "│   psi_v.distance = 2063.5076957626065\n",
      "└ @ Main In[25]:8\n"
     ]
    },
    {
     "name": "stdout",
     "output_type": "stream",
     "text": [
      "\n",
      "\u001b[1A\r",
      "13.3%┣█████▉                                      ┫ 4/30 [00:03<00:24, 1.1 it/s]"
     ]
    },
    {
     "name": "stderr",
     "output_type": "stream",
     "text": [
      "┌ Info: aco_vehicle\n",
      "│   veh - 1 = 21\n",
      "│   psi_v.n_customers = 100\n",
      "│   psi_v.distance = 1979.6184476397477\n",
      "└ @ Main In[25]:8\n"
     ]
    },
    {
     "name": "stdout",
     "output_type": "stream",
     "text": [
      "\n",
      "\u001b[1A\r",
      "16.7%┣███████▍                                    ┫ 5/30 [00:03<00:21, 1.2 it/s]"
     ]
    },
    {
     "name": "stderr",
     "output_type": "stream",
     "text": [
      "┌ Info: aco_vehicle\n",
      "│   veh - 1 = 20\n",
      "│   psi_v.n_customers = 100\n",
      "│   psi_v.distance = 1904.363201072698\n",
      "└ @ Main In[25]:8\n"
     ]
    },
    {
     "name": "stdout",
     "output_type": "stream",
     "text": [
      "\n",
      "\u001b[1A\r",
      "20.0%┣████████▉                                   ┫ 6/30 [00:04<00:19, 1.2 it/s]"
     ]
    },
    {
     "name": "stderr",
     "output_type": "stream",
     "text": [
      "┌ Info: aco_vehicle\n",
      "│   veh - 1 = 19\n",
      "│   psi_v.n_customers = 100\n",
      "│   psi_v.distance = 1961.498754100948\n",
      "└ @ Main In[25]:8\n"
     ]
    },
    {
     "name": "stdout",
     "output_type": "stream",
     "text": [
      "\n",
      "\u001b[1A\r",
      "23.3%┣██████████▎                                 ┫ 7/30 [00:05<00:18, 1.3 it/s]\n"
     ]
    },
    {
     "name": "stderr",
     "output_type": "stream",
     "text": [
      "┌ Info: aco_vehicle\n",
      "│   veh - 1 = 18\n",
      "│   psi_v.n_customers = 100\n",
      "│   psi_v.distance = 2096.384725062259\n",
      "└ @ Main In[25]:8\n"
     ]
    },
    {
     "name": "stdout",
     "output_type": "stream",
     "text": [
      "\u001b[1A\r",
      "26.7%┣███████████▊                                ┫ 8/30 [00:05<00:16, 1.4 it/s]\n"
     ]
    },
    {
     "name": "stderr",
     "output_type": "stream",
     "text": [
      "┌ Info: aco_vehicle\n",
      "│   veh - 1 = 17\n",
      "│   psi_v.n_customers = 100\n",
      "│   psi_v.distance = 1796.5927836184317\n",
      "└ @ Main In[25]:8\n",
      "┌ Info: aco_vehicle\n",
      "│   veh - 1 = 16\n",
      "│   psi_v.n_customers = 98\n",
      "│   psi_v.distance = 1775.7865213117227\n",
      "└ @ Main In[25]:8\n"
     ]
    },
    {
     "name": "stdout",
     "output_type": "stream",
     "text": [
      "\u001b[1A\r",
      "30.0%┣█████████████▏                              ┫ 9/30 [00:20<00:52, 0.4 it/s]\n"
     ]
    },
    {
     "name": "stderr",
     "output_type": "stream",
     "text": [
      "┌ Info: aco_time\n",
      "│   veh = 17\n",
      "│   psi_t.n_customers = 100\n",
      "│   psi_t.distance = 1334.0527190717\n",
      "└ @ Main In[25]:15\n"
     ]
    },
    {
     "name": "stdout",
     "output_type": "stream",
     "text": [
      "\u001b[1A\r",
      "33.3%┣██████████████▎                            ┫ 10/30 [00:21<00:46, 0.4 it/s]"
     ]
    },
    {
     "name": "stderr",
     "output_type": "stream",
     "text": [
      "┌ Info: aco_vehicle\n",
      "│   veh - 1 = 16\n",
      "│   psi_v.n_customers = 100\n",
      "│   psi_v.distance = 1528.690509055656\n",
      "└ @ Main In[25]:8\n"
     ]
    },
    {
     "name": "stdout",
     "output_type": "stream",
     "text": [
      "\n"
     ]
    },
    {
     "name": "stderr",
     "output_type": "stream",
     "text": [
      "┌ Info: aco_vehicle\n",
      "│   veh - 1 = 15\n",
      "│   psi_v.n_customers = 96\n",
      "│   psi_v.distance = 1782.8927367396195\n",
      "└ @ Main In[25]:8\n"
     ]
    },
    {
     "name": "stdout",
     "output_type": "stream",
     "text": [
      "\u001b[1A\r",
      "36.7%┣███████████████▊                           ┫ 11/30 [00:35<01:06, 0.3 it/s]\n"
     ]
    },
    {
     "name": "stderr",
     "output_type": "stream",
     "text": [
      "┌ Info: aco_time\n",
      "│   veh = 16\n",
      "│   psi_t.n_customers = 100\n",
      "│   psi_t.distance = 1355.8589171317421\n",
      "└ @ Main In[25]:15\n",
      "┌ Info: aco_vehicle\n",
      "│   veh - 1 = 15\n",
      "│   psi_v.n_customers = 97\n",
      "│   psi_v.distance = 1654.305164773417\n",
      "└ @ Main In[25]:8\n"
     ]
    },
    {
     "name": "stdout",
     "output_type": "stream",
     "text": [
      "\u001b[1A\r",
      "40.0%┣█████████████████▏                         ┫ 12/30 [00:48<01:18, 0.2 it/s]\n"
     ]
    },
    {
     "name": "stderr",
     "output_type": "stream",
     "text": [
      "┌ Info: aco_time\n",
      "│   veh = 16\n",
      "│   psi_t.n_customers = 100\n",
      "│   psi_t.distance = 1353.393326431162\n",
      "└ @ Main In[25]:15\n",
      "┌ Info: aco_vehicle\n",
      "│   veh - 1 = 15\n",
      "│   psi_v.n_customers = 97\n",
      "│   psi_v.distance = 1794.1254686671252\n",
      "└ @ Main In[25]:8\n"
     ]
    },
    {
     "name": "stdout",
     "output_type": "stream",
     "text": [
      "\u001b[1A\r",
      "43.3%┣██████████████████▋                        ┫ 13/30 [01:00<01:26, 0.2 it/s]"
     ]
    },
    {
     "name": "stderr",
     "output_type": "stream",
     "text": [
      "┌ Info: aco_time\n",
      "│   veh = 16\n",
      "│   psi_t.n_customers = 100\n",
      "│   psi_t.distance = 1353.393326431162\n",
      "└ @ Main In[25]:15\n"
     ]
    },
    {
     "name": "stdout",
     "output_type": "stream",
     "text": [
      "\n"
     ]
    },
    {
     "name": "stderr",
     "output_type": "stream",
     "text": [
      "┌ Info: aco_vehicle\n",
      "│   veh - 1 = 15\n",
      "│   psi_v.n_customers = 97\n",
      "│   psi_v.distance = 1602.0932286284574\n",
      "└ @ Main In[25]:8\n"
     ]
    },
    {
     "name": "stdout",
     "output_type": "stream",
     "text": [
      "\u001b[1A\r",
      "46.7%┣████████████████████                       ┫ 14/30 [01:12<01:28, 0.2 it/s]\n"
     ]
    },
    {
     "name": "stderr",
     "output_type": "stream",
     "text": [
      "┌ Info: aco_time\n",
      "│   veh = 16\n",
      "│   psi_t.n_customers = 100\n",
      "│   psi_t.distance = 1353.393326431162\n",
      "└ @ Main In[25]:15\n",
      "┌ Info: aco_vehicle\n",
      "│   veh - 1 = 15\n",
      "│   psi_v.n_customers = 97\n",
      "│   psi_v.distance = 1801.7757728583026\n",
      "└ @ Main In[25]:8\n"
     ]
    },
    {
     "name": "stdout",
     "output_type": "stream",
     "text": [
      "\u001b[1A\r",
      "50.0%┣█████████████████████▌                     ┫ 15/30 [01:24<01:30, 0.2 it/s]"
     ]
    },
    {
     "name": "stderr",
     "output_type": "stream",
     "text": [
      "┌ Info: aco_time\n",
      "│   veh = 16\n",
      "│   psi_t.n_customers = 100\n",
      "│   psi_t.distance = 1332.1890568814415\n",
      "└ @ Main In[25]:15\n"
     ]
    },
    {
     "name": "stdout",
     "output_type": "stream",
     "text": [
      "\n"
     ]
    },
    {
     "name": "stderr",
     "output_type": "stream",
     "text": [
      "┌ Info: aco_vehicle\n",
      "│   veh - 1 = 15\n",
      "│   psi_v.n_customers = 97\n",
      "│   psi_v.distance = 1677.9250107971889\n",
      "└ @ Main In[25]:8\n"
     ]
    },
    {
     "name": "stdout",
     "output_type": "stream",
     "text": [
      "\u001b[1A\r",
      "53.3%┣███████████████████████                    ┫ 16/30 [01:38<01:31, 0.2 it/s]\n"
     ]
    },
    {
     "name": "stderr",
     "output_type": "stream",
     "text": [
      "┌ Info: aco_time\n",
      "│   veh = 16\n",
      "│   psi_t.n_customers = 100\n",
      "│   psi_t.distance = 1332.1890568814415\n",
      "└ @ Main In[25]:15\n",
      "┌ Info: aco_vehicle\n",
      "│   veh - 1 = 15\n",
      "│   psi_v.n_customers = 98\n",
      "│   psi_v.distance = 1663.2467103569788\n",
      "└ @ Main In[25]:8\n"
     ]
    },
    {
     "name": "stdout",
     "output_type": "stream",
     "text": [
      "\u001b[1A\r",
      "56.7%┣████████████████████████▍                  ┫ 17/30 [01:51<01:30, 0.1 it/s]\n"
     ]
    },
    {
     "name": "stderr",
     "output_type": "stream",
     "text": [
      "┌ Info: aco_time\n",
      "│   veh = 16\n",
      "│   psi_t.n_customers = 100\n",
      "│   psi_t.distance = 1332.1890568814415\n",
      "└ @ Main In[25]:15\n",
      "┌ Info: aco_vehicle\n",
      "│   veh - 1 = 15\n",
      "│   psi_v.n_customers = 98\n",
      "│   psi_v.distance = 1564.6155858607217\n",
      "└ @ Main In[25]:8\n"
     ]
    },
    {
     "name": "stdout",
     "output_type": "stream",
     "text": [
      "\u001b[1A\r",
      "60.0%┣█████████████████████████▉                 ┫ 18/30 [02:04<01:27, 0.1 it/s]"
     ]
    },
    {
     "name": "stderr",
     "output_type": "stream",
     "text": [
      "┌ Info: aco_time\n",
      "│   veh = 16\n",
      "│   psi_t.n_customers = 100\n",
      "│   psi_t.distance = 1332.1890568814415\n",
      "└ @ Main In[25]:15\n"
     ]
    },
    {
     "name": "stdout",
     "output_type": "stream",
     "text": [
      "\n"
     ]
    },
    {
     "name": "stderr",
     "output_type": "stream",
     "text": [
      "┌ Info: aco_vehicle\n",
      "│   veh - 1 = 15\n",
      "│   psi_v.n_customers = 98\n",
      "│   psi_v.distance = 1589.101046003927\n",
      "└ @ Main In[25]:8\n"
     ]
    },
    {
     "name": "stdout",
     "output_type": "stream",
     "text": [
      "\u001b[1A\r",
      "63.3%┣███████████████████████████▎               ┫ 19/30 [02:16<01:23, 0.1 it/s]"
     ]
    },
    {
     "name": "stderr",
     "output_type": "stream",
     "text": [
      "┌ Info: aco_time\n",
      "│   veh = 16\n",
      "│   psi_t.n_customers = 100\n",
      "│   psi_t.distance = 1332.1890568814415\n",
      "└ @ Main In[25]:15\n"
     ]
    },
    {
     "name": "stdout",
     "output_type": "stream",
     "text": [
      "\n"
     ]
    },
    {
     "name": "stderr",
     "output_type": "stream",
     "text": [
      "┌ Info: aco_vehicle\n",
      "│   veh - 1 = 15\n",
      "│   psi_v.n_customers = 97\n",
      "│   psi_v.distance = 1539.6881788066362\n",
      "└ @ Main In[25]:8\n"
     ]
    },
    {
     "name": "stdout",
     "output_type": "stream",
     "text": [
      "\u001b[1A\r",
      "66.7%┣████████████████████████████▋              ┫ 20/30 [02:28<01:18, 0.1 it/s]\n"
     ]
    },
    {
     "name": "stderr",
     "output_type": "stream",
     "text": [
      "┌ Info: aco_time\n",
      "│   veh = 16\n",
      "│   psi_t.n_customers = 100\n",
      "│   psi_t.distance = 1332.1890568814415\n",
      "└ @ Main In[25]:15\n",
      "┌ Info: aco_vehicle\n",
      "│   veh - 1 = 15\n",
      "│   psi_v.n_customers = 98\n",
      "│   psi_v.distance = 1793.8427163614183\n",
      "└ @ Main In[25]:8\n"
     ]
    },
    {
     "name": "stdout",
     "output_type": "stream",
     "text": [
      "\u001b[1A\r",
      "70.0%┣██████████████████████████████             ┫ 21/30 [02:43<01:13, 0.1 it/s]"
     ]
    },
    {
     "name": "stderr",
     "output_type": "stream",
     "text": [
      "┌ Info: aco_time\n",
      "│   veh = 16\n",
      "│   psi_t.n_customers = 100\n",
      "│   psi_t.distance = 1326.7592797188408\n",
      "└ @ Main In[25]:15\n"
     ]
    },
    {
     "name": "stdout",
     "output_type": "stream",
     "text": [
      "\n",
      "\u001b[1A\r",
      "73.3%┣███████████████████████████████▌           ┫ 22/30 [02:44<01:03, 0.1 it/s]"
     ]
    },
    {
     "name": "stderr",
     "output_type": "stream",
     "text": [
      "┌ Info: aco_vehicle\n",
      "│   veh - 1 = 15\n",
      "│   psi_v.n_customers = 100\n",
      "│   psi_v.distance = 1618.6058377735762\n",
      "└ @ Main In[25]:8\n"
     ]
    },
    {
     "name": "stdout",
     "output_type": "stream",
     "text": [
      "\n"
     ]
    },
    {
     "name": "stderr",
     "output_type": "stream",
     "text": [
      "┌ Info: aco_vehicle\n",
      "│   veh - 1 = 14\n",
      "│   psi_v.n_customers = 96\n",
      "│   psi_v.distance = 1585.3364469095527\n",
      "└ @ Main In[25]:8\n"
     ]
    },
    {
     "name": "stdout",
     "output_type": "stream",
     "text": [
      "\u001b[1A\r",
      "76.7%┣█████████████████████████████████          ┫ 23/30 [02:58<00:57, 0.1 it/s]\n"
     ]
    },
    {
     "name": "stderr",
     "output_type": "stream",
     "text": [
      "┌ Info: aco_time\n",
      "│   veh = 15\n",
      "│   psi_t.n_customers = 100\n",
      "│   psi_t.distance = 1362.6615787953322\n",
      "└ @ Main In[25]:15\n",
      "┌ Info: aco_vehicle\n",
      "│   veh - 1 = 14\n",
      "│   psi_v.n_customers = 96\n",
      "│   psi_v.distance = 1646.893097561784\n",
      "└ @ Main In[25]:8\n"
     ]
    },
    {
     "name": "stdout",
     "output_type": "stream",
     "text": [
      "\u001b[1A\r",
      "80.0%┣██████████████████████████████████▍        ┫ 24/30 [03:12<00:50, 0.1 it/s]"
     ]
    },
    {
     "name": "stderr",
     "output_type": "stream",
     "text": [
      "┌ Info: aco_time\n",
      "│   veh = 15\n",
      "│   psi_t.n_customers = 100\n",
      "│   psi_t.distance = 1332.2901741562198\n",
      "└ @ Main In[25]:15\n"
     ]
    },
    {
     "name": "stdout",
     "output_type": "stream",
     "text": [
      "\n"
     ]
    },
    {
     "name": "stderr",
     "output_type": "stream",
     "text": [
      "┌ Info: aco_vehicle\n",
      "│   veh - 1 = 14\n",
      "│   psi_v.n_customers = 95\n",
      "│   psi_v.distance = 1505.4507976129007\n",
      "└ @ Main In[25]:8\n"
     ]
    },
    {
     "name": "stdout",
     "output_type": "stream",
     "text": [
      "\u001b[1A\r",
      "83.3%┣███████████████████████████████████▉       ┫ 25/30 [03:27<00:43, 0.1 it/s]\n"
     ]
    },
    {
     "name": "stderr",
     "output_type": "stream",
     "text": [
      "┌ Info: aco_time\n",
      "│   veh = 15\n",
      "│   psi_t.n_customers = 100\n",
      "│   psi_t.distance = 1332.2901741562198\n",
      "└ @ Main In[25]:15\n",
      "┌ Info: aco_vehicle\n",
      "│   veh - 1 = 14\n",
      "│   psi_v.n_customers = 97\n",
      "│   psi_v.distance = 1581.7808703745247\n",
      "└ @ Main In[25]:8\n"
     ]
    },
    {
     "name": "stdout",
     "output_type": "stream",
     "text": [
      "\u001b[1A\r",
      "86.7%┣█████████████████████████████████████▎     ┫ 26/30 [03:42<00:35, 0.1 it/s]\n"
     ]
    },
    {
     "name": "stderr",
     "output_type": "stream",
     "text": [
      "┌ Info: aco_time\n",
      "│   veh = 15\n",
      "│   psi_t.n_customers = 100\n",
      "│   psi_t.distance = 1332.2901741562198\n",
      "└ @ Main In[25]:15\n",
      "┌ Info: aco_vehicle\n",
      "│   veh - 1 = 14\n",
      "│   psi_v.n_customers = 97\n",
      "│   psi_v.distance = 1685.4377297426124\n",
      "└ @ Main In[25]:8\n"
     ]
    },
    {
     "name": "stdout",
     "output_type": "stream",
     "text": [
      "\u001b[1A\r",
      "90.0%┣██████████████████████████████████████▊    ┫ 27/30 [03:57<00:27, 0.1 it/s]"
     ]
    },
    {
     "name": "stderr",
     "output_type": "stream",
     "text": [
      "┌ Info: aco_time\n",
      "│   veh = 15\n",
      "│   psi_t.n_customers = 100\n",
      "│   psi_t.distance = 1332.2901741562198\n",
      "└ @ Main In[25]:15\n"
     ]
    },
    {
     "name": "stdout",
     "output_type": "stream",
     "text": [
      "\n"
     ]
    },
    {
     "name": "stderr",
     "output_type": "stream",
     "text": [
      "┌ Info: aco_vehicle\n",
      "│   veh - 1 = 14\n",
      "│   psi_v.n_customers = 98\n",
      "│   psi_v.distance = 1621.2079789409925\n",
      "└ @ Main In[25]:8\n"
     ]
    },
    {
     "name": "stdout",
     "output_type": "stream",
     "text": [
      "\u001b[1A\r",
      "93.3%┣████████████████████████████████████████▏  ┫ 28/30 [04:10<00:19, 0.1 it/s]\n"
     ]
    },
    {
     "name": "stderr",
     "output_type": "stream",
     "text": [
      "┌ Info: aco_time\n",
      "│   veh = 15\n",
      "│   psi_t.n_customers = 100\n",
      "│   psi_t.distance = 1305.2031324087475\n",
      "└ @ Main In[25]:15\n",
      "┌ Info: aco_vehicle\n",
      "│   veh - 1 = 14\n",
      "│   psi_v.n_customers = 95\n",
      "│   psi_v.distance = 1512.2367051223348\n",
      "└ @ Main In[25]:8\n"
     ]
    },
    {
     "name": "stdout",
     "output_type": "stream",
     "text": [
      "\u001b[1A\r",
      "96.7%┣█████████████████████████████████████████▋ ┫ 29/30 [04:22<00:09, 0.1 it/s]\n"
     ]
    },
    {
     "name": "stderr",
     "output_type": "stream",
     "text": [
      "┌ Info: aco_time\n",
      "│   veh = 15\n",
      "│   psi_t.n_customers = 100\n",
      "│   psi_t.distance = 1305.2031324087475\n",
      "└ @ Main In[25]:15\n",
      "┌ Info: aco_vehicle\n",
      "│   veh - 1 = 14\n",
      "│   psi_v.n_customers = 96\n",
      "│   psi_v.distance = 1645.8714936197407\n",
      "└ @ Main In[25]:8\n"
     ]
    },
    {
     "name": "stdout",
     "output_type": "stream",
     "text": [
      "\u001b[1A\r",
      "100.0%┣██████████████████████████████████████████┫ 30/30 [04:34<00:00, 0.1 it/s]\n",
      "\u001b[1A\r",
      "100.0%┣██████████████████████████████████████████┫ 30/30 [04:34<00:00, 0.1 it/s]\n",
      "\n"
     ]
    },
    {
     "name": "stderr",
     "output_type": "stream",
     "text": [
      "┌ Info: aco_time\n",
      "│   veh = 15\n",
      "│   psi_t.n_customers = 100\n",
      "│   psi_t.distance = 1305.2031324087475\n",
      "└ @ Main In[25]:15\n"
     ]
    },
    {
     "data": {
      "text/plain": [
       "Solution([101, 40, 53, 102, 36, 64, 49, 19, 7, 103  …  100, 115, 28, 76, 79, 3, 68, 29, 24, 116], Route[Route([101, 40, 53, 102], 22.360679774997898, 2, true), Route([102, 36, 64, 49, 19, 7, 103], 119.96447761124713, 5, true), Route([103, 83, 45, 84, 17, 61, 93, 104], 79.31036984397787, 6, true), Route([104, 71, 65, 9, 66, 20, 51, 105], 126.5916452391877, 6, true), Route([105, 21, 72, 22, 74, 73, 106], 56.58347306532235, 5, true), Route([106, 27, 69, 30, 10, 107], 61.116871521370776, 4, true), Route([107, 50, 33, 81, 78, 34, 35, 77, 12, 108], 96.84192958915898, 8, true), Route([108, 26, 39, 23, 67, 55, 25, 109], 110.79907403480814, 6, true), Route([109, 1, 31, 62, 11, 63, 90, 32, 70, 110], 94.2081541322224, 8, true), Route([110, 52, 88, 8, 46, 47, 48, 82, 18, 89, 111], 95.36149850738124, 9, true), Route([111, 96, 98, 37, 59, 99, 6, 94, 112], 51.35292509685719, 7, true), Route([112, 2, 43, 15, 57, 41, 75, 56, 4, 54, 80, 113], 120.9880485211177, 10, true), Route([113, 92, 42, 95, 97, 87, 13, 58, 114], 70.28530816166354, 7, true), Route([114, 60, 5, 16, 44, 38, 14, 86, 85, 91, 100, 115], 118.37675549409596, 10, true), Route([115, 28, 76, 79, 3, 68, 29, 24, 116], 81.06192181533858, 7, true)], 1305.2031324087475, 116, 100, 15, 16, true)"
      ]
     },
     "execution_count": 26,
     "metadata": {},
     "output_type": "execute_result"
    }
   ],
   "source": [
    "psi_gb = initial_solution(p)\n",
    "best = maco_vrptw(p, 10, 1, 0.1)"
   ]
  },
  {
   "cell_type": "code",
   "execution_count": 27,
   "id": "e9b0e134",
   "metadata": {},
   "outputs": [
    {
     "name": "stdout",
     "output_type": "stream",
     "text": [
      "[101, 40, 53, 102, 36, 64, 49, 19, 7, 103, 83, 45, 84, 17, 61, 93, 104, 71, 65, 9, 66, 20, 51, 105, 21, 72, 22, 74, 73, 106, 27, 69, 30, 10, 107, 50, 33, 81, 78, 34, 35, 77, 12, 108, 26, 39, 23, 67, 55, 25, 109, 1, 31, 62, 11, 63, 90, 32, 70, 110, 52, 88, 8, 46, 47, 48, 82, 18, 89, 111, 96, 98, 37, 59, 99, 6, 94, 112, 2, 43, 15, 57, 41, 75, 56, 4, 54, 80, 113, 92, 42, 95, 97, 87, 13, 58, 114, 60, 5, 16, 44, 38, 14, 86, 85, 91, 100, 115, 28, 76, 79, 3, 68, 29, 24, 116]"
     ]
    }
   ],
   "source": [
    "print(best.tour)"
   ]
  },
  {
   "cell_type": "markdown",
   "id": "77b0f9ec",
   "metadata": {},
   "source": [
    "## Solutions\n",
    "\n",
    "r103.txt =>\n",
    "\n",
    "Solution([101, 31, 62, 11, 19, 49, 47, 46, 48, 7, 102, 28, 50, 33, 3, 76, 79, 68, 29, 24, 103, 1, 30, 9, 71, 66, 20, 51, 104, 65, 34, 78, 35, 81, 77, 105, 21, 73, 22, 72, 74, 57, 2, 58, 106, 42, 43, 15, 41, 75, 56, 4, 54, 80, 12, 107, 40, 53, 108, 26, 39, 23, 67, 55, 25, 109, 87, 97, 59, 93, 110, 27, 69, 88, 8, 82, 111, 36, 64, 63, 90, 10, 32, 70, 112, 89, 45, 83, 84, 17, 61, 113, 52, 18, 60, 5, 96, 99, 6, 94, 95, 13, 114, 92, 85, 98, 44, 38, 14, 86, 16, 91, 100, 37, 115], 1303.0497514569026, 115, 100, 14, 15, true)\n",
    "\n",
    "Solution([101, 76, 79, 68, 3, 77, 102, 50, 33, 78, 34, 35, 51, 103, 96, 99, 6, 104, 39, 23, 67, 55, 25, 54, 105, 92, 44, 38, 14, 91, 98, 37, 100, 106, 71, 65, 66, 20, 70, 1, 107, 94, 95, 97, 87, 13, 58, 108, 27, 69, 30, 9, 81, 29, 24, 80, 109, 40, 53, 110, 2, 22, 72, 73, 74, 21, 26, 111, 31, 88, 8, 46, 17, 60, 5, 112, 42, 43, 15, 57, 41, 75, 56, 4, 12, 28, 113, 52, 7, 62, 11, 19, 10, 32, 90, 63, 114, 36, 64, 49, 47, 48, 82, 18, 89, 115, 83, 45, 84, 61, 86, 16, 85, 93, 59, 116], 1291.4342990352254, 116, 100, 15, 16, true)"
   ]
  },
  {
   "cell_type": "code",
   "execution_count": null,
   "id": "afc37e9d",
   "metadata": {},
   "outputs": [],
   "source": []
  },
  {
   "cell_type": "code",
   "execution_count": null,
   "id": "773a1e91",
   "metadata": {},
   "outputs": [],
   "source": []
  }
 ],
 "metadata": {
  "kernelspec": {
   "display_name": "Julia 1.6.0",
   "language": "julia",
   "name": "julia-1.6"
  },
  "language_info": {
   "file_extension": ".jl",
   "mimetype": "application/julia",
   "name": "julia",
   "version": "1.6.0"
  }
 },
 "nbformat": 4,
 "nbformat_minor": 5
}
