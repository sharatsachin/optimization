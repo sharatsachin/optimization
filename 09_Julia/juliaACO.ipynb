{
 "cells": [
  {
   "cell_type": "code",
   "execution_count": 1,
   "metadata": {},
   "outputs": [],
   "source": [
    "using ProgressBars"
   ]
  },
  {
   "cell_type": "code",
   "execution_count": 2,
   "metadata": {},
   "outputs": [],
   "source": [
    "mutable struct Colony\n",
    "    ants\n",
    "    size::Int64\n",
    "end"
   ]
  },
  {
   "cell_type": "code",
   "execution_count": 3,
   "metadata": {},
   "outputs": [],
   "source": [
    "mutable struct Ant\n",
    "    tour\n",
    "    fitness::Float64\n",
    "end"
   ]
  },
  {
   "cell_type": "code",
   "execution_count": 4,
   "metadata": {},
   "outputs": [],
   "source": [
    "struct Node\n",
    "    x::Float64\n",
    "    y::Float64\n",
    "end"
   ]
  },
  {
   "cell_type": "code",
   "execution_count": 5,
   "metadata": {},
   "outputs": [
    {
     "data": {
      "text/plain": [
       "create_graph (generic function with 1 method)"
      ]
     },
     "execution_count": 5,
     "metadata": {},
     "output_type": "execute_result"
    }
   ],
   "source": [
    "function create_graph(n)\n",
    "    println(n)\n",
    "    x,y=[],[]\n",
    "    #4\n",
    "    if n==Int64(1)\n",
    "        x = [ 0.09 , 0.16 , 0.84 , 0.70 ]\n",
    "        y = [0.17, 0.52, 0.92, 0.16]   \n",
    "    end\n",
    "    if n==2\n",
    "        x = [16.47000,16.47000,20.09000,22.39000,25.23000,22,20.47000,17.20000,16.30000,14.05000,16.53000,21.52000,19.41000,20.09000]\n",
    "        y = [96.10000,94.44000,92.54000,93.37000,97.24000,96.05000,97.02000,96.29000,97.38000,98.12000,97.38000,95.59000,97.13000,94.55000]\n",
    "    end\n",
    "    # 50\n",
    "    if n==3\n",
    "        x = [7,9,2,0,0,1,7,1,2,51,42,31,5,12,36,52,27,17,13,57,62,42,16,8,7,27,30,43,58,58,37,38,46,61,62,63,32,45,59,5,10,21,5,30,39,32,25,25,48,56]\n",
    "        y = [52,49,64,26,30,47,63,62,33,21,41,32,25,42,16,41,23,33,13,58,42,57,57,52,38,68,48,67,48,27,69,46,10,33,63,69,22,35,15,6,17,10,64,15,10,39,32,55,28,37]\n",
    "    end\n",
    "    #100\n",
    "    if n==4\n",
    "        x= [1380,2848,3510,457,3888,984,2721,1286,2716,738,1251,2728,3815,3683,1247,123,1234,252,611,2576,928,53,1807,274,2574,178,2678,1795,3384,3520,1256,1424,3913,3085,2573,463,3875,298,3479,2542,3955,1323,3447,2936,1621,3373,1393,3874,938,3022,2482,3854,376,2519,2945,953,2628,2097,890,2139,2421,2290,1115,2588,327,241,1917,2991,2573,19,3911,872,2863,929,839,3893,2178,3822,378,1178,2599,3416,2961,611,3113,2597,2586,161,1429,742,1625,1187,1787,22,3640,3756,776,1724,198,3950]\n",
    "        y= [939,96,1671,334,666,965,1482,525,1432,1325,1832,1698,169,1533,1945,862,1946,1240,673,1676,1700,857,1711,1420,946,24,1825,962,1498,1079,61,1728,192,1528,1969,1670,598,1513,821,236,1743,280,1830,337,1830,1646,1368,1318,955,474,1183,923,825,135,1622,268,1479,981,1846,1806,1007,1810,1052,302,265,341,687,792,599,674,1673,1559,558,1766,620,102,1619,899,1048,100,901,143,1605,1384,885,1830,1286,906,134,1025,1651,706,1009,987,43,882,392,1642,1810,1558]\n",
    "    end\n",
    "    \n",
    "        #     print(len(x))\n",
    "    nodes = []\n",
    "    for i in 1:length(x)\n",
    "        push!(nodes,Node(x[i],y[i]))\n",
    "    end\n",
    "    \n",
    "    dist_graph=[[Float64(0) for i in 1:length(x)] for i in 1:length(x)]\n",
    "#     nodes\n",
    "#     print(length(dist_graph))\n",
    "#     print(dist_graph[1][3])\n",
    "    for i in 1:length(x)\n",
    "        for j in 1:length(x)\n",
    "            x1=nodes[i].x\n",
    "            x2=nodes[j].x\n",
    "            y1=nodes[i].y\n",
    "            y2=nodes[j].y\n",
    "            dist = sqrt((x1-x2)^2 + (y1-y2)^2)\n",
    "            dist_graph[i][j]=dist\n",
    "        end\n",
    "    end\n",
    "    return dist_graph,nodes\n",
    " end"
   ]
  },
  {
   "cell_type": "code",
   "execution_count": 6,
   "metadata": {},
   "outputs": [
    {
     "data": {
      "text/plain": [
       "obj_function (generic function with 1 method)"
      ]
     },
     "execution_count": 6,
     "metadata": {},
     "output_type": "execute_result"
    }
   ],
   "source": [
    "       \n",
    "function obj_function(path,graph)\n",
    "#     print(path)\n",
    "    fitness=0\n",
    "    for i in 1:length(path)-1\n",
    "#         print(i)\n",
    "        fitness+=graph[path[i]][path[i+1]]\n",
    "    end\n",
    "    fitness+= graph[path[1]][path[end]]\n",
    "    return fitness\n",
    "    end"
   ]
  },
  {
   "cell_type": "code",
   "execution_count": 7,
   "metadata": {},
   "outputs": [
    {
     "data": {
      "text/plain": [
       "update_phromone (generic function with 1 method)"
      ]
     },
     "execution_count": 7,
     "metadata": {},
     "output_type": "execute_result"
    }
   ],
   "source": [
    "function update_phromone(tau,colony)\n",
    "\n",
    "    for i in 1:colony.size\n",
    "        ant=colony.ants[i]\n",
    "        for j in 2:length(ant.tour)\n",
    "            tau[ant.tour[j-1],ant.tour[j]] =  tau[ant.tour[j-1],ant.tour[j]]  + 1/ ant.fitness\n",
    "            tau[ant.tour[j],ant.tour[j-1]] =  tau[ant.tour[j],ant.tour[j-1]]  + 1/ ant.fitness\n",
    "        end\n",
    "    end\n",
    "end\n"
   ]
  },
  {
   "cell_type": "code",
   "execution_count": 8,
   "metadata": {},
   "outputs": [
    {
     "data": {
      "text/plain": [
       "roulette_wheel (generic function with 1 method)"
      ]
     },
     "execution_count": 8,
     "metadata": {},
     "output_type": "execute_result"
    }
   ],
   "source": [
    "function roulette_wheel(prob)\n",
    "    arr=[]\n",
    "    for i in 1:length(prob)\n",
    "        push!(arr,[i,prob[i]])\n",
    "    end\n",
    "    sorted_array = sort(arr,by=x->x[2],rev=true)\n",
    "    cum_sum =ones(length(arr))\n",
    "    sum=1\n",
    "    for i in 1:length(arr)\n",
    "        cum_sum[i]=sum\n",
    "        sum-=sorted_array[i][2]\n",
    "    end\n",
    "    r=rand()\n",
    "    idx=length(arr)\n",
    "    for i in 2:length(arr)\n",
    "        if r>cum_sum[i]\n",
    "            idx=i-1\n",
    "            break\n",
    "        end\n",
    "    end\n",
    "    return Int64(sorted_array[idx][1])\n",
    "        \n",
    "end"
   ]
  },
  {
   "cell_type": "code",
   "execution_count": 9,
   "metadata": {},
   "outputs": [
    {
     "data": {
      "text/plain": [
       "createColony (generic function with 1 method)"
      ]
     },
     "execution_count": 9,
     "metadata": {},
     "output_type": "execute_result"
    }
   ],
   "source": [
    "\n",
    "    \n",
    "function createColony( graph, colony , antNo, tau, eta, alpha,  beta)\n",
    "    node_len = length(graph)\n",
    "    colony=Colony([],antNo)\n",
    "\n",
    "    for i in 1:antNo\n",
    "        tour=[]\n",
    "        append!(tour,rand(1:node_len))\n",
    "        for j in 2:node_len\n",
    "            \n",
    "            current_node = tour[j-1]\n",
    "            p_all_nodes =  tau[current_node,:].^alpha .* eta[current_node,:].^beta\n",
    "            p_all_nodes[tour].=0\n",
    "            prob = p_all_nodes/sum(p_all_nodes)\n",
    "\n",
    "            next_node = roulette_wheel(prob)\n",
    "\n",
    "            append!(tour,next_node)\n",
    "        end\n",
    "\n",
    "        tour1 = copy(tour)\n",
    "\n",
    "        append!(tour1,tour1[1])\n",
    "\n",
    "        ant = Ant(tour1,obj_function(copy(tour),graph))\n",
    "        push!(colony.ants,ant)\n",
    "\n",
    "    end\n",
    "        \n",
    "    return colony\n",
    "end\n",
    "        \n",
    "    "
   ]
  },
  {
   "cell_type": "markdown",
   "metadata": {},
   "source": [
    "# with 100 nodes"
   ]
  },
  {
   "cell_type": "code",
   "execution_count": 15,
   "metadata": {},
   "outputs": [
    {
     "name": "stdout",
     "output_type": "stream",
     "text": [
      "4\n"
     ]
    },
    {
     "ename": "LoadError",
     "evalue": "UndefVarError: colony not defined",
     "output_type": "error",
     "traceback": [
      "UndefVarError: colony not defined",
      "",
      "Stacktrace:",
      " [1] top-level scope",
      "   @ In[15]:38",
      " [2] eval",
      "   @ .\\boot.jl:360 [inlined]",
      " [3] include_string(mapexpr::typeof(REPL.softscope), mod::Module, code::String, filename::String)",
      "   @ Base .\\loading.jl:1094"
     ]
    }
   ],
   "source": [
    "graph,nodes = create_graph(4)\n",
    "\n",
    "\n",
    "maxIter = 1000\n",
    "antNo = 100\n",
    "\n",
    "\n",
    "\n",
    "\n",
    "# tau_initial = 10 * 1 / (len(nodes) *  np.mean(graph))\n",
    "\n",
    "tau = ones((length(nodes),length(nodes)))\n",
    "eta = ones((length(nodes),length(nodes)))\n",
    "\n",
    "for i in 1:length(graph)\n",
    "    for j in 1:length(graph)\n",
    "        eta[i,j]=1/graph[i][j]\n",
    "    end\n",
    "end\n",
    "rho=0.05\n",
    "max_rho=0.6\n",
    "\n",
    "min_rho=0.05\n",
    "alpha=1\n",
    "beta =4\n",
    "\n",
    "\n",
    "\n",
    "best_fitness=Inf\n",
    "best_tour=[]\n",
    "values=[]\n",
    "max_values=[]\n",
    "each_iter_result=[]\n",
    "for i in 1:maxIter\n",
    " \n",
    "\n",
    "    \n",
    "    colony = createColony( graph, colony , antNo, tau, eta, alpha,  beta)\n",
    "    best_ant_in_colony = sort(colony.ants,by = x-> x.fitness)[1]\n",
    "#     print(best_ant_in_colony.fitness)\n",
    "    if best_fitness> best_ant_in_colony.fitness\n",
    "        best_fitness= best_ant_in_colony.fitness\n",
    "        best_tour=best_ant_in_colony.tour\n",
    "    end\n",
    "\n",
    "    update_phromone(tau,colony)\n",
    "    append!(values,best_fitness)\n",
    "    append!(max_values,sort(colony.ants,by= x-> x.fitness,rev=true)[1].fitness)\n",
    "    append!(each_iter_result,best_ant_in_colony.fitness)\n",
    "    \n",
    "#     rho = max_rho - i * ( (max_rho - min_rho) / (maxIter))\n",
    "    tau  = ( 1 - rho ) * tau\n",
    "end\n",
    "\n",
    "\n",
    "\n",
    "print(best_fitness,best_tour)\n",
    "plot(1:maxIter,values)\n",
    "plot!(1:maxIter,each_iter_result)\n",
    "plot!(1:maxIter,max_values)\n"
   ]
  },
  {
   "cell_type": "markdown",
   "metadata": {},
   "source": [
    "# with 50 nodes"
   ]
  },
  {
   "cell_type": "code",
   "execution_count": 17,
   "metadata": {},
   "outputs": [
    {
     "name": "stdout",
     "output_type": "stream",
     "text": [
      "3\n"
     ]
    },
    {
     "ename": "LoadError",
     "evalue": "UndefVarError: colony not defined",
     "output_type": "error",
     "traceback": [
      "UndefVarError: colony not defined",
      "",
      "Stacktrace:",
      " [1] top-level scope",
      "   @ In[17]:38",
      " [2] eval",
      "   @ .\\boot.jl:360 [inlined]",
      " [3] include_string(mapexpr::typeof(REPL.softscope), mod::Module, code::String, filename::String)",
      "   @ Base .\\loading.jl:1094"
     ]
    }
   ],
   "source": [
    "graph,nodes = create_graph(3)\n",
    "\n",
    "\n",
    "maxIter = 1000\n",
    "antNo = 100\n",
    "\n",
    "\n",
    "\n",
    "\n",
    "# tau_initial = 10 * 1 / (len(nodes) *  np.mean(graph))\n",
    "\n",
    "tau = ones((length(nodes),length(nodes)))\n",
    "eta = ones((length(nodes),length(nodes)))\n",
    "\n",
    "for i in 1:length(graph)\n",
    "    for j in 1:length(graph)\n",
    "        eta[i,j]=1/graph[i][j]\n",
    "    end\n",
    "end\n",
    "rho=0.05\n",
    "max_rho=0.6\n",
    "\n",
    "min_rho=0.05\n",
    "alpha=1\n",
    "beta =4\n",
    "\n",
    "\n",
    "\n",
    "best_fitness=Inf\n",
    "best_tour=[]\n",
    "values=[]\n",
    "max_values=[]\n",
    "each_iter_result=[]\n",
    "for i in 1:maxIter\n",
    " \n",
    "\n",
    "    \n",
    "    colony = createColony( graph, colony , antNo, tau, eta, alpha,  beta)\n",
    "    best_ant_in_colony = sort(colony.ants,by = x-> x.fitness)[1]\n",
    "#     print(best_ant_in_colony.fitness)\n",
    "    if best_fitness> best_ant_in_colony.fitness\n",
    "        best_fitness= best_ant_in_colony.fitness\n",
    "        best_tour=best_ant_in_colony.tour\n",
    "    end\n",
    "\n",
    "    update_phromone(tau,colony)\n",
    "    append!(values,best_fitness)\n",
    "    append!(max_values,sort(colony.ants,by= x-> x.fitness,rev=true)[1].fitness)\n",
    "    append!(each_iter_result,best_ant_in_colony.fitness)\n",
    "    \n",
    "#     rho = max_rho - i * ( (max_rho - min_rho) / (maxIter))\n",
    "    tau  = ( 1 - rho ) * tau\n",
    "end\n",
    "\n",
    "\n",
    "\n",
    "print(best_fitness,best_tour)\n",
    "plot(1:maxIter,values)\n",
    "plot!(1:maxIter,each_iter_result)\n",
    "plot!(1:maxIter,max_values)\n"
   ]
  },
  {
   "cell_type": "markdown",
   "metadata": {},
   "source": [
    "# with 14 nodes"
   ]
  },
  {
   "cell_type": "code",
   "execution_count": 12,
   "metadata": {},
   "outputs": [
    {
     "name": "stdout",
     "output_type": "stream",
     "text": [
      "2\n",
      "0.0%┣                                        ┫ 0/1000 [00:00<00:-50, -20.0 it/s]\n"
     ]
    },
    {
     "ename": "LoadError",
     "evalue": "UndefVarError: colony not defined",
     "output_type": "error",
     "traceback": [
      "UndefVarError: colony not defined",
      "",
      "Stacktrace:",
      " [1] top-level scope",
      "   @ In[12]:38",
      " [2] eval",
      "   @ .\\boot.jl:360 [inlined]",
      " [3] include_string(mapexpr::typeof(REPL.softscope), mod::Module, code::String, filename::String)",
      "   @ Base .\\loading.jl:1094"
     ]
    }
   ],
   "source": [
    "graph,nodes = create_graph(2)\n",
    "\n",
    "\n",
    "maxIter = 1000\n",
    "antNo = 70\n",
    "\n",
    "\n",
    "\n",
    "\n",
    "# tau_initial = 10 * 1 / (len(nodes) *  np.mean(graph))\n",
    "\n",
    "tau = ones((length(nodes),length(nodes)))\n",
    "eta = ones((length(nodes),length(nodes)))\n",
    "\n",
    "for i in 1:length(graph)\n",
    "    for j in 1:length(graph)\n",
    "        eta[i,j]=1/graph[i][j]\n",
    "    end\n",
    "end\n",
    "rho=0.05\n",
    "max_rho=0.6\n",
    "\n",
    "min_rho=0.05\n",
    "alpha=1\n",
    "beta =4\n",
    "\n",
    "\n",
    "\n",
    "best_fitness=Inf\n",
    "best_tour=[]\n",
    "values=[]\n",
    "max_values=[]\n",
    "each_iter_result=[]\n",
    "for i in tqdm(1:maxIter)\n",
    " \n",
    "\n",
    "    \n",
    "    colony = createColony( graph, colony , antNo, tau, eta, alpha,  beta)\n",
    "    best_ant_in_colony = sort(colony.ants,by = x-> x.fitness)[1]\n",
    "#     print(best_ant_in_colony.fitness)\n",
    "    if best_fitness> best_ant_in_colony.fitness\n",
    "        best_fitness= best_ant_in_colony.fitness\n",
    "        best_tour=best_ant_in_colony.tour\n",
    "    end\n",
    "\n",
    "    update_phromone(tau,colony)\n",
    "    append!(values,best_fitness)\n",
    "    append!(max_values,sort(colony.ants,by= x-> x.fitness,rev=true)[1].fitness)\n",
    "    append!(each_iter_result,best_ant_in_colony.fitness)\n",
    "    \n",
    "    rho = max_rho - i * ( (max_rho - min_rho) / (maxIter))\n",
    "    tau  = ( 1 - rho ) * tau\n",
    "end\n",
    "\n",
    "\n",
    "\n",
    "print(best_fitness,best_tour)\n",
    "plot(1:maxIter,values)\n",
    "plot!(1:maxIter,each_iter_result)\n",
    "plot!(1:maxIter,max_values)\n"
   ]
  },
  {
   "cell_type": "code",
   "execution_count": 13,
   "metadata": {},
   "outputs": [
    {
     "name": "stdout",
     "output_type": "stream",
     "text": [
      "4\n",
      "0.0%┣                                        ┫ 0/1000 [00:00<00:-50, -20.0 it/s]\n"
     ]
    },
    {
     "ename": "LoadError",
     "evalue": "UndefVarError: colony not defined",
     "output_type": "error",
     "traceback": [
      "UndefVarError: colony not defined",
      "",
      "Stacktrace:",
      " [1] top-level scope",
      "   @ In[13]:38",
      " [2] eval",
      "   @ .\\boot.jl:360 [inlined]",
      " [3] include_string(mapexpr::typeof(REPL.softscope), mod::Module, code::String, filename::String)",
      "   @ Base .\\loading.jl:1094"
     ]
    }
   ],
   "source": [
    "graph,nodes = create_graph(4)\n",
    "\n",
    "\n",
    "maxIter = 1000\n",
    "antNo = 100\n",
    "\n",
    "\n",
    "\n",
    "\n",
    "# tau_initial = 10 * 1 / (len(nodes) *  np.mean(graph))\n",
    "\n",
    "tau = ones((length(nodes),length(nodes)))\n",
    "eta = ones((length(nodes),length(nodes)))\n",
    "\n",
    "for i in 1:length(graph)\n",
    "    for j in 1:length(graph)\n",
    "        eta[i,j]=1/graph[i][j]\n",
    "    end\n",
    "end\n",
    "rho=0.05\n",
    "max_rho=0.6\n",
    "\n",
    "min_rho=0.05\n",
    "alpha=1\n",
    "beta =4\n",
    "\n",
    "\n",
    "\n",
    "best_fitness=Inf\n",
    "best_tour=[]\n",
    "values=[]\n",
    "max_values=[]\n",
    "each_iter_result=[]\n",
    "for i in tqdm(1:maxIter)\n",
    " \n",
    "\n",
    "    \n",
    "    colony = createColony( graph, colony , antNo, tau, eta, alpha,  beta)\n",
    "    best_ant_in_colony = sort(colony.ants,by = x-> x.fitness)[1]\n",
    "#     print(best_ant_in_colony.fitness)\n",
    "    if best_fitness> best_ant_in_colony.fitness\n",
    "        best_fitness= best_ant_in_colony.fitness\n",
    "        best_tour=best_ant_in_colony.tour\n",
    "    end\n",
    "\n",
    "    update_phromone(tau,colony)\n",
    "    append!(values,best_fitness)\n",
    "    append!(max_values,sort(colony.ants,by= x-> x.fitness,rev=true)[1].fitness)\n",
    "    append!(each_iter_result,best_ant_in_colony.fitness)\n",
    "    \n",
    "    rho = max_rho - i * ( (max_rho - min_rho) / (maxIter))\n",
    "    tau  = ( 1 - rho ) * tau\n",
    "end\n",
    "\n",
    "\n",
    "\n",
    "print(best_fitness,best_tour)\n",
    "plot(1:maxIter,values)\n",
    "plot!(1:maxIter,each_iter_result)\n",
    "plot!(1:maxIter,max_values)\n"
   ]
  },
  {
   "cell_type": "code",
   "execution_count": 18,
   "metadata": {},
   "outputs": [
    {
     "name": "stdout",
     "output_type": "stream",
     "text": [
      "3\n",
      "\r",
      "0.0%┣                                        ┫ 0/1000 [00:00<00:-50, -20.0 it/s]\n"
     ]
    },
    {
     "ename": "LoadError",
     "evalue": "UndefVarError: colony not defined",
     "output_type": "error",
     "traceback": [
      "UndefVarError: colony not defined",
      "",
      "Stacktrace:",
      " [1] top-level scope",
      "   @ In[18]:38",
      " [2] eval",
      "   @ .\\boot.jl:360 [inlined]",
      " [3] include_string(mapexpr::typeof(REPL.softscope), mod::Module, code::String, filename::String)",
      "   @ Base .\\loading.jl:1094"
     ]
    }
   ],
   "source": [
    "graph,nodes = create_graph(3)\n",
    "\n",
    "\n",
    "maxIter = 1000\n",
    "antNo = 100\n",
    "\n",
    "\n",
    "\n",
    "\n",
    "# tau_initial = 10 * 1 / (len(nodes) *  np.mean(graph))\n",
    "\n",
    "tau = ones((length(nodes),length(nodes)))\n",
    "eta = ones((length(nodes),length(nodes)))\n",
    "\n",
    "for i in 1:length(graph)\n",
    "    for j in 1:length(graph)\n",
    "        eta[i,j]=1/graph[i][j]\n",
    "    end\n",
    "end\n",
    "rho=0.05\n",
    "max_rho=0.6\n",
    "\n",
    "min_rho=0.05\n",
    "alpha=1\n",
    "beta =4\n",
    "\n",
    "\n",
    "\n",
    "best_fitness=Inf\n",
    "best_tour=[]\n",
    "values=[]\n",
    "max_values=[]\n",
    "each_iter_result=[]\n",
    "for i in tqdm(1:maxIter)\n",
    " \n",
    "\n",
    "    \n",
    "    colony = createColony( graph, colony , antNo, tau, eta, alpha,  beta)\n",
    "    best_ant_in_colony = sort(colony.ants,by = x-> x.fitness)[1]\n",
    "#     print(best_ant_in_colony.fitness)\n",
    "    if best_fitness> best_ant_in_colony.fitness\n",
    "        best_fitness= best_ant_in_colony.fitness\n",
    "        best_tour=best_ant_in_colony.tour\n",
    "    end\n",
    "\n",
    "    update_phromone(tau,colony)\n",
    "    append!(values,best_fitness)\n",
    "    append!(max_values,sort(colony.ants,by= x-> x.fitness,rev=true)[1].fitness)\n",
    "    append!(each_iter_result,best_ant_in_colony.fitness)\n",
    "    \n",
    "#     rho = max_rho - i * ( (max_rho - min_rho) / (maxIter))\n",
    "    tau  = ( 1 - rho ) * tau\n",
    "end\n",
    "\n",
    "\n",
    "\n",
    "print(best_fitness,best_tour)\n",
    "plot(1:maxIter,values)\n",
    "plot!(1:maxIter,each_iter_result)\n",
    "plot!(1:maxIter,max_values)\n"
   ]
  },
  {
   "cell_type": "code",
   "execution_count": null,
   "metadata": {},
   "outputs": [],
   "source": [
    "\n"
   ]
  },
  {
   "cell_type": "code",
   "execution_count": null,
   "metadata": {},
   "outputs": [],
   "source": []
  },
  {
   "cell_type": "code",
   "execution_count": null,
   "metadata": {},
   "outputs": [],
   "source": []
  },
  {
   "cell_type": "code",
   "execution_count": null,
   "metadata": {},
   "outputs": [],
   "source": []
  },
  {
   "cell_type": "code",
   "execution_count": null,
   "metadata": {},
   "outputs": [],
   "source": []
  },
  {
   "cell_type": "code",
   "execution_count": null,
   "metadata": {},
   "outputs": [],
   "source": []
  },
  {
   "cell_type": "code",
   "execution_count": null,
   "metadata": {},
   "outputs": [],
   "source": []
  }
 ],
 "metadata": {
  "kernelspec": {
   "display_name": "Julia 1.6.0",
   "language": "julia",
   "name": "julia-1.6"
  },
  "language_info": {
   "file_extension": ".jl",
   "mimetype": "application/julia",
   "name": "julia",
   "version": "1.6.0"
  }
 },
 "nbformat": 4,
 "nbformat_minor": 4
}
