{
 "metadata": {
  "language_info": {
   "codemirror_mode": {
    "name": "ipython",
    "version": 3
   },
   "file_extension": ".py",
   "mimetype": "text/x-python",
   "name": "python",
   "nbconvert_exporter": "python",
   "pygments_lexer": "ipython3",
   "version": "3.9.1-final"
  },
  "orig_nbformat": 2,
  "kernelspec": {
   "name": "python3",
   "display_name": "Python 3.9.1 64-bit",
   "metadata": {
    "interpreter": {
     "hash": "972951680f70378456cfab88c359e072bd45c934348f4a76cceadaff542d740e"
    }
   }
  }
 },
 "nbformat": 4,
 "nbformat_minor": 2,
 "cells": [
  {
   "cell_type": "code",
   "execution_count": 3,
   "metadata": {},
   "outputs": [],
   "source": [
    "from scipy.optimize import linprog\n",
    "import numpy as np"
   ]
  },
  {
   "source": [
    "![](https://i.imgur.com/UNwb3X5.png)\n",
    "![](https://i.imgur.com/wk5Lgq3.png)"
   ],
   "cell_type": "markdown",
   "metadata": {}
  },
  {
   "cell_type": "code",
   "execution_count": 7,
   "metadata": {},
   "outputs": [],
   "source": [
    "obj = [-3, -2.5]\n",
    "\n",
    "lhs_ineq = [[4.44, 0],  \n",
    "            [0, 6.67],  \n",
    "            [4, 2.86],  \n",
    "            [3, 6]]  \n",
    "\n",
    "rhs_ineq = [100, \n",
    "            100, \n",
    "            100, \n",
    "            100]\n",
    "\n",
    "bnd = [(0, float(\"inf\")),\n",
    "       (0, float(\"inf\"))]"
   ]
  },
  {
   "cell_type": "code",
   "execution_count": 8,
   "metadata": {},
   "outputs": [
    {
     "output_type": "execute_result",
     "data": {
      "text/plain": [
       "     con: array([], dtype=float64)\n",
       "     fun: -77.30220492866408\n",
       " message: 'Optimization terminated successfully.'\n",
       "     nit: 3\n",
       "   slack: array([ 9.58754864, 56.74448768,  0.        ,  0.        ])\n",
       "  status: 0\n",
       " success: True\n",
       "       x: array([20.36316472,  6.48508431])"
      ]
     },
     "metadata": {},
     "execution_count": 8
    }
   ],
   "source": [
    "opt = linprog(c=obj, A_ub=lhs_ineq, b_ub=rhs_ineq, bounds=bnd,\n",
    "              method=\"revised simplex\")\n",
    "opt"
   ]
  },
  {
   "cell_type": "code",
   "execution_count": 10,
   "metadata": {},
   "outputs": [],
   "source": [
    "obj = [100, 100, 100, 100]\n",
    "\n",
    "lhs_ineq = [[-4.44, -0, -4, -3],  \n",
    "            [-0, -6.67, -2.86, -6]]  \n",
    "\n",
    "rhs_ineq = [-3,\n",
    "            -2.5]\n",
    "\n",
    "bnd = [(0, float(\"inf\")),\n",
    "        (0, float(\"inf\")),\n",
    "        (0, float(\"inf\")),\n",
    "        (0, float(\"inf\"))]"
   ]
  },
  {
   "cell_type": "code",
   "execution_count": 11,
   "metadata": {},
   "outputs": [
    {
     "output_type": "execute_result",
     "data": {
      "text/plain": [
       "     con: array([], dtype=float64)\n",
       "     fun: 77.30220492866408\n",
       " message: 'Optimization terminated successfully.'\n",
       "     nit: 2\n",
       "   slack: array([4.4408921e-16, 4.4408921e-16])\n",
       "  status: 0\n",
       " success: True\n",
       "       x: array([0.        , 0.        , 0.68093385, 0.0920882 ])"
      ]
     },
     "metadata": {},
     "execution_count": 11
    }
   ],
   "source": [
    "opt = linprog(c=obj, A_ub=lhs_ineq, b_ub=rhs_ineq, bounds=bnd,\n",
    "              method=\"revised simplex\")\n",
    "opt"
   ]
  },
  {
   "cell_type": "code",
   "execution_count": null,
   "metadata": {},
   "outputs": [],
   "source": []
  }
 ]
}